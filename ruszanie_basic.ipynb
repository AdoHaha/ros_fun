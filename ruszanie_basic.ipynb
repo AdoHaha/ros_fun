{
 "cells": [
  {
   "cell_type": "code",
   "execution_count": 1,
   "id": "50ef8a5d",
   "metadata": {},
   "outputs": [
    {
     "name": "stderr",
     "output_type": "stream",
     "text": [
      "\n",
      "(lxterminal:1611): dbind-WARNING **: 15:16:24.836: AT-SPI: Error retrieving accessibility bus address: org.freedesktop.DBus.Error.ServiceUnknown: The name org.a11y.Bus was not provided by any .service files\n",
      "\n",
      "(lxterminal:1609): dbind-WARNING **: 15:16:24.836: AT-SPI: Error retrieving accessibility bus address: org.freedesktop.DBus.Error.ServiceUnknown: The name org.a11y.Bus was not provided by any .service files\n",
      "\n",
      "** (lxterminal:1611): WARNING **: 15:16:24.836: Bind on socket failed: Address already in use\n",
      "\n",
      "\n",
      "(lxterminal:1611): VTE-CRITICAL **: 15:16:24.939: void vte_terminal_match_set_cursor_type(VteTerminal*, int, GdkCursorType): assertion 'tag >= 0' failed\n",
      "\n",
      "(lxterminal:1609): VTE-CRITICAL **: 15:16:24.939: void vte_terminal_match_set_cursor_type(VteTerminal*, int, GdkCursorType): assertion 'tag >= 0' failed\n",
      "\n",
      "(lxterminal:1611): VTE-CRITICAL **: 15:16:24.939: void vte_terminal_match_set_cursor_type(VteTerminal*, int, GdkCursorType): assertion 'tag >= 0' failed\n",
      "\n",
      "(lxterminal:1609): VTE-CRITICAL **: 15:16:24.939: void vte_terminal_match_set_cursor_type(VteTerminal*, int, GdkCursorType): assertion 'tag >= 0' failed\n",
      "\n",
      "(lxterminal:1609): VTE-CRITICAL **: 15:17:06.485: void vte_terminal_match_set_cursor_type(VteTerminal*, int, GdkCursorType): assertion 'tag >= 0' failed\n",
      "\n",
      "(lxterminal:1609): VTE-CRITICAL **: 15:17:06.486: void vte_terminal_match_set_cursor_type(VteTerminal*, int, GdkCursorType): assertion 'tag >= 0' failed\n"
     ]
    }
   ],
   "source": [
    "from run_lx import run_lxterminal\n",
    "run_lxterminal(\"ros2 launch turtlebot3_gazebo turtlebot3_world.launch.py\")\n",
    "run_lxterminal(\"ros2 run turtlebot3_teleop teleop_keyboard\")"
   ]
  },
  {
   "cell_type": "code",
   "execution_count": null,
   "id": "c1c3d8dd",
   "metadata": {},
   "outputs": [],
   "source": []
  },
  {
   "cell_type": "code",
   "execution_count": 3,
   "id": "21f2910f",
   "metadata": {},
   "outputs": [],
   "source": [
    "import rclpy\n",
    "from rclpy.node import Node\n",
    "\n",
    "\n",
    "from geometry_msgs.msg import Twist\n",
    "\n",
    "class TurtleMover(Node): #here we define new node\n",
    "    ktory_punkt = 0\n",
    "    lista_punktow = [p1,p2,p3]\n",
    "    def __init__(self): \n",
    "        super().__init__('turtle_mover')\n",
    "        #we add publisher\n",
    "        self.publisher_ = self.create_publisher(Twist, \n",
    "                                                'turtle1/cmd_vel',\n",
    "                                                10)\n",
    "\n",
    "    \n",
    "    def move_turtle(self,twist_command): #we add helper function\n",
    "        self.publisher_.publish(twist_command)\n",
    "\n"
   ]
  },
  {
   "cell_type": "code",
   "execution_count": 4,
   "id": "bf49c0c5",
   "metadata": {},
   "outputs": [],
   "source": [
    "rclpy.init()"
   ]
  },
  {
   "cell_type": "code",
   "execution_count": 5,
   "id": "4beb1ad5",
   "metadata": {},
   "outputs": [],
   "source": [
    "turtle_mover = TurtleMover()\n"
   ]
  },
  {
   "cell_type": "code",
   "execution_count": 6,
   "id": "bdd21385",
   "metadata": {},
   "outputs": [
    {
     "name": "stderr",
     "output_type": "stream",
     "text": [
      "\n",
      "(lxterminal:2717): dbind-WARNING **: 15:33:55.102: AT-SPI: Error retrieving accessibility bus address: org.freedesktop.DBus.Error.ServiceUnknown: The name org.a11y.Bus was not provided by any .service files\n",
      "\n",
      "(lxterminal:1609): VTE-CRITICAL **: 15:33:55.142: void vte_terminal_match_set_cursor_type(VteTerminal*, int, GdkCursorType): assertion 'tag >= 0' failed\n",
      "\n",
      "(lxterminal:1609): VTE-CRITICAL **: 15:33:55.143: void vte_terminal_match_set_cursor_type(VteTerminal*, int, GdkCursorType): assertion 'tag >= 0' failed\n"
     ]
    }
   ],
   "source": [
    "run_lxterminal(\"ros2 launch turtlebot3_navigation2 navigation2.launch.py use_sim_time:=True map:=/home/ubuntu/turtlebot3_ws/src/jupyter_notebooks/map.yaml\")"
   ]
  },
  {
   "cell_type": "code",
   "execution_count": 11,
   "id": "a866d388",
   "metadata": {},
   "outputs": [],
   "source": [
    "#from geometry_msgs.action import \n",
    "from nav2_msgs.action import NavigateToPose\n",
    "from rclpy.action import ActionClient\n",
    "from geometry_msgs.msg import PoseStamped\n",
    "\n",
    "navigate_action = ActionClient(\n",
    "    turtle_mover, \n",
    "    NavigateToPose,\n",
    "    '/navigate_to_pose')\n",
    "\n",
    "\n",
    "def print_feedback_goal(future):\n",
    "    try:\n",
    "        print(\"feedback {}\".format(future.feedback))\n",
    "    except:\n",
    "        pass\n",
    "    \n",
    "def history_success(future):\n",
    "    print(\"done\")\n",
    "    print(\"we have achieved the goal {}, {}\".format(\n",
    "        future.result(),\n",
    "        future.result().result))\n",
    "    \n",
    "def received_task(future):\n",
    "    goal_handle =  future.result()\n",
    "    \n",
    "    if not goal_handle.accepted:\n",
    "        print(\"not accepted\")\n",
    "        return\n",
    "    else:\n",
    "        print(\"accepted goal\")\n",
    "    \n",
    "    get_result_future = goal_handle.get_result_async()\n",
    "    \n",
    "    get_result_future.add_done_callback(history_success)\n",
    "\n",
    "\n",
    "navigate_pose_goal = NavigateToPose.Goal()    \n",
    "goal_pose = PoseStamped()\n",
    "goal_pose.header.stamp = turtle_mover.get_clock().now().to_msg()\n",
    "goal_pose.pose.position.x = 4.0\n",
    "goal_pose.pose.position.y = 0.0\n",
    "goal_pose.pose.orientation.z = 0.7\n",
    "goal_pose.pose.orientation.w = 0.71\n",
    "navigate_pose_goal.pose = goal_pose\n",
    "goal_future_pose = navigate_action.send_goal_async(navigate_pose_goal,feedback_callback=print_feedback_goal)\n",
    "goal_future_pose.add_done_callback(received_task) "
   ]
  },
  {
   "cell_type": "code",
   "execution_count": null,
   "id": "b784a441",
   "metadata": {},
   "outputs": [
    {
     "name": "stdout",
     "output_type": "stream",
     "text": [
      "feedback nav2_msgs.action.NavigateToPose_Feedback(current_pose=geometry_msgs.msg.PoseStamped(header=std_msgs.msg.Header(stamp=builtin_interfaces.msg.Time(sec=595, nanosec=136000000), frame_id='map'), pose=geometry_msgs.msg.Pose(position=geometry_msgs.msg.Point(x=0.45105656094664814, y=0.0058870856763266755, z=0.010883090889014478), orientation=geometry_msgs.msg.Quaternion(x=-0.0001318375488881573, y=-1.6383634429044593e-05, z=-0.01580821730117929, w=0.999875033499785))), navigation_time=builtin_interfaces.msg.Duration(sec=0, nanosec=851000000), number_of_recoveries=0, distance_remaining=3.5489649772644043)\n",
      "accepted goal\n",
      "feedback nav2_msgs.action.NavigateToPose_Feedback(current_pose=geometry_msgs.msg.PoseStamped(header=std_msgs.msg.Header(stamp=builtin_interfaces.msg.Time(sec=595, nanosec=136000000), frame_id='map'), pose=geometry_msgs.msg.Pose(position=geometry_msgs.msg.Point(x=0.45105656094664814, y=0.0058870856763266755, z=0.010883090889014478), orientation=geometry_msgs.msg.Quaternion(x=-0.0001318375488881573, y=-1.6383634429044593e-05, z=-0.01580821730117929, w=0.999875033499785))), navigation_time=builtin_interfaces.msg.Duration(sec=0, nanosec=851000000), number_of_recoveries=0, distance_remaining=3.5489649772644043)\n",
      "done\n",
      "we have achieved the goal nav2_msgs.action.NavigateToPose_GetResult_Response(status=6, result=nav2_msgs.action.NavigateToPose_Result(result=std_msgs.msg.Empty())), nav2_msgs.action.NavigateToPose_Result(result=std_msgs.msg.Empty())\n"
     ]
    }
   ],
   "source": [
    "rclpy.spin(turtle_mover)    \n"
   ]
  },
  {
   "cell_type": "code",
   "execution_count": null,
   "id": "cb7d813e",
   "metadata": {},
   "outputs": [],
   "source": []
  }
 ],
 "metadata": {
  "kernelspec": {
   "display_name": "Python 3 (ipykernel)",
   "language": "python",
   "name": "python3"
  },
  "language_info": {
   "codemirror_mode": {
    "name": "ipython",
    "version": 3
   },
   "file_extension": ".py",
   "mimetype": "text/x-python",
   "name": "python",
   "nbconvert_exporter": "python",
   "pygments_lexer": "ipython3",
   "version": "3.8.10"
  }
 },
 "nbformat": 4,
 "nbformat_minor": 5
}

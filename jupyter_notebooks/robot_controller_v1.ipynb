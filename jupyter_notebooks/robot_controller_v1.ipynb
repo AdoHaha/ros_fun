{
 "cells": [
  {
   "cell_type": "code",
   "execution_count": null,
   "id": "e30eca52",
   "metadata": {},
   "outputs": [],
   "source": [
    "####\n",
    "\n",
    "# robocik zaczyna jeździć gdzieś, a ma później jeździć po kwadracie\n",
    "# zdefiniowanym przez a i x,y"
   ]
  },
  {
   "cell_type": "code",
   "execution_count": null,
   "id": "d06d104a",
   "metadata": {},
   "outputs": [],
   "source": [
    "import rclpy\n",
    "from rclpy.node import Node\n",
    "\n",
    "\n",
    "from geometry_msgs.msg import Twist, Pose\n",
    "\n",
    "class TurtleMover(Node): #here we define new node\n",
    "\n",
    "    def __init__(self,a,x,y): \n",
    "        super().__init__('turtle_mover')\n",
    "        #we add publisher\n",
    "        self.publisher_ = self.create_publisher(Twist, \n",
    "                                                'turtle1/cmd_vel',\n",
    "                                                10)\n",
    "        self.subscriber = ... # wywolujemy zapis pozy\n",
    "        \n",
    "        self.x = x\n",
    "        self.y = y\n",
    "        self.a = a\n",
    "        self.timer = ... # wywolujemy funkcje controlera\n",
    "        \n",
    "    def move_turtle(self,twist_command): #we add helper function\n",
    "        self.publisher_.publish(twist_command)\n",
    "    \n",
    "    def controler(...):\n",
    "        \"\"\"bierze poze, czas miejsce, ksztalt i robi kwadrat\"\"\"\n",
    "    def nowa_poza(...):\n",
    "        \"\"\"callback który przyjmuje poze i ja zapisuje\"\"\"\n"
   ]
  },
  {
   "cell_type": "code",
   "execution_count": null,
   "id": "28f5a39c",
   "metadata": {},
   "outputs": [],
   "source": [
    "turtle_mover = TurtleMover(2,1,1)\n"
   ]
  },
  {
   "cell_type": "code",
   "execution_count": null,
   "id": "9581f843",
   "metadata": {},
   "outputs": [],
   "source": [
    "rclpy.spin(turtle_mover) #start spinning the context\n"
   ]
  }
 ],
 "metadata": {
  "kernelspec": {
   "display_name": "Python 3 (ipykernel)",
   "language": "python",
   "name": "python3"
  },
  "language_info": {
   "codemirror_mode": {
    "name": "ipython",
    "version": 3
   },
   "file_extension": ".py",
   "mimetype": "text/x-python",
   "name": "python",
   "nbconvert_exporter": "python",
   "pygments_lexer": "ipython3",
   "version": "3.10.6"
  }
 },
 "nbformat": 4,
 "nbformat_minor": 5
}

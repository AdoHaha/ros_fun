{
 "cells": [
  {
   "cell_type": "markdown",
   "id": "8711e564",
   "metadata": {},
   "source": [
    "# ROS posiada zestaw narzędzi do symulacji robotów\n",
    "\n",
    "Otwórzmy nasze wirtualne środowisko i pokierujmyu robotem z klawiatury (możesz też otworzyć osobne okno przeglądarki i adres http://localhost:6080)\n",
    "\n",
    "Poczekaj aż otworzy się Gazebo (symulator robotów) jak też teleop terminal\n",
    "\n",
    "Klawisze:\n",
    "w, x - przód tył\n",
    "a, d lewo prawo\n",
    "s stop\n"
   ]
  },
  {
   "cell_type": "code",
   "execution_count": 1,
   "id": "d9c7030f",
   "metadata": {},
   "outputs": [
    {
     "data": {
      "text/html": [
       "\n",
       "        <iframe\n",
       "            width=\"800\"\n",
       "            height=\"450\"\n",
       "            src=\"http://localhost:6080\"\n",
       "            frameborder=\"0\"\n",
       "            allowfullscreen\n",
       "            \n",
       "        ></iframe>\n",
       "        "
      ],
      "text/plain": [
       "<IPython.lib.display.IFrame at 0x7f294f4a1780>"
      ]
     },
     "execution_count": 1,
     "metadata": {},
     "output_type": "execute_result"
    }
   ],
   "source": [
    "from IPython.display import IFrame\n",
    "\n",
    "IFrame(\"http://localhost:6080\", width=800, height=450)"
   ]
  },
  {
   "cell_type": "code",
   "execution_count": 2,
   "id": "76fa7cad",
   "metadata": {},
   "outputs": [],
   "source": [
    "from run_in_term import run_lxterminal"
   ]
  },
  {
   "cell_type": "code",
   "execution_count": 3,
   "id": "24452e87",
   "metadata": {},
   "outputs": [],
   "source": [
    "run_lxterminal(\"ros2 launch turtlebot3_gazebo turtlebot3_world.launch.py\")\n",
    "run_lxterminal(\"ros2 run turtlebot3_teleop teleop_keyboard\")"
   ]
  },
  {
   "cell_type": "markdown",
   "id": "4ce36907",
   "metadata": {},
   "source": [
    "# Obejrzyjmy obraz z kamery poprzez Rviz"
   ]
  },
  {
   "cell_type": "code",
   "execution_count": 11,
   "id": "9da48c95",
   "metadata": {},
   "outputs": [],
   "source": [
    "run_lxterminal(\n",
    "    \"ros2 run rviz2 rviz2 -d /home/ubuntu/turtlebot3_ws/src/jupyter_notebooks/turtlebot_kamera.rviz\"\n",
    ")"
   ]
  },
  {
   "cell_type": "markdown",
   "id": "b047b584",
   "metadata": {},
   "source": [
    "# Możemy jeszcze zobaczyć graf połączeń pomiędzy elementami:\n",
    "\n",
    "Uruchom rqt_gui i następnie wybierz plugins / instrospection / node graph"
   ]
  },
  {
   "cell_type": "code",
   "execution_count": 15,
   "id": "7a3098ee",
   "metadata": {},
   "outputs": [],
   "source": [
    "run_lxterminal(\"ros2 run rqt_gui rqt_gui\")"
   ]
  },
  {
   "cell_type": "markdown",
   "id": "c42c6a0a",
   "metadata": {},
   "source": [
    "Samo narzędzie może nam też zwizualizować co się dzieje z robotem\n",
    "\n",
    "wybierz **plugins/ visualisation / plot**\n",
    "w topic wybierz: **/odom/pose/pose/position**\n",
    "\n",
    "Porusz robotem z teleop. Co się zmienia?"
   ]
  },
  {
   "cell_type": "markdown",
   "id": "4572dd18",
   "metadata": {},
   "source": [
    "# Wyślijmy może jeszcze z rqt_gui polecenie prędkości"
   ]
  },
  {
   "cell_type": "markdown",
   "id": "82560b4b",
   "metadata": {},
   "source": [
    "wybierz **plugins/ topics/ Message Publisher**\n",
    "ustaw topic na **/cmd_vel**\n",
    "type na **geometry_msgs/msg/Twist**\n",
    "dodaj plusikiem\n",
    "zmień np. x na 0.1\n",
    "i wybierz publish selected once"
   ]
  },
  {
   "cell_type": "markdown",
   "id": "bc600b32",
   "metadata": {},
   "source": [
    "Zatrzymaj robota wysyłając x z wartością 0"
   ]
  },
  {
   "cell_type": "markdown",
   "id": "f36bb5e8",
   "metadata": {},
   "source": [
    "[Next exercise: 3. ROS Topic - Publisher](3.%20ROS%20Topic%20-%20Publisher.ipynb)"
   ]
  }
 ],
 "metadata": {
  "kernelspec": {
   "display_name": "Python 3 (ipykernel)",
   "language": "python",
   "name": "python3"
  },
  "language_info": {
   "codemirror_mode": {
    "name": "ipython",
    "version": 3
   },
   "file_extension": ".py",
   "mimetype": "text/x-python",
   "name": "python",
   "nbconvert_exporter": "python",
   "pygments_lexer": "ipython3",
   "version": "3.7.3"
  }
 },
 "nbformat": 4,
 "nbformat_minor": 5
}

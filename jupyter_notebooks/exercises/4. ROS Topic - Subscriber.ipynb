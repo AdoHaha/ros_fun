{
 "cells": [
  {
   "cell_type": "markdown",
   "id": "36e7c22e",
   "metadata": {},
   "source": [
    "# Subscriber\n",
    "\n",
    "Subscriber to drugi obiekt, który obsługuje odczytywanie wiadomości pojawiających się na *topicu*.\n",
    "\n",
    "Wiadomości przychodzą asynchronicznie tj. nie wiemy kiedy przyjdą, dlatego potrzebujemy funkcji w formie *callbacku* która obsłuży przychodzącą wiadomość (i coś z nią zrobi).\n",
    "\n",
    "Zróbmy najprostszy callback który po prostu printuje wiadomosc *obrobka_wiadomosci*"
   ]
  },
  {
   "cell_type": "code",
   "execution_count": 2,
   "id": "8d4b913b",
   "metadata": {},
   "outputs": [],
   "source": [
    "from run_in_term import run_lxterminal"
   ]
  },
  {
   "cell_type": "code",
   "execution_count": 8,
   "id": "ed154a79",
   "metadata": {},
   "outputs": [],
   "source": [
    "import rclpy\n",
    "from rclpy.node import Node\n",
    "\n",
    "from std_msgs.msg import String\n",
    "\n",
    "\n",
    "class MinimalNode(Node):\n",
    "\n",
    "    def __init__(self):\n",
    "        super().__init__('minimal_subscriber')\n",
    "    \n",
    "\n",
    "\n",
    "rclpy.init()\n",
    "\n",
    "minimal_node = MinimalNode()\n"
   ]
  },
  {
   "cell_type": "code",
   "execution_count": 9,
   "id": "1a4c9092",
   "metadata": {},
   "outputs": [],
   "source": [
    "def obrobka_wiadomosci(wiadomosc):\n",
    "    print(\"przyszla wiadomosc\", wiadomosc.data)"
   ]
  },
  {
   "cell_type": "code",
   "execution_count": 6,
   "id": "3d0546f3",
   "metadata": {},
   "outputs": [],
   "source": [
    "# Podobnie jak poprzednio, przy tworzeniu obiektu subscriber potrzebujemy powiedzieć jaki typ wiadomości i jaki topic\n",
    "# subskrybujemy. Dodatkowym argumentem jest callback function tj. funkcja którą uruchomimy jak przyjdzie wiadomość"
   ]
  },
  {
   "cell_type": "code",
   "execution_count": 4,
   "id": "e2d26ba8",
   "metadata": {},
   "outputs": [],
   "source": [
    "subscription = minimal_node.create_subscription(String, 'wiadomosc', obrobka_wiadomosci, 10)"
   ]
  },
  {
   "cell_type": "markdown",
   "id": "9e4b0775",
   "metadata": {},
   "source": [
    "# Spinujmy :-)\n",
    "tak jak timer, musimy spinować aby przyjmować wiadomosci. Tym razem wykorzystamy spin_once, które po otrzymaniu jednej wiadomości \n",
    "\n",
    "Wykorzystując poprzedni notebook, wyślij jakąś wiadomość na ten topic.\n",
    "\n",
    "Samo spinowanie jest blokujące i może nam utrudnić interakcje"
   ]
  },
  {
   "cell_type": "code",
   "execution_count": 10,
   "id": "102b36f4",
   "metadata": {},
   "outputs": [
    {
     "name": "stdout",
     "output_type": "stream",
     "text": [
      "przyszla wiadomosc hello world5\n"
     ]
    }
   ],
   "source": [
    "rclpy.spin_once(minimal_node)"
   ]
  },
  {
   "cell_type": "markdown",
   "id": "a469a45b",
   "metadata": {},
   "source": [
    "# Spinujmy w odrębnym wątku \n",
    "\n",
    "Możemy skonstruować osobny wątek do obsługi spin"
   ]
  },
  {
   "cell_type": "code",
   "execution_count": 12,
   "id": "ac4a4ce8",
   "metadata": {},
   "outputs": [],
   "source": [
    "import threading\n",
    "\n",
    "class ThreadedSpinner():\n",
    "  \n",
    "    def __init__(self, node: Node) -> None:\n",
    "    \n",
    "        self.node = node\n",
    "\n",
    "    def __thread_target(self) -> None:\n",
    "        while self.__thread_state:\n",
    "            rclpy.spin_once(self.node, timeout_sec=0.1)\n",
    "\n",
    "    def stop(self) -> None:\n",
    "        self.__thread_state = False\n",
    "        print(\"stopped spinning in thread\")\n",
    "\n",
    "    def spin_in_thread(self) -> None:\n",
    "        self.__thread_state = True\n",
    "        local_thread = threading.Thread(target=self.__thread_target)\n",
    "        local_thread.start()"
   ]
  },
  {
   "cell_type": "code",
   "execution_count": 15,
   "id": "634de152",
   "metadata": {},
   "outputs": [],
   "source": [
    "threaded_spinner = ThreadedSpinner(minimal_node)"
   ]
  },
  {
   "cell_type": "code",
   "execution_count": 16,
   "id": "b7f20c0a",
   "metadata": {},
   "outputs": [
    {
     "name": "stdout",
     "output_type": "stream",
     "text": [
      "przyszla wiadomosc hello world5\n"
     ]
    }
   ],
   "source": [
    "threaded_spinner.spin_in_thread()"
   ]
  },
  {
   "cell_type": "markdown",
   "id": "6d461076",
   "metadata": {},
   "source": [
    "Wyślij w osobnej konsoli"
   ]
  },
  {
   "cell_type": "code",
   "execution_count": 19,
   "id": "135ae675",
   "metadata": {},
   "outputs": [],
   "source": [
    "threaded_spinner.stop()\n",
    "minimal_node.destroy_subscription(subscription)"
   ]
  },
  {
   "cell_type": "code",
   "execution_count": null,
   "id": "bc27f361",
   "metadata": {},
   "outputs": [],
   "source": [
    "# Ćwiczenie: zapisz stan wiadomości do zmiennej (globalnej lub utwórz obiekt) najnowsza_wiadomosc.\n",
    "\n",
    "print(najnowsza_wiadomosc)"
   ]
  },
  {
   "cell_type": "code",
   "execution_count": 18,
   "id": "7593e4fa",
   "metadata": {},
   "outputs": [],
   "source": [
    "# Ćwiczenie 2 podejrzyjmy wiadomość na kanale scan: jest to wiadomość typu sensor_msgs/msg/LaserScan\n",
    "# skonstruuj subscribera i wyswietl \n",
    "\n",
    "from sensor_msgs.msg import LaserScan\n",
    "\n",
    "def wyswietl_laser(wiadomosc_laser):\n",
    "    pass\n",
    "\n",
    "subscriber_laser = ...\n",
    "\n",
    "\n"
   ]
  },
  {
   "cell_type": "code",
   "execution_count": 6,
   "id": "8ba7dbef",
   "metadata": {},
   "outputs": [],
   "source": [
    "threaded_spinner = ThreadedSpinner(minimal_node)"
   ]
  },
  {
   "cell_type": "code",
   "execution_count": 22,
   "id": "5f854e88",
   "metadata": {},
   "outputs": [
    {
     "name": "stdout",
     "output_type": "stream",
     "text": [
      "Defaulting to user installation because normal site-packages is not writeable\n",
      "Collecting bqplot\n",
      "  Downloading bqplot-0.12.39-py2.py3-none-any.whl (1.2 MB)\n",
      "\u001b[2K     \u001b[90m━━━━━━━━━━━━━━━━━━━━━━━━━━━━━━━━━━━━━━━━\u001b[0m \u001b[32m1.2/1.2 MB\u001b[0m \u001b[31m4.1 MB/s\u001b[0m eta \u001b[36m0:00:00\u001b[0m00:01\u001b[0m00:01\u001b[0m\n",
      "\u001b[?25hRequirement already satisfied: ipywidgets<9,>=7.5.0 in /usr/local/lib/python3.10/dist-packages (from bqplot) (8.0.6)\n",
      "Requirement already satisfied: traitlets>=4.3.0 in /usr/local/lib/python3.10/dist-packages (from bqplot) (5.9.0)\n",
      "Collecting traittypes>=0.0.6 (from bqplot)\n",
      "  Downloading traittypes-0.2.1-py2.py3-none-any.whl (8.6 kB)\n",
      "Requirement already satisfied: numpy<2.0.0,>=1.10.4 in /usr/local/lib/python3.10/dist-packages (from bqplot) (1.25.0)\n",
      "Collecting pandas<3.0.0,>=1.0.0 (from bqplot)\n",
      "  Downloading pandas-2.0.2-cp310-cp310-manylinux_2_17_x86_64.manylinux2014_x86_64.whl (12.3 MB)\n",
      "\u001b[2K     \u001b[90m━━━━━━━━━━━━━━━━━━━━━━━━━━━━━━━━━━━━━━━━\u001b[0m \u001b[32m12.3/12.3 MB\u001b[0m \u001b[31m8.5 MB/s\u001b[0m eta \u001b[36m0:00:00\u001b[0m:00:01\u001b[0m00:01\u001b[0m\n",
      "\u001b[?25hRequirement already satisfied: ipykernel>=4.5.1 in /usr/local/lib/python3.10/dist-packages (from ipywidgets<9,>=7.5.0->bqplot) (6.23.2)\n",
      "Requirement already satisfied: ipython>=6.1.0 in /usr/local/lib/python3.10/dist-packages (from ipywidgets<9,>=7.5.0->bqplot) (8.14.0)\n",
      "Requirement already satisfied: widgetsnbextension~=4.0.7 in /usr/local/lib/python3.10/dist-packages (from ipywidgets<9,>=7.5.0->bqplot) (4.0.7)\n",
      "Requirement already satisfied: jupyterlab-widgets~=3.0.7 in /usr/local/lib/python3.10/dist-packages (from ipywidgets<9,>=7.5.0->bqplot) (3.0.7)\n",
      "Requirement already satisfied: python-dateutil>=2.8.2 in /usr/local/lib/python3.10/dist-packages (from pandas<3.0.0,>=1.0.0->bqplot) (2.8.2)\n",
      "Requirement already satisfied: pytz>=2020.1 in /usr/lib/python3/dist-packages (from pandas<3.0.0,>=1.0.0->bqplot) (2022.1)\n",
      "Collecting tzdata>=2022.1 (from pandas<3.0.0,>=1.0.0->bqplot)\n",
      "  Downloading tzdata-2023.3-py2.py3-none-any.whl (341 kB)\n",
      "\u001b[2K     \u001b[90m━━━━━━━━━━━━━━━━━━━━━━━━━━━━━━━━━━━━━━━\u001b[0m \u001b[32m341.8/341.8 kB\u001b[0m \u001b[31m3.5 MB/s\u001b[0m eta \u001b[36m0:00:00\u001b[0m00:01\u001b[0m00:01\u001b[0m\n",
      "\u001b[?25hRequirement already satisfied: comm>=0.1.1 in /usr/local/lib/python3.10/dist-packages (from ipykernel>=4.5.1->ipywidgets<9,>=7.5.0->bqplot) (0.1.3)\n",
      "Requirement already satisfied: debugpy>=1.6.5 in /usr/local/lib/python3.10/dist-packages (from ipykernel>=4.5.1->ipywidgets<9,>=7.5.0->bqplot) (1.6.7)\n",
      "Requirement already satisfied: jupyter-client>=6.1.12 in /usr/local/lib/python3.10/dist-packages (from ipykernel>=4.5.1->ipywidgets<9,>=7.5.0->bqplot) (8.2.0)\n",
      "Requirement already satisfied: jupyter-core!=5.0.*,>=4.12 in /usr/local/lib/python3.10/dist-packages (from ipykernel>=4.5.1->ipywidgets<9,>=7.5.0->bqplot) (5.3.1)\n",
      "Requirement already satisfied: matplotlib-inline>=0.1 in /usr/local/lib/python3.10/dist-packages (from ipykernel>=4.5.1->ipywidgets<9,>=7.5.0->bqplot) (0.1.6)\n",
      "Requirement already satisfied: nest-asyncio in /usr/local/lib/python3.10/dist-packages (from ipykernel>=4.5.1->ipywidgets<9,>=7.5.0->bqplot) (1.5.6)\n",
      "Requirement already satisfied: packaging in /usr/lib/python3/dist-packages (from ipykernel>=4.5.1->ipywidgets<9,>=7.5.0->bqplot) (21.3)\n",
      "Requirement already satisfied: psutil in /usr/lib/python3/dist-packages (from ipykernel>=4.5.1->ipywidgets<9,>=7.5.0->bqplot) (5.9.0)\n",
      "Requirement already satisfied: pyzmq>=20 in /usr/local/lib/python3.10/dist-packages (from ipykernel>=4.5.1->ipywidgets<9,>=7.5.0->bqplot) (25.1.0)\n",
      "Requirement already satisfied: tornado>=6.1 in /usr/local/lib/python3.10/dist-packages (from ipykernel>=4.5.1->ipywidgets<9,>=7.5.0->bqplot) (6.3.2)\n",
      "Requirement already satisfied: backcall in /usr/local/lib/python3.10/dist-packages (from ipython>=6.1.0->ipywidgets<9,>=7.5.0->bqplot) (0.2.0)\n",
      "Requirement already satisfied: decorator in /usr/lib/python3/dist-packages (from ipython>=6.1.0->ipywidgets<9,>=7.5.0->bqplot) (4.4.2)\n",
      "Requirement already satisfied: jedi>=0.16 in /usr/local/lib/python3.10/dist-packages (from ipython>=6.1.0->ipywidgets<9,>=7.5.0->bqplot) (0.18.2)\n",
      "Requirement already satisfied: pickleshare in /usr/local/lib/python3.10/dist-packages (from ipython>=6.1.0->ipywidgets<9,>=7.5.0->bqplot) (0.7.5)\n",
      "Requirement already satisfied: prompt-toolkit!=3.0.37,<3.1.0,>=3.0.30 in /usr/local/lib/python3.10/dist-packages (from ipython>=6.1.0->ipywidgets<9,>=7.5.0->bqplot) (3.0.38)\n",
      "Requirement already satisfied: pygments>=2.4.0 in /usr/lib/python3/dist-packages (from ipython>=6.1.0->ipywidgets<9,>=7.5.0->bqplot) (2.11.2)\n",
      "Requirement already satisfied: stack-data in /usr/local/lib/python3.10/dist-packages (from ipython>=6.1.0->ipywidgets<9,>=7.5.0->bqplot) (0.6.2)\n",
      "Requirement already satisfied: pexpect>4.3 in /usr/lib/python3/dist-packages (from ipython>=6.1.0->ipywidgets<9,>=7.5.0->bqplot) (4.8.0)\n",
      "Requirement already satisfied: six>=1.5 in /usr/lib/python3/dist-packages (from python-dateutil>=2.8.2->pandas<3.0.0,>=1.0.0->bqplot) (1.16.0)\n",
      "Requirement already satisfied: parso<0.9.0,>=0.8.0 in /usr/local/lib/python3.10/dist-packages (from jedi>=0.16->ipython>=6.1.0->ipywidgets<9,>=7.5.0->bqplot) (0.8.3)\n",
      "Requirement already satisfied: platformdirs>=2.5 in /usr/local/lib/python3.10/dist-packages (from jupyter-core!=5.0.*,>=4.12->ipykernel>=4.5.1->ipywidgets<9,>=7.5.0->bqplot) (3.6.0)\n",
      "Requirement already satisfied: wcwidth in /usr/local/lib/python3.10/dist-packages (from prompt-toolkit!=3.0.37,<3.1.0,>=3.0.30->ipython>=6.1.0->ipywidgets<9,>=7.5.0->bqplot) (0.2.6)\n",
      "Requirement already satisfied: executing>=1.2.0 in /usr/local/lib/python3.10/dist-packages (from stack-data->ipython>=6.1.0->ipywidgets<9,>=7.5.0->bqplot) (1.2.0)\n",
      "Requirement already satisfied: asttokens>=2.1.0 in /usr/local/lib/python3.10/dist-packages (from stack-data->ipython>=6.1.0->ipywidgets<9,>=7.5.0->bqplot) (2.2.1)\n",
      "Requirement already satisfied: pure-eval in /usr/local/lib/python3.10/dist-packages (from stack-data->ipython>=6.1.0->ipywidgets<9,>=7.5.0->bqplot) (0.2.2)\n",
      "Installing collected packages: tzdata, traittypes, pandas, bqplot\n",
      "Successfully installed bqplot-0.12.39 pandas-2.0.2 traittypes-0.2.1 tzdata-2023.3\n"
     ]
    }
   ],
   "source": [
    "!pip install bqplot"
   ]
  },
  {
   "cell_type": "code",
   "execution_count": 2,
   "id": "1a705566",
   "metadata": {},
   "outputs": [],
   "source": [
    "%matplotlib inline"
   ]
  },
  {
   "cell_type": "code",
   "execution_count": null,
   "id": "5ffdc61b",
   "metadata": {},
   "outputs": [],
   "source": []
  },
  {
   "cell_type": "markdown",
   "id": "aae5384a",
   "metadata": {},
   "source": [
    "# Możemy nawet wizualizować dane bezpośrednio w Jupyterze\n",
    "we can visualise the laser data even inside jupyter"
   ]
  },
  {
   "cell_type": "code",
   "execution_count": 46,
   "id": "94fb4c69",
   "metadata": {},
   "outputs": [
    {
     "data": {
      "application/vnd.jupyter.widget-view+json": {
       "model_id": "470ef339d11149a7ba1e5dd206817e0f",
       "version_major": 2,
       "version_minor": 0
      },
      "text/plain": [
       "FloatSlider(value=3.8, max=3.8)"
      ]
     },
     "execution_count": 46,
     "metadata": {},
     "output_type": "execute_result"
    }
   ],
   "source": [
    "from ipywidgets import FloatSlider\n",
    "\n",
    "dystans_widget  = FloatSlider(value = 3.8, min = 0, max = 3.8)\n",
    "\n",
    "dystans_widget"
   ]
  },
  {
   "cell_type": "code",
   "execution_count": 10,
   "id": "69dadae7",
   "metadata": {},
   "outputs": [
    {
     "data": {
      "application/vnd.jupyter.widget-view+json": {
       "model_id": "964bbf56efc1494e9eed8627bed257a5",
       "version_major": 2,
       "version_minor": 0
      },
      "text/plain": [
       "VBox(children=(Figure(axes=[Axis(scale=LinearScale()), Axis(orientation='vertical', scale=LinearScale())], fig…"
      ]
     },
     "metadata": {},
     "output_type": "display_data"
    }
   ],
   "source": [
    "import bqplot.pyplot as plt\n",
    "import numpy as np\n",
    "\n",
    "fig = plt.figure(title=\"Laser Plot\")\n",
    "\n",
    "x = np.linspace(0, 360, 360)\n",
    "y = np.sin(x)\n",
    "curve = plt.plot(x, 10*np.cos(y))\n",
    "\n",
    "plt.show()"
   ]
  },
  {
   "cell_type": "code",
   "execution_count": 51,
   "id": "f2f5ad2f",
   "metadata": {},
   "outputs": [
    {
     "name": "stdout",
     "output_type": "stream",
     "text": [
      "array('f')\n"
     ]
    }
   ],
   "source": [
    "from sensor_msgs.msg import LaserScan\n",
    "\n",
    "print(LaserScan().ranges)\n",
    "\n",
    "def update_laser_plot(laser_data):\n",
    "    global ranges\n",
    "    global laser_data_g\n",
    "    laser_data_g = laser_data\n",
    "    \n",
    "    ranges = np.array(laser_data.ranges)\n",
    "    \n",
    "    #filter infts\n",
    "    ranges[~np.isfinite(ranges)] = laser_data.range_max # set more than range\n",
    "    \n",
    "    with curve.hold_sync():\n",
    "        curve.x = x\n",
    "        curve.y = np.array(ranges)\n",
    "    \n",
    "    single_distance = ranges[0]\n",
    "    \n",
    "    dystans_widget.value = single_distance\n",
    "    \n",
    "subscriber_laser = minimal_node.create_subscription(LaserScan, 'scan', update_laser_plot, 1)\n"
   ]
  },
  {
   "cell_type": "code",
   "execution_count": 34,
   "id": "bee28b66",
   "metadata": {},
   "outputs": [
    {
     "data": {
      "text/plain": [
       "3.5"
      ]
     },
     "execution_count": 34,
     "metadata": {},
     "output_type": "execute_result"
    }
   ],
   "source": [
    "laser_data_g.range_max"
   ]
  },
  {
   "cell_type": "code",
   "execution_count": 13,
   "id": "e27d451d",
   "metadata": {},
   "outputs": [],
   "source": [
    "threaded_spinner = ThreadedSpinner(minimal_node)"
   ]
  },
  {
   "cell_type": "code",
   "execution_count": 28,
   "id": "df9d5892",
   "metadata": {},
   "outputs": [],
   "source": []
  },
  {
   "cell_type": "code",
   "execution_count": 52,
   "id": "d44ea147",
   "metadata": {},
   "outputs": [],
   "source": [
    "threaded_spinner.spin_in_thread()"
   ]
  },
  {
   "cell_type": "code",
   "execution_count": 53,
   "id": "c4944162",
   "metadata": {},
   "outputs": [
    {
     "name": "stdout",
     "output_type": "stream",
     "text": [
      "stopped spinning in thread\n"
     ]
    },
    {
     "data": {
      "text/plain": [
       "True"
      ]
     },
     "execution_count": 53,
     "metadata": {},
     "output_type": "execute_result"
    }
   ],
   "source": [
    "threaded_spinner.stop()\n",
    "minimal_node.destroy_subscription(subscriber_laser)"
   ]
  },
  {
   "cell_type": "code",
   "execution_count": 4,
   "id": "2480d44b",
   "metadata": {},
   "outputs": [
    {
     "name": "stdout",
     "output_type": "stream",
     "text": [
      "The Tornado web server and tools.\n"
     ]
    }
   ],
   "source": [
    "# możemy też zobaczyć co jest najblizej nas\n",
    "\n",
    "import tornado\n",
    "print(tornado.__doc__)"
   ]
  },
  {
   "cell_type": "markdown",
   "id": "4f0a0e70",
   "metadata": {},
   "source": [
    "# Możemy łączyć subskrybery i publishery\n",
    "We can connect subscriber and publisher\n",
    "\n",
    "Excercise:\n",
    "Make the robot stop (send command velocity zero to cmd_vel when front distance to the obstacle is less than some value\n",
    "Zatrzymaj robocika (poprzez cmd_vel) jeśli odległość od przeszkody jest mniejsza niż jakaś wartość"
   ]
  },
  {
   "cell_type": "code",
   "execution_count": null,
   "id": "9ab5e008",
   "metadata": {},
   "outputs": [],
   "source": [
    "# Excercise\n",
    "\n",
    "from geometry_msgs.msg import Twist\n",
    "\n",
    "\n",
    "zatrzymaj_predkosc = Twist()\n",
    "\n",
    "\n",
    "publisher_cmd_vel = minimal_node.create_publisher(Twist, 'cmd_vel', 10)\n"
   ]
  },
  {
   "cell_type": "code",
   "execution_count": 38,
   "id": "c62b89e7",
   "metadata": {},
   "outputs": [],
   "source": [
    "def laser_stopper(laser_data):\n",
    "    \n",
    "    ranges = np.array(laser_data.ranges)\n",
    "    \n",
    "    #filter infts\n",
    "    ranges[~np.isfinite(ranges)] = laser_data.range_max # set more than range\n",
    "    \n",
    "    front_distance = ranges[0]\n",
    "    \n",
    "    # make reasonable rule\n",
    "    # if\n",
    "        #publisher_cmd_vel.publish(zatrzymaj_predkosc)"
   ]
  },
  {
   "cell_type": "code",
   "execution_count": null,
   "id": "0ea144db",
   "metadata": {},
   "outputs": [],
   "source": [
    "subscriber_laser_stopper = minimal_node.create_subscription(LaserScan, 'scan', laser_stopper, 1)\n"
   ]
  },
  {
   "cell_type": "code",
   "execution_count": null,
   "id": "b3cb99cd",
   "metadata": {},
   "outputs": [],
   "source": [
    "threaded_spinner.spin_in_thread()"
   ]
  },
  {
   "cell_type": "code",
   "execution_count": null,
   "id": "04861b40",
   "metadata": {},
   "outputs": [],
   "source": [
    "threaded_spinner.stop()\n",
    "minimal_node.destroy_subscription(subscriber_laser_stopper)"
   ]
  },
  {
   "cell_type": "markdown",
   "id": "5162fcba",
   "metadata": {},
   "source": [
    "Teraz np. z poprzedniego notebooka wyślij robota na spotkanie ze ścianą"
   ]
  },
  {
   "cell_type": "markdown",
   "id": "f83354ca",
   "metadata": {},
   "source": [
    "[Next notebook](5. ROS Service.ipynb)"
   ]
  },
  {
   "cell_type": "markdown",
   "id": "24e15ec1",
   "metadata": {},
   "source": [
    "[Next exercise: 5. ROS Service](5.%20ROS%20Service.ipynb)"
   ]
  }
 ],
 "metadata": {
  "kernelspec": {
   "display_name": "Python 3 (ipykernel)",
   "language": "python",
   "name": "python3"
  },
  "language_info": {
   "codemirror_mode": {
    "name": "ipython",
    "version": 3
   },
   "file_extension": ".py",
   "mimetype": "text/x-python",
   "name": "python",
   "nbconvert_exporter": "python",
   "pygments_lexer": "ipython3",
   "version": "3.10.6"
  }
 },
 "nbformat": 4,
 "nbformat_minor": 5
}

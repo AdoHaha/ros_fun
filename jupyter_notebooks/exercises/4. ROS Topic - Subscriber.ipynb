{
 "cells": [
  {
   "cell_type": "markdown",
   "id": "4298998b",
   "metadata": {},
   "source": [
    "# Subscriber\n",
    "\n",
    "Subscriber to drugi obiekt, który obsługuje odczytywanie wiadomości pojawiających się na *topicu*.\n",
    "\n",
    "Wiadomości przychodzą asynchronicznie tj. nie wiemy kiedy przyjdą, dlatego potrzebujemy funkcji w formie *callbacku* która obsłuży przychodzącą wiadomość (i coś z nią zrobi).\n",
    "\n",
    "Zróbmy najprostszy callback który po prostu printuje wiadomosc *obrobka_wiadomosci*"
   ]
  },
  {
   "cell_type": "code",
   "execution_count": 2,
   "id": "a2d65f9c",
   "metadata": {},
   "outputs": [],
   "source": [
    "from run_in_term import run_lxterminal"
   ]
  },
  {
   "cell_type": "code",
   "execution_count": 8,
   "id": "3bc23a37",
   "metadata": {},
   "outputs": [],
   "source": [
    "import rclpy\n",
    "from rclpy.node import Node\n",
    "\n",
    "from std_msgs.msg import String\n",
    "\n",
    "\n",
    "class MinimalNode(Node):\n",
    "    def __init__(self):\n",
    "        super().__init__(\"minimal_subscriber\")\n",
    "\n",
    "\n",
    "rclpy.init()\n",
    "\n",
    "minimal_node = MinimalNode()"
   ]
  },
  {
   "cell_type": "code",
   "execution_count": 9,
   "id": "5807e9ce",
   "metadata": {},
   "outputs": [],
   "source": [
    "def obrobka_wiadomosci(wiadomosc):\n",
    "    print(\"przyszla wiadomosc\", wiadomosc.data)"
   ]
  },
  {
   "cell_type": "code",
   "execution_count": 6,
   "id": "3e113f42",
   "metadata": {},
   "outputs": [],
   "source": [
    "# Podobnie jak poprzednio, przy tworzeniu obiektu subscriber potrzebujemy powiedzieć jaki typ wiadomości i jaki topic\n",
    "# subskrybujemy. Dodatkowym argumentem jest callback function tj. funkcja którą uruchomimy jak przyjdzie wiadomość"
   ]
  },
  {
   "cell_type": "code",
   "execution_count": 4,
   "id": "392301ba",
   "metadata": {},
   "outputs": [],
   "source": [
    "subscription = minimal_node.create_subscription(\n",
    "    String, \"wiadomosc\", obrobka_wiadomosci, 10\n",
    ")"
   ]
  },
  {
   "cell_type": "markdown",
   "id": "7939750c",
   "metadata": {},
   "source": [
    "# Spinujmy :-)\n",
    "tak jak timer, musimy spinować aby przyjmować wiadomosci. Tym razem wykorzystamy spin_once, które po otrzymaniu jednej wiadomości \n",
    "\n",
    "Wykorzystując poprzedni notebook, wyślij jakąś wiadomość na ten topic.\n",
    "\n",
    "Samo spinowanie jest blokujące i może nam utrudnić interakcje"
   ]
  },
  {
   "cell_type": "code",
   "execution_count": 10,
   "id": "d88efcf5",
   "metadata": {},
   "outputs": [
    {
     "name": "stdout",
     "output_type": "stream",
     "text": [
      "przyszla wiadomosc hello world5\n"
     ]
    }
   ],
   "source": [
    "rclpy.spin_once(minimal_node)"
   ]
  },
  {
   "cell_type": "markdown",
   "id": "a947725f",
   "metadata": {},
   "source": [
    "# Spinujmy w odrębnym wątku \n",
    "\n",
    "Możemy skonstruować osobny wątek do obsługi spin"
   ]
  },
  {
   "cell_type": "code",
   "execution_count": 12,
   "id": "af67a2ec",
   "metadata": {},
   "outputs": [],
   "source": [
    "import threading\n",
    "\n",
    "\n",
    "class ThreadedSpinner:\n",
    "    def __init__(self, node: Node) -> None:\n",
    "        self.node = node\n",
    "\n",
    "    def __thread_target(self) -> None:\n",
    "        while self.__thread_state:\n",
    "            rclpy.spin_once(self.node, timeout_sec=0.1)\n",
    "\n",
    "    def stop(self) -> None:\n",
    "        self.__thread_state = False\n",
    "        print(\"stopped spinning in thread\")\n",
    "\n",
    "    def spin_in_thread(self) -> None:\n",
    "        self.__thread_state = True\n",
    "        local_thread = threading.Thread(target=self.__thread_target)\n",
    "        local_thread.start()"
   ]
  },
  {
   "cell_type": "code",
   "execution_count": 15,
   "id": "179462b2",
   "metadata": {},
   "outputs": [],
   "source": [
    "threaded_spinner = ThreadedSpinner(minimal_node)"
   ]
  },
  {
   "cell_type": "code",
   "execution_count": 16,
   "id": "b79cc11b",
   "metadata": {},
   "outputs": [
    {
     "name": "stdout",
     "output_type": "stream",
     "text": [
      "przyszla wiadomosc hello world5\n"
     ]
    }
   ],
   "source": [
    "threaded_spinner.spin_in_thread()"
   ]
  },
  {
   "cell_type": "markdown",
   "id": "1e937e43",
   "metadata": {},
   "source": [
    "Wyślij w osobnej konsoli"
   ]
  },
  {
   "cell_type": "code",
   "execution_count": 19,
   "id": "2203c1d3",
   "metadata": {},
   "outputs": [],
   "source": [
    "threaded_spinner.stop()\n",
    "minimal_node.destroy_subscription(subscription)"
   ]
  },
  {
   "cell_type": "code",
   "execution_count": null,
   "id": "6f1f3512",
   "metadata": {},
   "outputs": [],
   "source": [
    "# Ćwiczenie: zapisz stan wiadomości do zmiennej (globalnej lub utwórz obiekt) najnowsza_wiadomosc.\n",
    "\n",
    "print(najnowsza_wiadomosc)"
   ]
  },
  {
   "cell_type": "code",
   "execution_count": 18,
   "id": "c8cae578",
   "metadata": {},
   "outputs": [],
   "source": [
    "# Ćwiczenie 2 podejrzyjmy wiadomość na kanale scan: jest to wiadomość typu sensor_msgs/msg/LaserScan\n",
    "# skonstruuj subscribera i wyswietl\n",
    "\n",
    "from sensor_msgs.msg import LaserScan\n",
    "\n",
    "\n",
    "def wyswietl_laser(wiadomosc_laser):\n",
    "    pass\n",
    "\n",
    "\n",
    "subscriber_laser = ..."
   ]
  },
  {
   "cell_type": "code",
   "execution_count": 6,
   "id": "dd31eb69",
   "metadata": {},
   "outputs": [],
   "source": [
    "threaded_spinner = ThreadedSpinner(minimal_node)"
   ]
  },
  {
   "cell_type": "code",
   "execution_count": 1,
   "id": "7ce3366e",
   "metadata": {},
   "outputs": [],
   "source": [
    "#!pip install bqplot"
   ]
  },
  {
   "cell_type": "code",
   "execution_count": 2,
   "id": "1a7f6262",
   "metadata": {},
   "outputs": [],
   "source": [
    "%matplotlib inline"
   ]
  },
  {
   "cell_type": "code",
   "execution_count": null,
   "id": "03c9351d",
   "metadata": {},
   "outputs": [],
   "source": []
  },
  {
   "cell_type": "markdown",
   "id": "69d94b13",
   "metadata": {},
   "source": [
    "# Możemy nawet wizualizować dane bezpośrednio w Jupyterze\n",
    "we can visualise the laser data even inside jupyter"
   ]
  },
  {
   "cell_type": "code",
   "execution_count": 46,
   "id": "3376beea",
   "metadata": {},
   "outputs": [
    {
     "data": {
      "application/vnd.jupyter.widget-view+json": {
       "model_id": "470ef339d11149a7ba1e5dd206817e0f",
       "version_major": 2,
       "version_minor": 0
      },
      "text/plain": [
       "FloatSlider(value=3.8, max=3.8)"
      ]
     },
     "execution_count": 46,
     "metadata": {},
     "output_type": "execute_result"
    }
   ],
   "source": [
    "from ipywidgets import FloatSlider\n",
    "\n",
    "dystans_widget = FloatSlider(value=3.8, min=0, max=3.8)\n",
    "\n",
    "dystans_widget"
   ]
  },
  {
   "cell_type": "code",
   "execution_count": 10,
   "id": "98721a6f",
   "metadata": {},
   "outputs": [
    {
     "data": {
      "application/vnd.jupyter.widget-view+json": {
       "model_id": "964bbf56efc1494e9eed8627bed257a5",
       "version_major": 2,
       "version_minor": 0
      },
      "text/plain": [
       "VBox(children=(Figure(axes=[Axis(scale=LinearScale()), Axis(orientation='vertical', scale=LinearScale())], fig…"
      ]
     },
     "metadata": {},
     "output_type": "display_data"
    }
   ],
   "source": [
    "import bqplot.pyplot as plt\n",
    "import numpy as np\n",
    "\n",
    "fig = plt.figure(title=\"Laser Plot\")\n",
    "\n",
    "x = np.linspace(0, 360, 360)\n",
    "y = np.sin(x)\n",
    "curve = plt.plot(x, 10 * np.cos(y))\n",
    "\n",
    "plt.show()"
   ]
  },
  {
   "cell_type": "code",
   "execution_count": 51,
   "id": "c654f21e",
   "metadata": {},
   "outputs": [
    {
     "name": "stdout",
     "output_type": "stream",
     "text": [
      "array('f')\n"
     ]
    }
   ],
   "source": [
    "from sensor_msgs.msg import LaserScan\n",
    "\n",
    "print(LaserScan().ranges)\n",
    "\n",
    "\n",
    "def update_laser_plot(laser_data):\n",
    "    global ranges\n",
    "    global laser_data_g\n",
    "    laser_data_g = laser_data\n",
    "\n",
    "    ranges = np.array(laser_data.ranges)\n",
    "\n",
    "    # filter infts\n",
    "    ranges[~np.isfinite(ranges)] = laser_data.range_max  # set more than range\n",
    "\n",
    "    with curve.hold_sync():\n",
    "        curve.x = x\n",
    "        curve.y = np.array(ranges)\n",
    "\n",
    "    single_distance = ranges[0]\n",
    "\n",
    "    dystans_widget.value = single_distance\n",
    "\n",
    "\n",
    "subscriber_laser = minimal_node.create_subscription(\n",
    "    LaserScan, \"scan\", update_laser_plot, 1\n",
    ")"
   ]
  },
  {
   "cell_type": "code",
   "execution_count": 34,
   "id": "91b6109f",
   "metadata": {},
   "outputs": [
    {
     "data": {
      "text/plain": [
       "3.5"
      ]
     },
     "execution_count": 34,
     "metadata": {},
     "output_type": "execute_result"
    }
   ],
   "source": [
    "laser_data_g.range_max"
   ]
  },
  {
   "cell_type": "code",
   "execution_count": 13,
   "id": "3e815c92",
   "metadata": {},
   "outputs": [],
   "source": [
    "threaded_spinner = ThreadedSpinner(minimal_node)"
   ]
  },
  {
   "cell_type": "code",
   "execution_count": 28,
   "id": "818ffacc",
   "metadata": {},
   "outputs": [],
   "source": []
  },
  {
   "cell_type": "code",
   "execution_count": 52,
   "id": "7d772f92",
   "metadata": {},
   "outputs": [],
   "source": [
    "threaded_spinner.spin_in_thread()"
   ]
  },
  {
   "cell_type": "code",
   "execution_count": 53,
   "id": "ac270862",
   "metadata": {},
   "outputs": [
    {
     "name": "stdout",
     "output_type": "stream",
     "text": [
      "stopped spinning in thread\n"
     ]
    },
    {
     "data": {
      "text/plain": [
       "True"
      ]
     },
     "execution_count": 53,
     "metadata": {},
     "output_type": "execute_result"
    }
   ],
   "source": [
    "threaded_spinner.stop()\n",
    "minimal_node.destroy_subscription(subscriber_laser)"
   ]
  },
  {
   "cell_type": "code",
   "execution_count": 4,
   "id": "08a5e7ef",
   "metadata": {},
   "outputs": [
    {
     "name": "stdout",
     "output_type": "stream",
     "text": [
      "The Tornado web server and tools.\n"
     ]
    }
   ],
   "source": [
    "# możemy też zobaczyć co jest najblizej nas\n",
    "\n",
    "import tornado\n",
    "\n",
    "print(tornado.__doc__)"
   ]
  },
  {
   "cell_type": "markdown",
   "id": "9a4843d4",
   "metadata": {},
   "source": [
    "# Możemy łączyć subskrybery i publishery\n",
    "We can connect subscriber and publisher\n",
    "\n",
    "Excercise:\n",
    "Make the robot stop (send command velocity zero to cmd_vel when front distance to the obstacle is less than some value\n",
    "Zatrzymaj robocika (poprzez cmd_vel) jeśli odległość od przeszkody jest mniejsza niż jakaś wartość"
   ]
  },
  {
   "cell_type": "code",
   "execution_count": null,
   "id": "300c8a97",
   "metadata": {},
   "outputs": [],
   "source": [
    "# Excercise\n",
    "\n",
    "from geometry_msgs.msg import Twist\n",
    "\n",
    "\n",
    "zatrzymaj_predkosc = Twist()\n",
    "\n",
    "\n",
    "publisher_cmd_vel = minimal_node.create_publisher(Twist, \"cmd_vel\", 10)"
   ]
  },
  {
   "cell_type": "code",
   "execution_count": 38,
   "id": "2eb2270e",
   "metadata": {},
   "outputs": [],
   "source": [
    "def laser_stopper(laser_data):\n",
    "    ranges = np.array(laser_data.ranges)\n",
    "\n",
    "    # filter infts\n",
    "    ranges[~np.isfinite(ranges)] = laser_data.range_max  # set more than range\n",
    "\n",
    "    front_distance = ranges[0]\n",
    "\n",
    "    # make reasonable rule\n",
    "    # if\n",
    "    # publisher_cmd_vel.publish(zatrzymaj_predkosc)"
   ]
  },
  {
   "cell_type": "code",
   "execution_count": null,
   "id": "fe9d184c",
   "metadata": {},
   "outputs": [],
   "source": [
    "subscriber_laser_stopper = minimal_node.create_subscription(\n",
    "    LaserScan, \"scan\", laser_stopper, 1\n",
    ")"
   ]
  },
  {
   "cell_type": "code",
   "execution_count": null,
   "id": "dabd392f",
   "metadata": {},
   "outputs": [],
   "source": [
    "threaded_spinner.spin_in_thread()"
   ]
  },
  {
   "cell_type": "code",
   "execution_count": null,
   "id": "9a961672",
   "metadata": {},
   "outputs": [],
   "source": [
    "threaded_spinner.stop()\n",
    "minimal_node.destroy_subscription(subscriber_laser_stopper)"
   ]
  },
  {
   "cell_type": "markdown",
   "id": "3fa3eb9f",
   "metadata": {},
   "source": [
    "Teraz np. z poprzedniego notebooka wyślij robota na spotkanie ze ścianą"
   ]
  },
  {
   "cell_type": "markdown",
   "id": "2673612d",
   "metadata": {},
   "source": [
    "[Next exercise: 5. ROS Service](5.%20ROS%20Service.ipynb)"
   ]
  }
 ],
 "metadata": {
  "kernelspec": {
   "display_name": "Python 3 (ipykernel)",
   "language": "python",
   "name": "python3"
  },
  "language_info": {
   "codemirror_mode": {
    "name": "ipython",
    "version": 3
   },
   "file_extension": ".py",
   "mimetype": "text/x-python",
   "name": "python",
   "nbconvert_exporter": "python",
   "pygments_lexer": "ipython3",
   "version": "3.7.3"
  }
 },
 "nbformat": 4,
 "nbformat_minor": 5
}

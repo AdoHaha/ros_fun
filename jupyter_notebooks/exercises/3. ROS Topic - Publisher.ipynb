{
 "cells": [
  {
   "cell_type": "markdown",
   "id": "70aa815c",
   "metadata": {},
   "source": [
    "# Ros Topic\n",
    "\n",
    "<img src=\"./images/topic.jpg\" width=\"30%\">\n",
    "\n",
    "ROS Topic to komunikacja na zasadzie Publish - Subscribe. \n",
    "\n",
    "Działa to na zasadzie *kanału* komunikacji, gdzie na każdym *topicu* komunikowane są wiadomości w danym temacie i o tym samym formacie danych.\n",
    "\n",
    "Możemy podejrzeć wiadomości "
   ]
  },
  {
   "cell_type": "code",
   "execution_count": 1,
   "id": "b9d1d5c2",
   "metadata": {},
   "outputs": [],
   "source": [
    "from run_in_term import run_lxterminal"
   ]
  },
  {
   "cell_type": "code",
   "execution_count": 2,
   "id": "44d3e003",
   "metadata": {},
   "outputs": [],
   "source": [
    "import rclpy\n",
    "from rclpy.node import Node\n",
    "\n",
    "from std_msgs.msg import String\n",
    "\n",
    "\n",
    "class MinimalNode(Node):\n",
    "\n",
    "    def __init__(self):\n",
    "        super().__init__('minimal_publisher')\n",
    "    \n",
    "\n",
    "\n",
    "rclpy.init()\n",
    "\n",
    "minimal_node = MinimalNode()\n"
   ]
  },
  {
   "cell_type": "markdown",
   "id": "390caa01",
   "metadata": {},
   "source": [
    "# możemy podejrzeć wszytkie topiki aktualnie w systemie"
   ]
  },
  {
   "cell_type": "code",
   "execution_count": 5,
   "id": "db256491",
   "metadata": {},
   "outputs": [],
   "source": [
    "# w konsoli \n",
    "#run_lxterminal(\"ros2 topic list\")\n",
    "# jeśli nie masz otwarte symulacji\n",
    "run_lxterminal(\"ros2 launch turtlebot3_gazebo turtlebot3_world.launch.py\")\n"
   ]
  },
  {
   "cell_type": "code",
   "execution_count": 9,
   "id": "ca477684",
   "metadata": {},
   "outputs": [
    {
     "data": {
      "text/plain": [
       "[('/camera/camera_info', ['sensor_msgs/msg/CameraInfo']),\n",
       " ('/camera/image_raw', ['sensor_msgs/msg/Image']),\n",
       " ('/camera/image_raw/compressed', ['sensor_msgs/msg/CompressedImage']),\n",
       " ('/camera/image_raw/compressedDepth', ['sensor_msgs/msg/CompressedImage']),\n",
       " ('/camera/image_raw/theora', ['theora_image_transport/msg/Packet']),\n",
       " ('/clock', ['rosgraph_msgs/msg/Clock']),\n",
       " ('/cmd_vel', ['geometry_msgs/msg/Twist']),\n",
       " ('/imu', ['sensor_msgs/msg/Imu']),\n",
       " ('/joint_states', ['sensor_msgs/msg/JointState']),\n",
       " ('/odom', ['nav_msgs/msg/Odometry']),\n",
       " ('/parameter_events', ['rcl_interfaces/msg/ParameterEvent']),\n",
       " ('/performance_metrics', ['gazebo_msgs/msg/PerformanceMetrics']),\n",
       " ('/robot_description', ['std_msgs/msg/String']),\n",
       " ('/rosout', ['rcl_interfaces/msg/Log']),\n",
       " ('/scan', ['sensor_msgs/msg/LaserScan']),\n",
       " ('/tf', ['tf2_msgs/msg/TFMessage']),\n",
       " ('/tf_static', ['tf2_msgs/msg/TFMessage']),\n",
       " ('/wiadomosc', ['std_msgs/msg/String'])]"
      ]
     },
     "execution_count": 9,
     "metadata": {},
     "output_type": "execute_result"
    }
   ],
   "source": [
    "minimal_node.get_topic_names_and_types()"
   ]
  },
  {
   "cell_type": "markdown",
   "id": "fb2057e7",
   "metadata": {},
   "source": [
    "# Stwórzmy najprostrzego *publishera*\n",
    "\n",
    "Publisher to obiekt pozwalający wysyłać wiadomości na danym topicu"
   ]
  },
  {
   "cell_type": "code",
   "execution_count": 6,
   "id": "123f4069",
   "metadata": {},
   "outputs": [],
   "source": [
    " publisher_wiadomosc = minimal_node.create_publisher(String, 'wiadomosc', 10)"
   ]
  },
  {
   "cell_type": "markdown",
   "id": "9a636b9c",
   "metadata": {},
   "source": [
    "# Wykonaj jeszcze raz wylistowanie topików\n",
    "\n"
   ]
  },
  {
   "cell_type": "markdown",
   "id": "b664bf57",
   "metadata": {},
   "source": [
    "Możemy teraz wysłać wiadomości na topic wiadomosc"
   ]
  },
  {
   "cell_type": "code",
   "execution_count": 10,
   "id": "304bae7c",
   "metadata": {},
   "outputs": [
    {
     "ename": "TypeError",
     "evalue": "Expected <class 'std_msgs.msg._string.String'>, got <class 'str'>",
     "output_type": "error",
     "traceback": [
      "\u001b[0;31m---------------------------------------------------------------------------\u001b[0m",
      "\u001b[0;31mTypeError\u001b[0m                                 Traceback (most recent call last)",
      "Cell \u001b[0;32mIn[10], line 1\u001b[0m\n\u001b[0;32m----> 1\u001b[0m \u001b[43mpublisher_wiadomosc\u001b[49m\u001b[38;5;241;43m.\u001b[39;49m\u001b[43mpublish\u001b[49m\u001b[43m(\u001b[49m\u001b[38;5;124;43m\"\u001b[39;49m\u001b[38;5;124;43mhello\u001b[39;49m\u001b[38;5;124;43m\"\u001b[39;49m\u001b[43m)\u001b[49m\n",
      "File \u001b[0;32m/opt/ros/humble/local/lib/python3.10/dist-packages/rclpy/publisher.py:74\u001b[0m, in \u001b[0;36mPublisher.publish\u001b[0;34m(self, msg)\u001b[0m\n\u001b[1;32m     72\u001b[0m     \u001b[38;5;28mself\u001b[39m\u001b[38;5;241m.\u001b[39m__publisher\u001b[38;5;241m.\u001b[39mpublish_raw(msg)\n\u001b[1;32m     73\u001b[0m \u001b[38;5;28;01melse\u001b[39;00m:\n\u001b[0;32m---> 74\u001b[0m     \u001b[38;5;28;01mraise\u001b[39;00m \u001b[38;5;167;01mTypeError\u001b[39;00m(\u001b[38;5;124m'\u001b[39m\u001b[38;5;124mExpected \u001b[39m\u001b[38;5;132;01m{}\u001b[39;00m\u001b[38;5;124m, got \u001b[39m\u001b[38;5;132;01m{}\u001b[39;00m\u001b[38;5;124m'\u001b[39m\u001b[38;5;241m.\u001b[39mformat(\u001b[38;5;28mself\u001b[39m\u001b[38;5;241m.\u001b[39mmsg_type, \u001b[38;5;28mtype\u001b[39m(msg)))\n",
      "\u001b[0;31mTypeError\u001b[0m: Expected <class 'std_msgs.msg._string.String'>, got <class 'str'>"
     ]
    }
   ],
   "source": [
    "publisher_wiadomosc.publish(\"hello\") #nie zadziała"
   ]
  },
  {
   "cell_type": "markdown",
   "id": "be1772a8",
   "metadata": {},
   "source": [
    "# ale wcześniej musimy skonstuować odpowiedni obiekt *message*"
   ]
  },
  {
   "cell_type": "code",
   "execution_count": 11,
   "id": "64733f2f",
   "metadata": {},
   "outputs": [],
   "source": [
    "import std_msgs\n",
    "\n",
    "wiadomosc = std_msgs.msg.String()\n",
    "\n",
    "\n",
    "wiadomosc.data = \"hello\"\n",
    "\n",
    "publisher_wiadomosc.publish(wiadomosc)"
   ]
  },
  {
   "cell_type": "markdown",
   "id": "687975cb",
   "metadata": {},
   "source": [
    "### oczytajmy tą wiadomość w konsoli\n",
    "ros2 topic echo -- pokaże wiadomości ale tylko te które powstały po jego stworzeniu, wyślij wiadomość jeszcze raz"
   ]
  },
  {
   "cell_type": "code",
   "execution_count": 12,
   "id": "c52b0088",
   "metadata": {},
   "outputs": [],
   "source": [
    "run_lxterminal(\"ros2 topic echo wiadomosc\")"
   ]
  },
  {
   "cell_type": "code",
   "execution_count": 10,
   "id": "0649245c",
   "metadata": {
    "scrolled": true
   },
   "outputs": [
    {
     "data": {
      "text/html": [
       "\n",
       "        <iframe\n",
       "            width=\"800\"\n",
       "            height=\"450\"\n",
       "            src=\"http://localhost:6080\"\n",
       "            frameborder=\"0\"\n",
       "            allowfullscreen\n",
       "            \n",
       "        ></iframe>\n",
       "        "
      ],
      "text/plain": [
       "<IPython.lib.display.IFrame at 0x7f29ed6b9720>"
      ]
     },
     "execution_count": 10,
     "metadata": {},
     "output_type": "execute_result"
    }
   ],
   "source": [
    "from IPython.display import IFrame\n",
    "\n",
    "IFrame('http://localhost:6080', width=800, height=450)"
   ]
  },
  {
   "cell_type": "markdown",
   "id": "82bfc31a",
   "metadata": {},
   "source": [
    "## możemy też wiadomość wysyłać co jakiś czas, z wykorzystaniem timera"
   ]
  },
  {
   "cell_type": "code",
   "execution_count": 14,
   "id": "2f87d575",
   "metadata": {},
   "outputs": [],
   "source": [
    "def timer_callback():\n",
    "        wiadomosc.data = \"wiadomość\"\n",
    "        publisher_wiadomosc.publish(wiadomosc)\n",
    "try:\n",
    "    timer.cancel()\n",
    "except NameError:\n",
    "    pass\n",
    "timer_period = 0.5  # seconds\n",
    "timer = minimal_node.create_timer(timer_period, timer_callback)\n"
   ]
  },
  {
   "cell_type": "code",
   "execution_count": 15,
   "id": "cc927a8c",
   "metadata": {},
   "outputs": [
    {
     "ename": "KeyboardInterrupt",
     "evalue": "",
     "output_type": "error",
     "traceback": [
      "\u001b[0;31m---------------------------------------------------------------------------\u001b[0m",
      "\u001b[0;31mKeyboardInterrupt\u001b[0m                         Traceback (most recent call last)",
      "Cell \u001b[0;32mIn[15], line 3\u001b[0m\n\u001b[1;32m      1\u001b[0m \u001b[38;5;66;03m# Timer będzie działał tylko wtedy gdy będziemy *spinnować*\u001b[39;00m\n\u001b[1;32m      2\u001b[0m \u001b[38;5;66;03m# zatrzymaj jupter interruptem (kwadrat)\u001b[39;00m\n\u001b[0;32m----> 3\u001b[0m \u001b[43mrclpy\u001b[49m\u001b[38;5;241;43m.\u001b[39;49m\u001b[43mspin\u001b[49m\u001b[43m(\u001b[49m\u001b[43mminimal_node\u001b[49m\u001b[43m)\u001b[49m\n",
      "File \u001b[0;32m/opt/ros/humble/local/lib/python3.10/dist-packages/rclpy/__init__.py:222\u001b[0m, in \u001b[0;36mspin\u001b[0;34m(node, executor)\u001b[0m\n\u001b[1;32m    220\u001b[0m     executor\u001b[38;5;241m.\u001b[39madd_node(node)\n\u001b[1;32m    221\u001b[0m     \u001b[38;5;28;01mwhile\u001b[39;00m executor\u001b[38;5;241m.\u001b[39mcontext\u001b[38;5;241m.\u001b[39mok():\n\u001b[0;32m--> 222\u001b[0m         \u001b[43mexecutor\u001b[49m\u001b[38;5;241;43m.\u001b[39;49m\u001b[43mspin_once\u001b[49m\u001b[43m(\u001b[49m\u001b[43m)\u001b[49m\n\u001b[1;32m    223\u001b[0m \u001b[38;5;28;01mfinally\u001b[39;00m:\n\u001b[1;32m    224\u001b[0m     executor\u001b[38;5;241m.\u001b[39mremove_node(node)\n",
      "File \u001b[0;32m/opt/ros/humble/local/lib/python3.10/dist-packages/rclpy/executors.py:705\u001b[0m, in \u001b[0;36mSingleThreadedExecutor.spin_once\u001b[0;34m(self, timeout_sec)\u001b[0m\n\u001b[1;32m    703\u001b[0m \u001b[38;5;28;01mdef\u001b[39;00m \u001b[38;5;21mspin_once\u001b[39m(\u001b[38;5;28mself\u001b[39m, timeout_sec: \u001b[38;5;28mfloat\u001b[39m \u001b[38;5;241m=\u001b[39m \u001b[38;5;28;01mNone\u001b[39;00m) \u001b[38;5;241m-\u001b[39m\u001b[38;5;241m>\u001b[39m \u001b[38;5;28;01mNone\u001b[39;00m:\n\u001b[1;32m    704\u001b[0m     \u001b[38;5;28;01mtry\u001b[39;00m:\n\u001b[0;32m--> 705\u001b[0m         handler, entity, node \u001b[38;5;241m=\u001b[39m \u001b[38;5;28;43mself\u001b[39;49m\u001b[38;5;241;43m.\u001b[39;49m\u001b[43mwait_for_ready_callbacks\u001b[49m\u001b[43m(\u001b[49m\u001b[43mtimeout_sec\u001b[49m\u001b[38;5;241;43m=\u001b[39;49m\u001b[43mtimeout_sec\u001b[49m\u001b[43m)\u001b[49m\n\u001b[1;32m    706\u001b[0m     \u001b[38;5;28;01mexcept\u001b[39;00m ShutdownException:\n\u001b[1;32m    707\u001b[0m         \u001b[38;5;28;01mpass\u001b[39;00m\n",
      "File \u001b[0;32m/opt/ros/humble/local/lib/python3.10/dist-packages/rclpy/executors.py:691\u001b[0m, in \u001b[0;36mExecutor.wait_for_ready_callbacks\u001b[0;34m(self, *args, **kwargs)\u001b[0m\n\u001b[1;32m    688\u001b[0m     \u001b[38;5;28mself\u001b[39m\u001b[38;5;241m.\u001b[39m_cb_iter \u001b[38;5;241m=\u001b[39m \u001b[38;5;28mself\u001b[39m\u001b[38;5;241m.\u001b[39m_wait_for_ready_callbacks(\u001b[38;5;241m*\u001b[39margs, \u001b[38;5;241m*\u001b[39m\u001b[38;5;241m*\u001b[39mkwargs)\n\u001b[1;32m    690\u001b[0m \u001b[38;5;28;01mtry\u001b[39;00m:\n\u001b[0;32m--> 691\u001b[0m     \u001b[38;5;28;01mreturn\u001b[39;00m \u001b[38;5;28;43mnext\u001b[39;49m\u001b[43m(\u001b[49m\u001b[38;5;28;43mself\u001b[39;49m\u001b[38;5;241;43m.\u001b[39;49m\u001b[43m_cb_iter\u001b[49m\u001b[43m)\u001b[49m\n\u001b[1;32m    692\u001b[0m \u001b[38;5;28;01mexcept\u001b[39;00m \u001b[38;5;167;01mStopIteration\u001b[39;00m:\n\u001b[1;32m    693\u001b[0m     \u001b[38;5;66;03m# Generator ran out of work\u001b[39;00m\n\u001b[1;32m    694\u001b[0m     \u001b[38;5;28mself\u001b[39m\u001b[38;5;241m.\u001b[39m_cb_iter \u001b[38;5;241m=\u001b[39m \u001b[38;5;28;01mNone\u001b[39;00m\n",
      "File \u001b[0;32m/opt/ros/humble/local/lib/python3.10/dist-packages/rclpy/executors.py:588\u001b[0m, in \u001b[0;36mExecutor._wait_for_ready_callbacks\u001b[0;34m(self, timeout_sec, nodes, condition)\u001b[0m\n\u001b[1;32m    585\u001b[0m     waitable\u001b[38;5;241m.\u001b[39madd_to_wait_set(wait_set)\n\u001b[1;32m    587\u001b[0m \u001b[38;5;66;03m# Wait for something to become ready\u001b[39;00m\n\u001b[0;32m--> 588\u001b[0m \u001b[43mwait_set\u001b[49m\u001b[38;5;241;43m.\u001b[39;49m\u001b[43mwait\u001b[49m\u001b[43m(\u001b[49m\u001b[43mtimeout_nsec\u001b[49m\u001b[43m)\u001b[49m\n\u001b[1;32m    589\u001b[0m \u001b[38;5;28;01mif\u001b[39;00m \u001b[38;5;28mself\u001b[39m\u001b[38;5;241m.\u001b[39m_is_shutdown:\n\u001b[1;32m    590\u001b[0m     \u001b[38;5;28;01mraise\u001b[39;00m ShutdownException()\n",
      "\u001b[0;31mKeyboardInterrupt\u001b[0m: "
     ]
    }
   ],
   "source": [
    "# Timer będzie działał tylko wtedy gdy będziemy *spinnować*\n",
    "# zatrzymaj jupter interruptem (kwadrat)\n",
    "rclpy.spin(minimal_node)"
   ]
  },
  {
   "cell_type": "code",
   "execution_count": 16,
   "id": "89b1e7e9",
   "metadata": {},
   "outputs": [],
   "source": [
    "timer.cancel() # zatrzymajmy timer aby nie było go przy kolejnym spinie"
   ]
  },
  {
   "cell_type": "markdown",
   "id": "97e297fa",
   "metadata": {},
   "source": [
    "# Ćwiczenie: Publikuj nową wiadomość za każdym razem, np powiększoną o jeden"
   ]
  },
  {
   "cell_type": "code",
   "execution_count": null,
   "id": "5a2583bf",
   "metadata": {},
   "outputs": [],
   "source": []
  },
  {
   "cell_type": "markdown",
   "id": "6ae7f075",
   "metadata": {},
   "source": [
    "## Możemy także interaktywnie wysyłać wiadomości z jupyter, za pomocą *interact*\n",
    "Najłatwiej do tego celu stworzyć funkcję która będzie przyjmować tekst. Wtedy interact automatycznie dobierze jako wejście pole tekstowe"
   ]
  },
  {
   "cell_type": "code",
   "execution_count": 7,
   "id": "f00281cd",
   "metadata": {},
   "outputs": [
    {
     "data": {
      "application/vnd.jupyter.widget-view+json": {
       "model_id": "c674206d8fc4459083ac18febf1ba693",
       "version_major": 2,
       "version_minor": 0
      },
      "text/plain": [
       "interactive(children=(Text(value='hello world', continuous_update=False, description='wiadomosc_tekst'), Butto…"
      ]
     },
     "metadata": {},
     "output_type": "display_data"
    }
   ],
   "source": [
    "from ipywidgets import interact, interactive, fixed, interact_manual\n",
    "import ipywidgets as widgets\n",
    "import std_msgs\n",
    "\n",
    "#interact manual daje dodatkowy przycisk aby wysyłać wiadomość dopiero po jego naciśnięciu\n",
    "@interact_manual\n",
    "def wyslij_wiadomosc(wiadomosc_tekst = \"hello world\"):\n",
    "    wiadomosc = std_msgs.msg.String()\n",
    "    wiadomosc.data = wiadomosc_tekst\n",
    "    publisher_wiadomosc.publish(wiadomosc)"
   ]
  },
  {
   "cell_type": "code",
   "execution_count": 8,
   "id": "37dc6654",
   "metadata": {},
   "outputs": [
    {
     "data": {
      "text/plain": [
       "2"
      ]
     },
     "execution_count": 8,
     "metadata": {},
     "output_type": "execute_result"
    }
   ],
   "source": [
    "publisher_wiadomosc.get_subscription_count()"
   ]
  },
  {
   "cell_type": "markdown",
   "id": "d9730edd",
   "metadata": {},
   "source": [
    "# Ćwiczenie (big):\n",
    "\n",
    "Posterujmy prawdziwym robocikiem\n",
    "\n",
    "Robot potrzebuje komend przesyłanych topickiem /cmd_vel\n",
    "\n",
    "'/cmd_vel', ['geometry_msgs/msg/Twist']"
   ]
  },
  {
   "cell_type": "code",
   "execution_count": 16,
   "id": "99327e0a",
   "metadata": {},
   "outputs": [
    {
     "name": "stdout",
     "output_type": "stream",
     "text": [
      "geometry_msgs.msg.Twist(linear=geometry_msgs.msg.Vector3(x=0.0, y=0.0, z=0.0), angular=geometry_msgs.msg.Vector3(x=0.0, y=0.0, z=0.0))\n"
     ]
    }
   ],
   "source": [
    "from geometry_msgs.msg import Twist\n",
    "\n",
    "print(Twist())\n",
    "\n",
    "# skonstruuj publishera na topic \"/cmd_vel\"\n",
    "\n",
    "#publisher_cmd_vel = ..."
   ]
  },
  {
   "cell_type": "code",
   "execution_count": 18,
   "id": "7fe764ef",
   "metadata": {},
   "outputs": [
    {
     "data": {
      "text/html": [
       "\n",
       "        <iframe\n",
       "            width=\"800\"\n",
       "            height=\"450\"\n",
       "            src=\"http://localhost:6080\"\n",
       "            frameborder=\"0\"\n",
       "            allowfullscreen\n",
       "            \n",
       "        ></iframe>\n",
       "        "
      ],
      "text/plain": [
       "<IPython.lib.display.IFrame at 0x7f7aef2fa560>"
      ]
     },
     "execution_count": 18,
     "metadata": {},
     "output_type": "execute_result"
    }
   ],
   "source": [
    "from IPython.display import IFrame\n",
    "\n",
    "IFrame('http://localhost:6080', width=800, height=450)"
   ]
  },
  {
   "cell_type": "code",
   "execution_count": 19,
   "id": "ef260d3a",
   "metadata": {},
   "outputs": [
    {
     "data": {
      "text/plain": [
       "geometry_msgs.msg.Twist(linear=geometry_msgs.msg.Vector3(x=0.0, y=0.0, z=0.0), angular=geometry_msgs.msg.Vector3(x=0.0, y=0.0, z=0.0))"
      ]
     },
     "execution_count": 19,
     "metadata": {},
     "output_type": "execute_result"
    }
   ],
   "source": [
    "# wyslij komendę troszeczkę robota ruszającą do przodu\n",
    "\n",
    "\n",
    "troche_predkosc_do_przodu = Twist()\n",
    "#troche_predkosc_do_przodu.linear.x = ...\n",
    "# opublikuj wiadomosc"
   ]
  },
  {
   "cell_type": "markdown",
   "id": "b67cc6bb",
   "metadata": {},
   "source": [
    "# Zatrzymaj robocika"
   ]
  },
  {
   "cell_type": "code",
   "execution_count": null,
   "id": "1e18d7fb",
   "metadata": {},
   "outputs": [],
   "source": [
    "zatrzymaj_predkosc = Twist()\n",
    "publisher_cmd_vel.publish(zatrzymaj_predkosc)\n"
   ]
  },
  {
   "cell_type": "markdown",
   "id": "27e68d62",
   "metadata": {},
   "source": [
    "# Możemy też dorobić sobie guziki"
   ]
  },
  {
   "cell_type": "code",
   "execution_count": 51,
   "id": "f702d9c2",
   "metadata": {},
   "outputs": [
    {
     "data": {
      "application/vnd.jupyter.widget-view+json": {
       "model_id": "744e5cc07c5a4cc9a4ea66e86d6b6e2f",
       "version_major": 2,
       "version_minor": 0
      },
      "text/plain": [
       "VBox(children=(HBox(children=(Button(description='lewo', style=ButtonStyle()), Button(description='przod', sty…"
      ]
     },
     "execution_count": 51,
     "metadata": {},
     "output_type": "execute_result"
    },
    {
     "name": "stdout",
     "output_type": "stream",
     "text": [
      "Button(description='lewo', style=ButtonStyle())\n"
     ]
    }
   ],
   "source": [
    "from ipywidgets import Button, HBox, VBox, Label\n",
    "\n",
    "publisher_cmd_vel = minimal_node.create_publisher(Twist, 'cmd_vel', 10)\n",
    "przyciski = ['lewo', 'przod', 'prawo', 'tyl','stop']\n",
    "items = [Button(description=w) for w in przyciski]\n",
    "\n",
    "\n",
    "\n",
    "def w_lewo(b):\n",
    "    print(b)\n",
    "    w_lewo_twist = Twist()\n",
    "    w_lewo_twist.angular.z = 0.2\n",
    "    publisher_cmd_vel.publish(w_lewo_twist)\n",
    "\n",
    "\n",
    "items[0].on_click(w_lewo)\n",
    "\n",
    "\n",
    "VBox([HBox([items[0],items[1],items[2]]),HBox([items[4],items[3],items[4]])])\n",
    "\n",
    "#left_box = VBox([items[0], items[2],items[1]])\n",
    "#right_box = VBox([items[2], items[3]])\n",
    "#HBox([left_box, right_box, items[4]])"
   ]
  },
  {
   "cell_type": "code",
   "execution_count": null,
   "id": "376fdf59",
   "metadata": {},
   "outputs": [],
   "source": [
    "# Cwiczenie dorob guziki\n",
    "\n",
    "# Dla ambitnych: zrob fabryke"
   ]
  },
  {
   "cell_type": "code",
   "execution_count": 52,
   "id": "a4a21e45",
   "metadata": {},
   "outputs": [],
   "source": [
    "for item in items:\n",
    "    item.unobserve_all()"
   ]
  },
  {
   "cell_type": "code",
   "execution_count": 55,
   "id": "09a0a041",
   "metadata": {},
   "outputs": [],
   "source": [
    "publisher_cmd_vel.publish(Twist())"
   ]
  },
  {
   "cell_type": "markdown",
   "id": "2932c9e9",
   "metadata": {},
   "source": [
    "[Next exercise: 4. ROS Topic - Subscriber](4.%20ROS%20Topic%20-%20Subscriber.ipynb)"
   ]
  }
 ],
 "metadata": {
  "kernelspec": {
   "display_name": "Python 3 (ipykernel)",
   "language": "python",
   "name": "python3"
  },
  "language_info": {
   "codemirror_mode": {
    "name": "ipython",
    "version": 3
   },
   "file_extension": ".py",
   "mimetype": "text/x-python",
   "name": "python",
   "nbconvert_exporter": "python",
   "pygments_lexer": "ipython3",
   "version": "3.10.6"
  }
 },
 "nbformat": 4,
 "nbformat_minor": 5
}

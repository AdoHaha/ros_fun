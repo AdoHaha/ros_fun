{
 "cells": [
  {
   "cell_type": "markdown",
   "id": "0afaba31",
   "metadata": {},
   "source": [
    "This notebook shows some design patterns that can be used during ROS2 programming.\n",
    "\n",
    "Do not run these are examples that you can extend in the excercises"
   ]
  },
  {
   "cell_type": "code",
   "execution_count": null,
   "id": "4d48fea8",
   "metadata": {},
   "outputs": [],
   "source": [
    "class MessageReceiver():\n",
    "    \"\"\"an object to receive messages, save them do\"\"\"\n",
    "    def basic_save(self,message):\n",
    "        self.last_message = message\n",
    "        \n",
    "saver = MessageReceiver()\n",
    "\n"
   ]
  },
  {
   "cell_type": "code",
   "execution_count": null,
   "id": "472dc04d",
   "metadata": {},
   "outputs": [],
   "source": [
    "import rclpy\n",
    "from rclpy.node import Node\n",
    "\n",
    "from std_msgs.msg import String\n",
    "\n",
    "\n",
    "class MinimalNode(Node):\n",
    "    def __init__(self):\n",
    "        super().__init__(\"minimal_subscriber\")\n",
    "    \n",
    "\n",
    "rclpy.init()\n",
    "\n",
    "minimal_node = MinimalNode()"
   ]
  },
  {
   "cell_type": "code",
   "execution_count": null,
   "id": "f07efb94",
   "metadata": {},
   "outputs": [],
   "source": [
    "subscription = minimal_node.create_subscription(\n",
    "    String, \"wiadomosc\", saver.basic_save, 10)\n",
    "# spin...\n",
    "## when we receive an message message receiver will take it and save"
   ]
  },
  {
   "cell_type": "code",
   "execution_count": null,
   "id": "743cf129",
   "metadata": {},
   "outputs": [],
   "source": [
    "def ReceiveAndFilter():\n",
    "    \"\"\"an object to receive messages, do something with them\"\"\"\n",
    "    summed = 0\n",
    "    def filter_save(self,message):\n",
    "        # as an example we will have a sum\n",
    "        self.summed = self.summed + message.data\n",
    "        self.last_number = message.data"
   ]
  },
  {
   "cell_type": "markdown",
   "id": "0d10ff91",
   "metadata": {},
   "source": [
    "Feedback loop"
   ]
  },
  {
   "cell_type": "code",
   "execution_count": null,
   "id": "067ff829",
   "metadata": {},
   "outputs": [],
   "source": [
    "import std_msgs\n",
    "import geometry_msgs\n",
    "class Reactive_Robot():\n",
    "    self.publisher = None # we will have to give the publisher to it\n",
    "    def receive_important_message(self,message):\n",
    "        \"when message comes we publish something\"\n",
    "        if message.linear.x < 0:\n",
    "            output_message = std_msgs.msg.Int32()\n",
    "            output_message.data = 3\n",
    "            self.publisher.publish(output_message)\n",
    "            self.sent_message = output_message\n",
    "            \n"
   ]
  },
  {
   "cell_type": "code",
   "execution_count": null,
   "id": "c5a2df05",
   "metadata": {},
   "outputs": [],
   "source": [
    "reactive_robot = Reactive_Robot()\n",
    "publisher_wiadomosc = minimal_node.create_publisher(std_msgs.Int32, \"numerki\", 10)\n",
    "\n",
    "reactive_robot.publisher = publisher_wiadomosc\n",
    "\n",
    "subscription_reactive = minimal_node.create_subscription(\n",
    "    geometry_msgs.msg.Pose, \"poza\", reactive_robot.receive_important_message, 10)"
   ]
  },
  {
   "cell_type": "markdown",
   "id": "fc293d89",
   "metadata": {},
   "source": [
    "Do stuff every second"
   ]
  },
  {
   "cell_type": "code",
   "execution_count": null,
   "id": "4737c60c",
   "metadata": {},
   "outputs": [],
   "source": [
    "class Robot():\n",
    "    self.publisher = None\n",
    "    \n",
    "    def __init__(self,publisher,node):\n",
    "        self.publisher = node.create_publisher(std_msgs.Int32, \"numerki\", 10)\n",
    "        self.subscriber_1 = node.create_subscription(\n",
    "    geometry_msgs.msg.Pose, \"poza\", self.receive_messages_one, 10)\n",
    "        \n",
    "        self.subscriber_2 = node.create_subscription(\n",
    "    geometry_msgs.msg.Pose, \"poza\", self.receive_messages_two, 10)\n",
    "        \n",
    "        self.timer = node.create_timer(1, do_stuff)\n",
    "        \n",
    "    def receive_messages_one(self,message):\n",
    "        self.last_message = message\n",
    "    def receive_messages_two(self,message):\n",
    "        self.last_message_two = message\n",
    "        \n",
    "    def do_stuff(self):\n",
    "        if self.last_message.linear.x < 0 and self.last_message2...:\n",
    "            self.publisher ...\n",
    "    \n",
    "#publisher_wiadomosc = minimal_\n",
    "\n",
    "robot = Robot(publisher,minimal_node)\n",
    "\n",
    "\n"
   ]
  },
  {
   "cell_type": "code",
   "execution_count": null,
   "id": "fb70987e",
   "metadata": {},
   "outputs": [],
   "source": [
    "rclpy.spin(minimal_node)"
   ]
  }
 ],
 "metadata": {
  "kernelspec": {
   "display_name": "Python 3 (ipykernel)",
   "language": "python",
   "name": "python3"
  },
  "language_info": {
   "codemirror_mode": {
    "name": "ipython",
    "version": 3
   },
   "file_extension": ".py",
   "mimetype": "text/x-python",
   "name": "python",
   "nbconvert_exporter": "python",
   "pygments_lexer": "ipython3",
   "version": "3.10.6"
  }
 },
 "nbformat": 4,
 "nbformat_minor": 5
}

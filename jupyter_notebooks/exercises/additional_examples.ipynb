{
 "cells": [
  {
   "cell_type": "markdown",
   "id": "bf5f6567",
   "metadata": {},
   "source": [
    "This notebook shows some design patterns that can be used during ROS2 programming.\n",
    "\n",
    "Do not run these are examples that you can extend in the excercises"
   ]
  },
  {
   "cell_type": "code",
   "execution_count": null,
   "id": "191ab5f2",
   "metadata": {},
   "outputs": [],
   "source": [
    "class MessageReceiver():\n",
    "    \"\"\"an object to receive messages, save them do\"\"\"\n",
    "    def basic_save(self,message):\n",
    "        self.last_message = message\n",
    "        \n",
    "saver = MessageReceiver()\n",
    "\n"
   ]
  },
  {
   "cell_type": "code",
   "execution_count": null,
   "id": "d52fbd8b",
   "metadata": {},
   "outputs": [],
   "source": [
    "import rclpy\n",
    "from rclpy.node import Node\n",
    "\n",
    "from std_msgs.msg import String\n",
    "\n",
    "\n",
    "class MinimalNode(Node):\n",
    "    def __init__(self):\n",
    "        super().__init__(\"minimal_subscriber\")\n",
    "    \n",
    "\n",
    "rclpy.init()\n",
    "\n",
    "minimal_node = MinimalNode()"
   ]
  },
  {
   "cell_type": "code",
   "execution_count": null,
   "id": "b6973e75",
   "metadata": {},
   "outputs": [],
   "source": [
    "subscription = minimal_node.create_subscription(\n",
    "    String, \"wiadomosc\", saver.basic_save, 10)\n",
    "# spin...\n",
    "## when we receive an message message receiver will take it and save"
   ]
  },
  {
   "cell_type": "code",
   "execution_count": null,
   "id": "14681817",
   "metadata": {},
   "outputs": [],
   "source": [
    "saver.last_message"
   ]
  },
  {
   "cell_type": "code",
   "execution_count": null,
   "id": "3fbca3e1",
   "metadata": {},
   "outputs": [],
   "source": [
    "class ReceiveAndFilter():\n",
    "    \"\"\"an object to receive messages, do something with them\"\"\"\n",
    "    summed = 0\n",
    "    def filter_save(self,message):\n",
    "        # as an example we will have a sum\n",
    "        self.summed = self.summed + message.data\n",
    "        self.last_number = message.data"
   ]
  },
  {
   "cell_type": "code",
   "execution_count": null,
   "id": "74b4f612",
   "metadata": {},
   "outputs": [],
   "source": [
    "from std_msgs.msg import Int32\n",
    "\n",
    "receiver = ReceiveAndFilter()\n",
    "subscription = minimal_node.create_subscription(\n",
    "    Int32, \"wiadomosc_z_numerkiem\", receiver.filter_save, 10)"
   ]
  },
  {
   "cell_type": "code",
   "execution_count": null,
   "id": "bb1a6d48",
   "metadata": {},
   "outputs": [],
   "source": [
    "print(receiver.summed)"
   ]
  },
  {
   "cell_type": "markdown",
   "id": "d31284cb",
   "metadata": {},
   "source": [
    "Feedback loop"
   ]
  },
  {
   "cell_type": "code",
   "execution_count": null,
   "id": "da104f8f",
   "metadata": {},
   "outputs": [],
   "source": [
    "import std_msgs\n",
    "import geometry_msgs\n",
    "class Reactive_Robot():\n",
    "    self.publisher = None # we will have to give the publisher to it\n",
    "    def receive_important_message(self,message):\n",
    "        \"when message comes we publish something\"\n",
    "        if not self.nie_jedz:\n",
    "            if message.linear.x < 0:\n",
    "                output_message = std_msgs.msg.Int32()\n",
    "                output_message.data = 3\n",
    "                self.publisher.publish(output_message)\n",
    "                self.sent_message = output_message\n",
    "            \n",
    "    def alarm(self,message):\n",
    "        self.publisher.publish(STOP!!!!)\n",
    "        self.nie_jedz = True"
   ]
  },
  {
   "cell_type": "code",
   "execution_count": null,
   "id": "0e3ce1ad",
   "metadata": {},
   "outputs": [],
   "source": [
    "reactive_robot = Reactive_Robot()\n",
    "publisher_wiadomosc = minimal_node.create_publisher(std_msgs.Int32,\n",
    "                                                    \"numerki\", 10)\n",
    "\n",
    "reactive_robot.publisher = publisher_wiadomosc\n",
    "\n",
    "subscription_reactive = minimal_node.create_subscription(\n",
    "    geometry_msgs.msg.Pose, \"poza\", reactive_robot.receive_important_message, 10)"
   ]
  },
  {
   "cell_type": "markdown",
   "id": "14083139",
   "metadata": {},
   "source": [
    "Do stuff every second"
   ]
  },
  {
   "cell_type": "code",
   "execution_count": null,
   "id": "230cf6f3",
   "metadata": {},
   "outputs": [],
   "source": [
    "class Robot():\n",
    "    self.publisher = None\n",
    "    \n",
    "    def __init__(self,node):\n",
    "        self.publisher = node.create_publisher(std_msgs.Int32,\n",
    "                                               \"numerki\", 10)\n",
    "        self.subscriber_1 = node.create_subscription(\n",
    "    geometry_msgs.msg.Pose, \"poza\", self.receive_messages_one, 10)\n",
    "        \n",
    "        self.subscriber_2 = node.create_subscription(\n",
    "    geometry_msgs.msg.Pose, \"poza2\", self.receive_messages_two, 10)\n",
    "        \n",
    "        self.timer = node.create_timer(1, do_stuff)\n",
    "        \n",
    "    def receive_messages_one(self,message):\n",
    "        self.last_message = message\n",
    "    def receive_messages_two(self,message):\n",
    "        self.last_message_two = message\n",
    "        \n",
    "    def do_stuff(self):\n",
    "        if self.last_message.linear.x < 0 and self.last_message2...:\n",
    "            self.publisher ...\n",
    "    \n",
    "#publisher_wiadomosc = minimal_\n",
    "\n",
    "robot = Robot(minimal_node)\n",
    "\n",
    "\n"
   ]
  },
  {
   "cell_type": "code",
   "execution_count": null,
   "id": "cefa92e9",
   "metadata": {},
   "outputs": [],
   "source": [
    "rclpy.spin(minimal_node)"
   ]
  }
 ],
 "metadata": {
  "kernelspec": {
   "display_name": "Python 3 (ipykernel)",
   "language": "python",
   "name": "python3"
  },
  "language_info": {
   "codemirror_mode": {
    "name": "ipython",
    "version": 3
   },
   "file_extension": ".py",
   "mimetype": "text/x-python",
   "name": "python",
   "nbconvert_exporter": "python",
   "pygments_lexer": "ipython3",
   "version": "3.10.6"
  }
 },
 "nbformat": 4,
 "nbformat_minor": 5
}

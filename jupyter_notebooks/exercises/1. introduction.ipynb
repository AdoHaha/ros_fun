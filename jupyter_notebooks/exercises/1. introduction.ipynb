{
 "cells": [
  {
   "cell_type": "markdown",
   "id": "045119c4",
   "metadata": {
    "slideshow": {
     "slide_type": "slide"
    }
   },
   "source": [
    "# Symuluj robota z Python i Robot Operating System 2 (ROS 2)\n",
    "\n",
    "Cel: zrozumieć o co chodzi z ROS i jak zacząć ruszać (wirtualnymi -> rzeczywistymi) robotami\n"
   ]
  },
  {
   "cell_type": "markdown",
   "id": "c1a239b2",
   "metadata": {
    "slideshow": {
     "slide_type": "slide"
    }
   },
   "source": [
    "# Praktykalia, niech się instaluje:\n",
    "\n",
    "Do warsztatów potrzebujemy Docker \n",
    "Jak też obrazu z github: https://github.com/AdoHaha/ros_fun/tree/humble_pycon\n",
    "\n",
    " ```\n",
    "        git clone https://github.com/AdoHaha/ros_fun -b humble_pycon\n",
    "        \n",
    "            cd ros_fun\n",
    "            \n",
    "            docker compose up\n",
    " ```\n",
    " \n",
    " W drugim oknie\n",
    " \n",
    " ```\n",
    " docker container exec -it --user ubuntu ros_fun bash -i /home/ubuntu/run_jupyter.sh\n",
    "\n",
    "```"
   ]
  },
  {
   "cell_type": "markdown",
   "id": "7ba80817",
   "metadata": {
    "slideshow": {
     "slide_type": "slide"
    }
   },
   "source": [
    "# O mnie\n",
    "\n",
    "Adiunkt w Zakładzie Sterowania Robotów gdzie zajmuje się robotyką nakierowaną na człowieka\n",
    "Kierownik zespołu R&D zajmującego się inteligencją w sklepach w firmie Marketlab"
   ]
  },
  {
   "cell_type": "markdown",
   "id": "33de2932",
   "metadata": {
    "slideshow": {
     "slide_type": "slide"
    }
   },
   "source": [
    "# Roboty ?\n",
    "\n",
    "\n",
    "![Turtlebot burger](../images/turtlebot-burger.jpg)\n"
   ]
  },
  {
   "cell_type": "markdown",
   "id": "6b493d36",
   "metadata": {
    "slideshow": {
     "slide_type": "slide"
    }
   },
   "source": [
    "# Robotyka ?\n",
    "\n",
    "![\"Interdisciplinary field\"](../images/robotics.png)"
   ]
  },
  {
   "cell_type": "markdown",
   "id": "28419e11",
   "metadata": {
    "slideshow": {
     "slide_type": "slide"
    }
   },
   "source": [
    "# Potrzebna pomoc :-) -- ROS 2!\n",
    "\n",
    "# ROS to:\n",
    "\n",
    "- zestaw narzędzi (do nawigacji, ruszania ramionami, dostarczania inteligencji)\n",
    "- metody komunikacji programów (node'ów)\n",
    "- narzędzia dla programistów\n",
    "- grupa pomocnych ludzi"
   ]
  },
  {
   "cell_type": "markdown",
   "id": "82dc913d",
   "metadata": {
    "slideshow": {
     "slide_type": "slide"
    }
   },
   "source": [
    "# Metody komunikacji\n",
    "\n",
    "<img src=\"./images/serv.jpg\" width=\"30%\">\n"
   ]
  },
  {
   "cell_type": "markdown",
   "id": "3811180c",
   "metadata": {
    "slideshow": {
     "slide_type": "slide"
    }
   },
   "source": [
    "# Podstawowe terminy: node (węzeł), topic, service, action\n",
    "\n",
    "\n",
    "Node: <img src=\"./images/node.jpg\" width=\"30%\">\n",
    "\n",
    "Topic: subscriberzy i publisherzy <img src=\"./images/topic.jpg\" width=\"30%\">\n",
    "\n",
    "Service: <img src=\"./images/serv.jpg\" width=\"30%\">\n",
    "\n",
    "<!-- <img src=\"./images/wezel2.jpg\" width=\"30%\">-->\n",
    "Action: <img src=\"./images/action.jpg\" width=\"30%\">\n",
    "Parameters:<img src=\"./images/parameter.jpg\" width=\"30%\">\n",
    "\n",
    "\n",
    "# Spis treści:\n",
    "- [Introduction](1.%20introduction.ipynb)\n",
    "- [Some Start Demos - Let's Move Robots!](2.%20some%20start%20demos%20-%20let's%20move%20robots!.ipynb)\n",
    "- [ROS Topic - Publisher](3.%20ROS%20Topic%20-%20Publisher.ipynb)\n",
    "- [ROS Topic - Subscriber](4.%20ROS%20Topic%20-%20Subscriber.ipynb)\n",
    "- [ROS Service](5.%20ROS%20Service.ipynb)\n",
    "- [Navigate - nav2](6.%20Navigate%20-%20nav2.ipynb)\n",
    "- [ROS Action](7.%20ROS%20Action.ipynb)\n",
    "- [Parameters](8.%20Parameters.ipynb)"
   ]
  },
  {
   "cell_type": "markdown",
   "id": "d279e292",
   "metadata": {
    "slideshow": {
     "slide_type": "slide"
    }
   },
   "source": [
    "[Next exercise: 2. some start demos - let's move robots!](2.%20some%20start%20demos%20-%20let's%20move%20robots!.ipynb)"
   ]
  }
 ],
 "metadata": {
  "celltoolbar": "Slideshow",
  "kernelspec": {
   "display_name": "Python 3 (ipykernel)",
   "language": "python",
   "name": "python3"
  },
  "language_info": {
   "codemirror_mode": {
    "name": "ipython",
    "version": 3
   },
   "file_extension": ".py",
   "mimetype": "text/x-python",
   "name": "python",
   "nbconvert_exporter": "python",
   "pygments_lexer": "ipython3",
   "version": "3.10.6"
  }
 },
 "nbformat": 4,
 "nbformat_minor": 5
}

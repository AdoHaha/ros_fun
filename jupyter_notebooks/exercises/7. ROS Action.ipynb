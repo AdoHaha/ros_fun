{
 "cells": [
  {
   "cell_type": "markdown",
   "id": "c6eafd38",
   "metadata": {},
   "source": [
    "# ROS Action\n",
    "\n",
    "Tu zaczyna się akcja ;-). Przeznaczone do skomplikowanych działań zachowują się jak service (zadajemy cel i wreszcie dostajemy wynik) jak i topic (dostajemy sprzężenie zwrotne).\n",
    "\n",
    "Większość akcji robota związanych jest z ruchem -- przemieszczaniem się robota w pomieszczeniu (Navigate) albo ruchem ramienia (Moveit). Robot otrzymuje zadanie -- np. dojedź do punktu i informuje o przebiegu wykonywania zadania.\n",
    "\n",
    "\n",
    "Nav ma akcje zgrabnie opakowane za pomocą simple nav ale mamy wtedy komunikację synchroniczną\n",
    "\n",
    "\n",
    "Akcja różni się od serwisu przez długość swojego trwania. Przez to, że nie wykonuje się od razu, z natury lepiej jest obsługiwać ją asynchronicznie plus chcemy mieć feedback z tego jak idzie zadanie\n",
    "\n",
    "<img src=\"./images/action.jpg\" width=\"30%\">\n",
    "Schemat wygląda tak:\n",
    "\n",
    "- dajemy robocikowi zadanie i callbacki. Dostajemy informację o samym przyjęciu zadania jako callback\n",
    "- w czasie wykonywania zadania korzysta z callbackow\n",
    "- dostajemy informację o wykonaniu lub porażce zadania"
   ]
  },
  {
   "cell_type": "code",
   "execution_count": 1,
   "id": "902880ed",
   "metadata": {},
   "outputs": [],
   "source": [
    "import rclpy\n",
    "from rclpy.node import Node\n",
    "\n",
    "from std_msgs.msg import String\n",
    "\n",
    "\n",
    "class MinimalNode(Node):\n",
    "    def __init__(self):\n",
    "        super().__init__(\"service_node\")\n",
    "\n",
    "\n",
    "try:\n",
    "    rclpy.init()\n",
    "\n",
    "    minimal_node = MinimalNode()\n",
    "except RuntimeError:\n",
    "    pass"
   ]
  },
  {
   "cell_type": "code",
   "execution_count": 14,
   "id": "b73c7313",
   "metadata": {},
   "outputs": [],
   "source": [
    "# from geometry_msgs.action import\n",
    "from nav2_msgs.action import NavigateToPose\n",
    "from rclpy.action import ActionClient\n",
    "from geometry_msgs.msg import PoseStamped\n",
    "\n",
    "navigate_action = ActionClient(minimal_node, NavigateToPose, \"/navigate_to_pose\")"
   ]
  },
  {
   "cell_type": "code",
   "execution_count": 13,
   "id": "362e3d88",
   "metadata": {
    "scrolled": true
   },
   "outputs": [
    {
     "name": "stdout",
     "output_type": "stream",
     "text": [
      "Action: navigate_to_pose\r\n",
      "Action clients: 4\r\n",
      "    /bt_navigator\r\n",
      "    /waypoint_follower\r\n",
      "    /rviz\r\n",
      "    /_\r\n",
      "Action servers: 1\r\n",
      "    /bt_navigator\r\n"
     ]
    }
   ],
   "source": [
    "!ros2 action info navigate_to_pose"
   ]
  },
  {
   "cell_type": "code",
   "execution_count": null,
   "id": "13fd7aa1",
   "metadata": {},
   "outputs": [],
   "source": [
    "def print_feedback_goal(future):\n",
    "    try:\n",
    "        feedback = future.feedback\n",
    "        # print(\"distance {}\".format(feedback.distance_remaining))\n",
    "        print(\"feedback {}\".format(future.feedback))\n",
    "    except:\n",
    "        pass\n",
    "\n",
    "\n",
    "def history_success(future):\n",
    "    print(\"done\")\n",
    "    print(\n",
    "        \"we have achieved the goal {}, {}\".format(\n",
    "            future.result(), future.result().result\n",
    "        )\n",
    "    )\n",
    "\n",
    "\n",
    "def received_task(future):\n",
    "    goal_handle = future.result()\n",
    "\n",
    "    if not goal_handle.accepted:\n",
    "        print(\"not accepted\")\n",
    "        return\n",
    "    else:\n",
    "        print(\"accepted goal\")\n",
    "\n",
    "    get_result_future = goal_handle.get_result_async()\n",
    "\n",
    "    get_result_future.add_done_callback(history_success)\n",
    "\n",
    "\n",
    "navigate_pose_goal = NavigateToPose.Goal()\n",
    "goal_pose = PoseStamped()\n",
    "goal_pose.header.stamp = minimal_node.get_clock().now().to_msg()\n",
    "goal_pose.pose.position.x = 4.0\n",
    "goal_pose.pose.position.y = 0.0\n",
    "goal_pose.pose.orientation.z = 0.7\n",
    "goal_pose.pose.orientation.w = 0.71\n",
    "navigate_pose_goal.pose = goal_pose\n",
    "goal_future_pose = navigate_action.send_goal_async(\n",
    "    navigate_pose_goal, feedback_callback=print_feedback_goal\n",
    ")\n",
    "goal_future_pose.add_done_callback(received_task)"
   ]
  },
  {
   "cell_type": "code",
   "execution_count": 24,
   "id": "25c8e460",
   "metadata": {},
   "outputs": [],
   "source": [
    "import subscription_threaded\n",
    "\n",
    "threaded_spinner = subscription_threaded.ThreadedSpinner(minimal_node)"
   ]
  },
  {
   "cell_type": "code",
   "execution_count": 71,
   "id": "387e541b",
   "metadata": {},
   "outputs": [
    {
     "name": "stdout",
     "output_type": "stream",
     "text": [
      "feedback nav2_msgs.action.NavigateToPose_Feedback(current_pose=geometry_msgs.msg.PoseStamped(header=std_msgs.msg.Header(stamp=builtin_interfaces.msg.Time(sec=1408, nanosec=118000000), frame_id='map'), pose=geometry_msgs.msg.Pose(position=geometry_msgs.msg.Point(x=-0.0795978485511517, y=0.054837724023454826, z=0.010016145546093112), orientation=geometry_msgs.msg.Quaternion(x=-0.0009983647298232605, y=-0.0008581720648857926, z=0.7990599291633425, w=0.6012499450428642))), navigation_time=builtin_interfaces.msg.Duration(sec=34, nanosec=430000000), estimated_time_remaining=builtin_interfaces.msg.Duration(sec=0, nanosec=0), number_of_recoveries=18, distance_remaining=0.0)\n",
      "done\n",
      "we have achieved the goal nav2_msgs.action.NavigateToPose_GetResult_Response(status=6, result=nav2_msgs.action.NavigateToPose_Result(result=std_msgs.msg.Empty())), nav2_msgs.action.NavigateToPose_Result(result=std_msgs.msg.Empty())\n"
     ]
    }
   ],
   "source": [
    "# możemy albo w osobnym wątku albo spin_until_future_complete(minimal_node, send_goal_future)\n",
    "\n",
    "\n",
    "threaded_spinner.spin_in_thread()"
   ]
  },
  {
   "cell_type": "code",
   "execution_count": null,
   "id": "bbd78e1a",
   "metadata": {},
   "outputs": [],
   "source": [
    "goal_handle = goal_future_pose.result()"
   ]
  },
  {
   "cell_type": "code",
   "execution_count": null,
   "id": "b21c5cba",
   "metadata": {},
   "outputs": [],
   "source": [
    "send_goal_future = self.nav_to_pose_client.send_goal_async(\n",
    "    goal_msg, self._feedbackCallback\n",
    ")\n",
    "rclpy.spin_until_future_complete(self, send_goal_future)\n",
    "self.goal_handle = send_goal_future.result()"
   ]
  },
  {
   "cell_type": "code",
   "execution_count": 58,
   "id": "15af76b8",
   "metadata": {},
   "outputs": [
    {
     "data": {
      "text/plain": [
       "<rclpy.task.Future at 0x7fe4cde4ee00>"
      ]
     },
     "execution_count": 58,
     "metadata": {},
     "output_type": "execute_result"
    }
   ],
   "source": [
    "goal_handle.cancel_goal_async()"
   ]
  },
  {
   "cell_type": "code",
   "execution_count": null,
   "id": "6bbb550e",
   "metadata": {
    "scrolled": true
   },
   "outputs": [],
   "source": [
    "threaded_spinner.stop()"
   ]
  },
  {
   "cell_type": "code",
   "execution_count": 70,
   "id": "dd27396c",
   "metadata": {},
   "outputs": [
    {
     "name": "stdout",
     "output_type": "stream",
     "text": [
      "ClientGoalHandle <id=[ 44  27 101 209  26  83  69 215 185  25 244 153 101 167 169 105], accepted=True, status=2>\n"
     ]
    }
   ],
   "source": [
    "rclpy.spin_until_future_complete(minimal_node, goal_future_pose)\n",
    "\n",
    "print(goal_future_pose.result())"
   ]
  },
  {
   "cell_type": "code",
   "execution_count": 72,
   "id": "28d0d8ed",
   "metadata": {},
   "outputs": [
    {
     "data": {
      "text/plain": [
       "[('/NavigateToPose/_action/feedback',\n",
       "  ['nav2_msgs/action/NavigateToPose_FeedbackMessage']),\n",
       " ('/NavigateToPose/_action/status', ['action_msgs/msg/GoalStatusArray']),\n",
       " ('/amcl/transition_event', ['lifecycle_msgs/msg/TransitionEvent']),\n",
       " ('/amcl_pose', ['geometry_msgs/msg/PoseWithCovarianceStamped']),\n",
       " ('/assisted_teleop/_action/feedback',\n",
       "  ['nav2_msgs/action/AssistedTeleop_FeedbackMessage']),\n",
       " ('/assisted_teleop/_action/status', ['action_msgs/msg/GoalStatusArray']),\n",
       " ('/backup/_action/feedback', ['nav2_msgs/action/BackUp_FeedbackMessage']),\n",
       " ('/backup/_action/status', ['action_msgs/msg/GoalStatusArray']),\n",
       " ('/behavior_server/transition_event', ['lifecycle_msgs/msg/TransitionEvent']),\n",
       " ('/behavior_tree_log', ['nav2_msgs/msg/BehaviorTreeLog']),\n",
       " ('/bond', ['bond/msg/Status']),\n",
       " ('/bt_navigator/transition_event', ['lifecycle_msgs/msg/TransitionEvent']),\n",
       " ('/camera/camera_info', ['sensor_msgs/msg/CameraInfo']),\n",
       " ('/camera/image_raw', ['sensor_msgs/msg/Image']),\n",
       " ('/camera/image_raw/compressed', ['sensor_msgs/msg/CompressedImage']),\n",
       " ('/camera/image_raw/compressedDepth', ['sensor_msgs/msg/CompressedImage']),\n",
       " ('/camera/image_raw/theora', ['theora_image_transport/msg/Packet']),\n",
       " ('/clicked_point', ['geometry_msgs/msg/PointStamped']),\n",
       " ('/clock', ['rosgraph_msgs/msg/Clock']),\n",
       " ('/cmd_vel', ['geometry_msgs/msg/Twist']),\n",
       " ('/cmd_vel_nav', ['geometry_msgs/msg/Twist']),\n",
       " ('/cmd_vel_teleop', ['geometry_msgs/msg/Twist']),\n",
       " ('/compute_path_through_poses/_action/feedback',\n",
       "  ['nav2_msgs/action/ComputePathThroughPoses_FeedbackMessage']),\n",
       " ('/compute_path_through_poses/_action/status',\n",
       "  ['action_msgs/msg/GoalStatusArray']),\n",
       " ('/compute_path_to_pose/_action/feedback',\n",
       "  ['nav2_msgs/action/ComputePathToPose_FeedbackMessage']),\n",
       " ('/compute_path_to_pose/_action/status', ['action_msgs/msg/GoalStatusArray']),\n",
       " ('/controller_server/transition_event',\n",
       "  ['lifecycle_msgs/msg/TransitionEvent']),\n",
       " ('/cost_cloud', ['sensor_msgs/msg/PointCloud2']),\n",
       " ('/diagnostics', ['diagnostic_msgs/msg/DiagnosticArray']),\n",
       " ('/downsampled_costmap', ['nav_msgs/msg/OccupancyGrid']),\n",
       " ('/downsampled_costmap_updates', ['map_msgs/msg/OccupancyGridUpdate']),\n",
       " ('/drive_on_heading/_action/feedback',\n",
       "  ['nav2_msgs/action/DriveOnHeading_FeedbackMessage']),\n",
       " ('/drive_on_heading/_action/status', ['action_msgs/msg/GoalStatusArray']),\n",
       " ('/evaluation', ['dwb_msgs/msg/LocalPlanEvaluation']),\n",
       " ('/follow_path/_action/feedback',\n",
       "  ['nav2_msgs/action/FollowPath_FeedbackMessage']),\n",
       " ('/follow_path/_action/status', ['action_msgs/msg/GoalStatusArray']),\n",
       " ('/follow_waypoints/_action/feedback',\n",
       "  ['nav2_msgs/action/FollowWaypoints_FeedbackMessage']),\n",
       " ('/follow_waypoints/_action/status', ['action_msgs/msg/GoalStatusArray']),\n",
       " ('/global_costmap/costmap', ['nav_msgs/msg/OccupancyGrid']),\n",
       " ('/global_costmap/costmap_raw', ['nav2_msgs/msg/Costmap']),\n",
       " ('/global_costmap/costmap_updates', ['map_msgs/msg/OccupancyGridUpdate']),\n",
       " ('/global_costmap/footprint', ['geometry_msgs/msg/Polygon']),\n",
       " ('/global_costmap/global_costmap/transition_event',\n",
       "  ['lifecycle_msgs/msg/TransitionEvent']),\n",
       " ('/global_costmap/published_footprint', ['geometry_msgs/msg/PolygonStamped']),\n",
       " ('/global_costmap/voxel_marked_cloud', ['sensor_msgs/msg/PointCloud2']),\n",
       " ('/goal_pose', ['geometry_msgs/msg/PoseStamped']),\n",
       " ('/imu', ['sensor_msgs/msg/Imu']),\n",
       " ('/initialpose', ['geometry_msgs/msg/PoseWithCovarianceStamped']),\n",
       " ('/joint_states', ['sensor_msgs/msg/JointState']),\n",
       " ('/local_costmap/clearing_endpoints', ['sensor_msgs/msg/PointCloud2']),\n",
       " ('/local_costmap/costmap', ['nav_msgs/msg/OccupancyGrid']),\n",
       " ('/local_costmap/costmap_raw', ['nav2_msgs/msg/Costmap']),\n",
       " ('/local_costmap/costmap_updates', ['map_msgs/msg/OccupancyGridUpdate']),\n",
       " ('/local_costmap/footprint', ['geometry_msgs/msg/Polygon']),\n",
       " ('/local_costmap/local_costmap/transition_event',\n",
       "  ['lifecycle_msgs/msg/TransitionEvent']),\n",
       " ('/local_costmap/published_footprint', ['geometry_msgs/msg/PolygonStamped']),\n",
       " ('/local_costmap/voxel_grid', ['nav2_msgs/msg/VoxelGrid']),\n",
       " ('/local_costmap/voxel_marked_cloud', ['sensor_msgs/msg/PointCloud2']),\n",
       " ('/local_plan', ['nav_msgs/msg/Path']),\n",
       " ('/map', ['nav_msgs/msg/OccupancyGrid']),\n",
       " ('/map_server/transition_event', ['lifecycle_msgs/msg/TransitionEvent']),\n",
       " ('/map_updates', ['map_msgs/msg/OccupancyGridUpdate']),\n",
       " ('/marker', ['visualization_msgs/msg/MarkerArray']),\n",
       " ('/mobile_base/sensors/bumper_pointcloud', ['sensor_msgs/msg/PointCloud2']),\n",
       " ('/navigate_through_poses/_action/feedback',\n",
       "  ['nav2_msgs/action/NavigateThroughPoses_FeedbackMessage']),\n",
       " ('/navigate_through_poses/_action/status',\n",
       "  ['action_msgs/msg/GoalStatusArray']),\n",
       " ('/navigate_to_pose/_action/feedback',\n",
       "  ['nav2_msgs/action/NavigateToPose_FeedbackMessage']),\n",
       " ('/navigate_to_pose/_action/status', ['action_msgs/msg/GoalStatusArray']),\n",
       " ('/odom', ['nav_msgs/msg/Odometry']),\n",
       " ('/parameter_events', ['rcl_interfaces/msg/ParameterEvent']),\n",
       " ('/particle_cloud', ['nav2_msgs/msg/ParticleCloud']),\n",
       " ('/performance_metrics', ['gazebo_msgs/msg/PerformanceMetrics']),\n",
       " ('/plan', ['nav_msgs/msg/Path']),\n",
       " ('/plan_smoothed', ['nav_msgs/msg/Path']),\n",
       " ('/planner_server/transition_event', ['lifecycle_msgs/msg/TransitionEvent']),\n",
       " ('/preempt_teleop', ['std_msgs/msg/Empty']),\n",
       " ('/received_global_plan', ['nav_msgs/msg/Path']),\n",
       " ('/robot_description', ['std_msgs/msg/String']),\n",
       " ('/rosout', ['rcl_interfaces/msg/Log']),\n",
       " ('/scan', ['sensor_msgs/msg/LaserScan']),\n",
       " ('/smooth_path/_action/feedback',\n",
       "  ['nav2_msgs/action/SmoothPath_FeedbackMessage']),\n",
       " ('/smooth_path/_action/status', ['action_msgs/msg/GoalStatusArray']),\n",
       " ('/smoother_server/transition_event', ['lifecycle_msgs/msg/TransitionEvent']),\n",
       " ('/speed_limit', ['nav2_msgs/msg/SpeedLimit']),\n",
       " ('/spin/_action/feedback', ['nav2_msgs/action/Spin_FeedbackMessage']),\n",
       " ('/spin/_action/status', ['action_msgs/msg/GoalStatusArray']),\n",
       " ('/tf', ['tf2_msgs/msg/TFMessage']),\n",
       " ('/tf_static', ['tf2_msgs/msg/TFMessage']),\n",
       " ('/transformed_global_plan', ['nav_msgs/msg/Path']),\n",
       " ('/velocity_smoother/transition_event',\n",
       "  ['lifecycle_msgs/msg/TransitionEvent']),\n",
       " ('/wait/_action/feedback', ['nav2_msgs/action/Wait_FeedbackMessage']),\n",
       " ('/wait/_action/status', ['action_msgs/msg/GoalStatusArray']),\n",
       " ('/waypoint_follower/transition_event',\n",
       "  ['lifecycle_msgs/msg/TransitionEvent']),\n",
       " ('/waypoints', ['visualization_msgs/msg/MarkerArray'])]"
      ]
     },
     "execution_count": 72,
     "metadata": {},
     "output_type": "execute_result"
    }
   ],
   "source": [
    "# rzeczy z feedbacku możemy odczytywać także jako topic\n",
    "minimal_node.get_topic_names_and_types()"
   ]
  },
  {
   "cell_type": "markdown",
   "id": "d7b7d224",
   "metadata": {},
   "source": [
    "[Next exercise: 8. Parameters](8.%20Parameters.ipynb)"
   ]
  }
 ],
 "metadata": {
  "kernelspec": {
   "display_name": "Python 3 (ipykernel)",
   "language": "python",
   "name": "python3"
  },
  "language_info": {
   "codemirror_mode": {
    "name": "ipython",
    "version": 3
   },
   "file_extension": ".py",
   "mimetype": "text/x-python",
   "name": "python",
   "nbconvert_exporter": "python",
   "pygments_lexer": "ipython3",
   "version": "3.7.3"
  }
 },
 "nbformat": 4,
 "nbformat_minor": 5
}

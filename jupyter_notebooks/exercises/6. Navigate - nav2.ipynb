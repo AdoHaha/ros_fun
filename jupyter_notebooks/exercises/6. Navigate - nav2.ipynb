{
 "cells": [
  {
   "cell_type": "markdown",
   "id": "91842e01",
   "metadata": {},
   "source": [
    "# Navigate i ROS Action\n",
    "\n",
    "Poruszanie się robotem to jego podstawowe zadanie\n",
    "\n",
    "<img src=\"./images/nav.jpg\" width=\"40%\">\n"
   ]
  },
  {
   "cell_type": "markdown",
   "id": "719d5e2f",
   "metadata": {},
   "source": [
    "# Navigate\n",
    "\n",
    "Navigate (nav2) to zestaw narzędzi pozwalających na poruszanie się robotem po pomieszczeniach. Narzędzia pozwalają tworzyć mapę, planować ruch, poruszać się po zmapowanym terenie czy nawet tworzyć skomplikowane zachowania\n",
    "\n",
    "Nie jesteśmy w stanie zrobić wszystkiego, dlatego przygotowałem mapę (za pomocą [SLAM](https://emanual.robotis.com/docs/en/platform/turtlebot3/slam_simulation/)) po której może poruszać się robot.\n",
    "\n",
    "Nawigacja składa się z paru części:\n",
    "\n",
    "- lokalizacja: node'y zajmujące się obliczaniem gdzie robot jest. Wykorzystują do tego czujniki: **obrotu kół (odometria)**, potencjalnie IMU (akcelerometr i żyroskop) i czujnik laserowy, pozwalający określić punkty charakterystyczne występujące na mapie. \n",
    "- planowanie: node'y określające jak względem mapy (i ew. przeszkód) należy wyznaczyć trasę aby robot dojechał do celu (lub chociaż kolejnej części trasy\n",
    "- kontrolę: node'y komunikujące się bezpośrednio z kołami\n",
    "\n",
    "Dla czystości uruchommy wszystko od początku - zresetujemy symulację"
   ]
  },
  {
   "cell_type": "code",
   "execution_count": 2,
   "id": "96e5c52f",
   "metadata": {},
   "outputs": [],
   "source": [
    "import helper_services\n",
    "from run_in_term import run_lxterminal"
   ]
  },
  {
   "cell_type": "code",
   "execution_count": 6,
   "id": "71cd21a3",
   "metadata": {},
   "outputs": [],
   "source": [
    "\n",
    "\n",
    "\n",
    "import rclpy\n",
    "from rclpy.node import Node\n",
    "\n",
    "from std_msgs.msg import String\n",
    "\n",
    "\n",
    "class MinimalNode(Node):\n",
    "\n",
    "    def __init__(self):\n",
    "        super().__init__('service_node')\n",
    "    \n",
    "\n",
    "try:\n",
    "    rclpy.init()\n",
    "\n",
    "    minimal_node = MinimalNode()\n",
    "except RuntimeError:\n",
    "    pass"
   ]
  },
  {
   "cell_type": "code",
   "execution_count": 7,
   "id": "115f1eac",
   "metadata": {},
   "outputs": [
    {
     "name": "stdout",
     "output_type": "stream",
     "text": [
      "Failed to connect to the pause service\n"
     ]
    }
   ],
   "source": [
    "try:\n",
    "    helper_services.clear_simulate(minimal_node)\n",
    "except RuntimeError:\n",
    "    run_lxterminal(\"ros2 launch turtlebot3_gazebo turtlebot3_world.launch.py\")\n"
   ]
  },
  {
   "cell_type": "markdown",
   "id": "84775b14",
   "metadata": {},
   "source": [
    "## uruchomimy też  *Navigate* pozwajacy na nawigowanie robotem"
   ]
  },
  {
   "cell_type": "code",
   "execution_count": 19,
   "id": "1025a6bb",
   "metadata": {},
   "outputs": [
    {
     "data": {
      "text/html": [
       "\n",
       "        <iframe\n",
       "            width=\"800\"\n",
       "            height=\"450\"\n",
       "            src=\"http://localhost:6080\"\n",
       "            frameborder=\"0\"\n",
       "            allowfullscreen\n",
       "            \n",
       "        ></iframe>\n",
       "        "
      ],
      "text/plain": [
       "<IPython.lib.display.IFrame at 0x7fd8fe1eb3a0>"
      ]
     },
     "execution_count": 19,
     "metadata": {},
     "output_type": "execute_result"
    }
   ],
   "source": [
    "from IPython.display import IFrame \n",
    "\n",
    "IFrame('http://localhost:6080', width=800, height=450)\n",
    "\n"
   ]
  },
  {
   "cell_type": "code",
   "execution_count": 3,
   "id": "c3c343e3",
   "metadata": {},
   "outputs": [],
   "source": [
    "run_lxterminal(\"ros2 run rviz2 rviz2 -d $(ros2 pkg prefix nav2_bringup)/share/nav2_bringup/rviz/nav2_default_view.rviz\")"
   ]
  },
  {
   "cell_type": "code",
   "execution_count": 4,
   "id": "aa15d7a5",
   "metadata": {},
   "outputs": [],
   "source": [
    "run_lxterminal(\"ros2 launch nav2_bringup bringup_launch.py autostart:=True use_sim_time:=True map:=/home/ubuntu/turtlebot3_ws/src/jupyter_notebooks/map.yaml\")\n"
   ]
  },
  {
   "cell_type": "code",
   "execution_count": 8,
   "id": "4b24a0ed",
   "metadata": {},
   "outputs": [
    {
     "name": "stdout",
     "output_type": "stream",
     "text": [
      "Parameter set successfully\n"
     ]
    }
   ],
   "source": [
    "helper_services.set_controller_frequency(minimal_node)"
   ]
  },
  {
   "cell_type": "code",
   "execution_count": 7,
   "id": "0263c97c",
   "metadata": {},
   "outputs": [],
   "source": [
    "from geometry_msgs.msg import PoseWithCovarianceStamped\n",
    "\n",
    "send_start_pose_publisher = minimal_node.create_publisher(PoseWithCovarianceStamped, 'initialpose', 1)\n",
    "initial_pose = PoseWithCovarianceStamped()\n",
    "initial_pose.header.stamp = minimal_node.get_clock().now().to_msg()\n",
    "initial_pose.header.frame_id = \"map\"\n",
    "initial_pose.pose.pose.position.x = 0.08\n",
    "initial_pose.pose.pose.position.y = 0.0\n",
    "initial_pose.pose.pose.orientation.z = 0.0\n",
    "initial_pose.pose.pose.orientation.w = 1.0\n",
    "\n",
    "initial_pose.pose.covariance[0] = 0.25\n",
    "initial_pose.pose.covariance[7] = 0.25\n",
    "initial_pose.pose.covariance[-1] = 0.06\n",
    "\n",
    "send_start_pose_publisher.publish(initial_pose)"
   ]
  },
  {
   "cell_type": "markdown",
   "id": "b0a5fde7",
   "metadata": {},
   "source": [
    "# możemy robotem poruszać z poziomu Rviz\n",
    "\n",
    "Ustaw strzałeczką pozycję do którego robot ma dojechać:\n",
    "Nav2 Goal"
   ]
  },
  {
   "cell_type": "markdown",
   "id": "59cedbd6",
   "metadata": {},
   "source": [
    "# Możemy też wykorzystać basic navigator"
   ]
  },
  {
   "cell_type": "code",
   "execution_count": 8,
   "id": "6ce4fa18",
   "metadata": {},
   "outputs": [],
   "source": [
    "from geometry_msgs.msg import PoseStamped\n",
    "from nav2_simple_commander.robot_navigator import BasicNavigator, TaskResult\n",
    "import rclpy\n",
    "from rclpy.duration import Duration\n",
    "\n",
    "\"\"\"\n",
    "Basic navigation demo to go to pose.\n",
    "\"\"\"\n",
    "\n",
    "\n",
    "navigator = BasicNavigator()"
   ]
  },
  {
   "cell_type": "code",
   "execution_count": 10,
   "id": "236a201c",
   "metadata": {},
   "outputs": [
    {
     "name": "stderr",
     "output_type": "stream",
     "text": [
      "[INFO] [1687877901.740396031] [basic_navigator]: Nav2 is ready for use!\n",
      "[INFO] [1687877901.744856772] [basic_navigator]: Navigating to goal: 0.5 -1.2...\n"
     ]
    },
    {
     "name": "stdout",
     "output_type": "stream",
     "text": [
      "nav2_msgs.action.NavigateToPose_Feedback(current_pose=geometry_msgs.msg.PoseStamped(header=std_msgs.msg.Header(stamp=builtin_interfaces.msg.Time(sec=45, nanosec=16000000), frame_id='map'), pose=geometry_msgs.msg.Pose(position=geometry_msgs.msg.Point(x=0.08223321091998104, y=-0.01706420871489983, z=0.010018722715996329), orientation=geometry_msgs.msg.Quaternion(x=-6.63907416945584e-06, y=8.616936144873104e-07, z=-0.004488768257418764, w=0.999989925406607))), navigation_time=builtin_interfaces.msg.Duration(sec=0, nanosec=0), estimated_time_remaining=builtin_interfaces.msg.Duration(sec=0, nanosec=0), number_of_recoveries=0, distance_remaining=1.3029338121414185)\n",
      "nav2_msgs.action.NavigateToPose_Feedback(current_pose=geometry_msgs.msg.PoseStamped(header=std_msgs.msg.Header(stamp=builtin_interfaces.msg.Time(sec=45, nanosec=50000000), frame_id='map'), pose=geometry_msgs.msg.Pose(position=geometry_msgs.msg.Point(x=0.08223324367483853, y=-0.017064342833354118, z=0.010017350846610037), orientation=geometry_msgs.msg.Quaternion(x=-3.289625205078987e-06, y=1.5160580658813634e-06, z=-0.004488724553204051, w=0.999989925618636))), navigation_time=builtin_interfaces.msg.Duration(sec=0, nanosec=35000000), estimated_time_remaining=builtin_interfaces.msg.Duration(sec=0, nanosec=0), number_of_recoveries=0, distance_remaining=1.3029338121414185)\n",
      "nav2_msgs.action.NavigateToPose_Feedback(current_pose=geometry_msgs.msg.PoseStamped(header=std_msgs.msg.Header(stamp=builtin_interfaces.msg.Time(sec=45, nanosec=84000000), frame_id='map'), pose=geometry_msgs.msg.Pose(position=geometry_msgs.msg.Point(x=0.08338717371968496, y=-0.017074767259911583, z=0.010040646003120842), orientation=geometry_msgs.msg.Quaternion(x=-2.0700317401540406e-06, y=-3.6072858555436424e-05, z=-0.004488771262879933, w=0.9999899247627515))), navigation_time=builtin_interfaces.msg.Duration(sec=0, nanosec=71000000), estimated_time_remaining=builtin_interfaces.msg.Duration(sec=0, nanosec=0), number_of_recoveries=0, distance_remaining=1.3029338121414185)\n",
      "nav2_msgs.action.NavigateToPose_Feedback(current_pose=geometry_msgs.msg.PoseStamped(header=std_msgs.msg.Header(stamp=builtin_interfaces.msg.Time(sec=45, nanosec=118000000), frame_id='map'), pose=geometry_msgs.msg.Pose(position=geometry_msgs.msg.Point(x=0.08569644779358265, y=-0.017095462816687834, z=0.010071651739602762), orientation=geometry_msgs.msg.Quaternion(x=-3.6129748213463425e-06, y=-9.157804158551659e-05, z=-0.004488686237473531, w=0.999989921597348))), navigation_time=builtin_interfaces.msg.Duration(sec=0, nanosec=124000000), estimated_time_remaining=builtin_interfaces.msg.Duration(sec=114, nanosec=542705110), number_of_recoveries=0, distance_remaining=1.3029338121414185)\n",
      "nav2_msgs.action.NavigateToPose_Feedback(current_pose=geometry_msgs.msg.PoseStamped(header=std_msgs.msg.Header(stamp=builtin_interfaces.msg.Time(sec=45, nanosec=186000000), frame_id='map'), pose=geometry_msgs.msg.Pose(position=geometry_msgs.msg.Point(x=0.09196278078085918, y=-0.017181254055131046, z=0.01011289447559359), orientation=geometry_msgs.msg.Quaternion(x=3.448628229898674e-05, y=-0.0001234273110524662, z=-0.010819130203333813, w=0.999941463285746))), navigation_time=builtin_interfaces.msg.Duration(sec=0, nanosec=207000000), estimated_time_remaining=builtin_interfaces.msg.Duration(sec=40, nanosec=876307349), number_of_recoveries=0, distance_remaining=1.3029338121414185)\n",
      "nav2_msgs.action.NavigateToPose_Feedback(current_pose=geometry_msgs.msg.PoseStamped(header=std_msgs.msg.Header(stamp=builtin_interfaces.msg.Time(sec=45, nanosec=254000000), frame_id='map'), pose=geometry_msgs.msg.Pose(position=geometry_msgs.msg.Point(x=0.10047425685963707, y=-0.017481030426257538, z=0.010139664764387116), orientation=geometry_msgs.msg.Quaternion(x=0.000130002437198124, y=-7.098911236812234e-05, z=-0.02552489648461278, w=0.9996741757789696))), navigation_time=builtin_interfaces.msg.Duration(sec=0, nanosec=276000000), estimated_time_remaining=builtin_interfaces.msg.Duration(sec=21, nanosec=335014861), number_of_recoveries=0, distance_remaining=1.2739949226379395)\n",
      "nav2_msgs.action.NavigateToPose_Feedback(current_pose=geometry_msgs.msg.PoseStamped(header=std_msgs.msg.Header(stamp=builtin_interfaces.msg.Time(sec=45, nanosec=322000000), frame_id='map'), pose=geometry_msgs.msg.Pose(position=geometry_msgs.msg.Point(x=0.11130331871803234, y=-0.018269647958217228, z=0.010193856428840955), orientation=geometry_msgs.msg.Quaternion(x=0.00026967845583115464, y=-2.5548683781658953e-05, z=-0.04825862457554742, w=0.9988348370851267))), navigation_time=builtin_interfaces.msg.Duration(sec=0, nanosec=326000000), estimated_time_remaining=builtin_interfaces.msg.Duration(sec=13, nanosec=381622620), number_of_recoveries=0, distance_remaining=1.2739949226379395)\n",
      "nav2_msgs.action.NavigateToPose_Feedback(current_pose=geometry_msgs.msg.PoseStamped(header=std_msgs.msg.Header(stamp=builtin_interfaces.msg.Time(sec=45, nanosec=356000000), frame_id='map'), pose=geometry_msgs.msg.Pose(position=geometry_msgs.msg.Point(x=0.1180281303425399, y=-0.01900630130883102, z=0.010248874006665432), orientation=geometry_msgs.msg.Quaternion(x=0.0003385331197149567, y=-3.66919563058298e-05, z=-0.061106778501116246, w=0.9981311765846423))), navigation_time=builtin_interfaces.msg.Duration(sec=0, nanosec=374000000), estimated_time_remaining=builtin_interfaces.msg.Duration(sec=10, nanosec=859690671), number_of_recoveries=0, distance_remaining=1.2739949226379395)\n",
      "nav2_msgs.action.NavigateToPose_Feedback(current_pose=geometry_msgs.msg.PoseStamped(header=std_msgs.msg.Header(stamp=builtin_interfaces.msg.Time(sec=45, nanosec=390000000), frame_id='map'), pose=geometry_msgs.msg.Pose(position=geometry_msgs.msg.Point(x=0.1253099422522279, y=-0.020002331091866166, z=0.010301151411285101), orientation=geometry_msgs.msg.Quaternion(x=0.00041485204643653816, y=-5.4825017664578836e-05, z=-0.07571077312584688, w=0.9971297326449973))), navigation_time=builtin_interfaces.msg.Duration(sec=0, nanosec=409000000), estimated_time_remaining=builtin_interfaces.msg.Duration(sec=9, nanosec=261097108), number_of_recoveries=0, distance_remaining=1.2739949226379395)\n",
      "nav2_msgs.action.NavigateToPose_Feedback(current_pose=geometry_msgs.msg.PoseStamped(header=std_msgs.msg.Header(stamp=builtin_interfaces.msg.Time(sec=45, nanosec=424000000), frame_id='map'), pose=geometry_msgs.msg.Pose(position=geometry_msgs.msg.Point(x=0.13271217010550385, y=-0.02125636972509448, z=0.01034445678983641), orientation=geometry_msgs.msg.Quaternion(x=0.0005122184945140308, y=-5.740732863488696e-05, z=-0.09266164098016835, w=0.9956975216537775))), navigation_time=builtin_interfaces.msg.Duration(sec=0, nanosec=459000000), estimated_time_remaining=builtin_interfaces.msg.Duration(sec=8, nanosec=243456999), number_of_recoveries=0, distance_remaining=1.2739949226379395)\n",
      "nav2_msgs.action.NavigateToPose_Feedback(current_pose=geometry_msgs.msg.PoseStamped(header=std_msgs.msg.Header(stamp=builtin_interfaces.msg.Time(sec=45, nanosec=458000000), frame_id='map'), pose=geometry_msgs.msg.Pose(position=geometry_msgs.msg.Point(x=0.14006726430457261, y=-0.022765167412697518, z=0.010382714333716576), orientation=geometry_msgs.msg.Quaternion(x=0.0006177447432677803, y=-4.1927570482794556e-05, z=-0.10954589725454346, w=0.993981545617527))), navigation_time=builtin_interfaces.msg.Duration(sec=0, nanosec=482000000), estimated_time_remaining=builtin_interfaces.msg.Duration(sec=7, nanosec=459423347), number_of_recoveries=0, distance_remaining=1.2653462886810303)\n",
      "nav2_msgs.action.NavigateToPose_Feedback(current_pose=geometry_msgs.msg.PoseStamped(header=std_msgs.msg.Header(stamp=builtin_interfaces.msg.Time(sec=45, nanosec=492000000), frame_id='map'), pose=geometry_msgs.msg.Pose(position=geometry_msgs.msg.Point(x=0.14691602452638053, y=-0.02441222242455926, z=0.010410672769031513), orientation=geometry_msgs.msg.Quaternion(x=0.0007343149580799562, y=-3.878195892695795e-06, z=-0.126317733139254, w=0.9919895619718296))), navigation_time=builtin_interfaces.msg.Duration(sec=0, nanosec=528000000), estimated_time_remaining=builtin_interfaces.msg.Duration(sec=6, nanosec=967791068), number_of_recoveries=0, distance_remaining=1.2653462886810303)\n"
     ]
    },
    {
     "name": "stdout",
     "output_type": "stream",
     "text": [
      "nav2_msgs.action.NavigateToPose_Feedback(current_pose=geometry_msgs.msg.PoseStamped(header=std_msgs.msg.Header(stamp=builtin_interfaces.msg.Time(sec=45, nanosec=560000000), frame_id='map'), pose=geometry_msgs.msg.Pose(position=geometry_msgs.msg.Point(x=0.1599819548641166, y=-0.028258431473381973, z=0.010482132993639173), orientation=geometry_msgs.msg.Quaternion(x=0.0009553514715234313, y=5.588732680947401e-05, z=-0.15985797787451045, w=0.9871395600876531))), navigation_time=builtin_interfaces.msg.Duration(sec=0, nanosec=578000000), estimated_time_remaining=builtin_interfaces.msg.Duration(sec=6, nanosec=381859336), number_of_recoveries=0, distance_remaining=1.2653462886810303)\n",
      "nav2_msgs.action.NavigateToPose_Feedback(current_pose=geometry_msgs.msg.PoseStamped(header=std_msgs.msg.Header(stamp=builtin_interfaces.msg.Time(sec=45, nanosec=628000000), frame_id='map'), pose=geometry_msgs.msg.Pose(position=geometry_msgs.msg.Point(x=0.17231578618385002, y=-0.032824299534809476, z=0.010566035264240086), orientation=geometry_msgs.msg.Quaternion(x=0.001150453403751641, y=3.866539881156846e-05, z=-0.19320615410857048, w=0.9811575087500111))), navigation_time=builtin_interfaces.msg.Duration(sec=0, nanosec=640000000), estimated_time_remaining=builtin_interfaces.msg.Duration(sec=6, nanosec=149256536), number_of_recoveries=0, distance_remaining=1.2653462886810303)\n",
      "nav2_msgs.action.NavigateToPose_Feedback(current_pose=geometry_msgs.msg.PoseStamped(header=std_msgs.msg.Header(stamp=builtin_interfaces.msg.Time(sec=45, nanosec=628000000), frame_id='map'), pose=geometry_msgs.msg.Pose(position=geometry_msgs.msg.Point(x=0.17231578618385002, y=-0.032824299534809476, z=0.010566035264240086), orientation=geometry_msgs.msg.Quaternion(x=0.001150453403751641, y=3.866539881156846e-05, z=-0.19320615410857048, w=0.9811575087500111))), navigation_time=builtin_interfaces.msg.Duration(sec=0, nanosec=652000000), estimated_time_remaining=builtin_interfaces.msg.Duration(sec=6, nanosec=149256536), number_of_recoveries=0, distance_remaining=1.2653462886810303)\n",
      "nav2_msgs.action.NavigateToPose_Feedback(current_pose=geometry_msgs.msg.PoseStamped(header=std_msgs.msg.Header(stamp=builtin_interfaces.msg.Time(sec=45, nanosec=662000000), frame_id='map'), pose=geometry_msgs.msg.Pose(position=geometry_msgs.msg.Point(x=0.1783588666351381, y=-0.03541750586352277, z=0.010610321238789445), orientation=geometry_msgs.msg.Quaternion(x=0.0012433794742331289, y=8.750998492781906e-06, z=-0.20979985601394607, w=0.9777435626724578))), navigation_time=builtin_interfaces.msg.Duration(sec=0, nanosec=675000000), estimated_time_remaining=builtin_interfaces.msg.Duration(sec=5, nanosec=966096989), number_of_recoveries=0, distance_remaining=1.2239949703216553)\n",
      "nav2_msgs.action.NavigateToPose_Feedback(current_pose=geometry_msgs.msg.PoseStamped(header=std_msgs.msg.Header(stamp=builtin_interfaces.msg.Time(sec=45, nanosec=662000000), frame_id='map'), pose=geometry_msgs.msg.Pose(position=geometry_msgs.msg.Point(x=0.1783588666351381, y=-0.03541750586352277, z=0.010610321238789445), orientation=geometry_msgs.msg.Quaternion(x=0.0012433794742331289, y=8.750998492781906e-06, z=-0.20979985601394607, w=0.9777435626724578))), navigation_time=builtin_interfaces.msg.Duration(sec=0, nanosec=694000000), estimated_time_remaining=builtin_interfaces.msg.Duration(sec=5, nanosec=966096989), number_of_recoveries=0, distance_remaining=1.2239949703216553)\n",
      "nav2_msgs.action.NavigateToPose_Feedback(current_pose=geometry_msgs.msg.PoseStamped(header=std_msgs.msg.Header(stamp=builtin_interfaces.msg.Time(sec=45, nanosec=730000000), frame_id='map'), pose=geometry_msgs.msg.Pose(position=geometry_msgs.msg.Point(x=0.19286325630613743, y=-0.042549994422667714, z=0.010745148203101016), orientation=geometry_msgs.msg.Quaternion(x=0.001426690247949461, y=-0.00011441890344942247, z=-0.24279579832231904, w=0.9700763638911518))), navigation_time=builtin_interfaces.msg.Duration(sec=0, nanosec=712000000), estimated_time_remaining=builtin_interfaces.msg.Duration(sec=5, nanosec=844121449), number_of_recoveries=0, distance_remaining=1.2239949703216553)\n",
      "nav2_msgs.action.NavigateToPose_Feedback(current_pose=geometry_msgs.msg.PoseStamped(header=std_msgs.msg.Header(stamp=builtin_interfaces.msg.Time(sec=45, nanosec=798000000), frame_id='map'), pose=geometry_msgs.msg.Pose(position=geometry_msgs.msg.Point(x=0.2074735363739466, y=-0.05099428979091214, z=0.010827247737434199), orientation=geometry_msgs.msg.Quaternion(x=0.0016399020349030084, y=-9.101262669344516e-05, z=-0.2755104806665666, w=0.9612966646571157))), navigation_time=builtin_interfaces.msg.Duration(sec=0, nanosec=752000000), estimated_time_remaining=builtin_interfaces.msg.Duration(sec=5, nanosec=524068021), number_of_recoveries=0, distance_remaining=1.1989949941635132)\n",
      "nav2_msgs.action.NavigateToPose_Feedback(current_pose=geometry_msgs.msg.PoseStamped(header=std_msgs.msg.Header(stamp=builtin_interfaces.msg.Time(sec=45, nanosec=832000000), frame_id='map'), pose=geometry_msgs.msg.Pose(position=geometry_msgs.msg.Point(x=0.21455742326822103, y=-0.055583501614451025, z=0.010855288064053229), orientation=geometry_msgs.msg.Quaternion(x=0.0017566220930482672, y=-3.725871926684557e-05, z=-0.2917520326973883, w=0.9564923754570928))), navigation_time=builtin_interfaces.msg.Duration(sec=0, nanosec=868000000), estimated_time_remaining=builtin_interfaces.msg.Duration(sec=5, nanosec=410249776), number_of_recoveries=0, distance_remaining=1.1989949941635132)\n",
      "nav2_msgs.action.NavigateToPose_Feedback(current_pose=geometry_msgs.msg.PoseStamped(header=std_msgs.msg.Header(stamp=builtin_interfaces.msg.Time(sec=45, nanosec=900000000), frame_id='map'), pose=geometry_msgs.msg.Pose(position=geometry_msgs.msg.Point(x=0.22889403452414747, y=-0.06581871019597563, z=0.01091268255504816), orientation=geometry_msgs.msg.Quaternion(x=0.0019180935374284657, y=3.276996420173202e-05, z=-0.3177394117841964, w=0.9481761366129945))), navigation_time=builtin_interfaces.msg.Duration(sec=0, nanosec=913000000), estimated_time_remaining=builtin_interfaces.msg.Duration(sec=5, nanosec=76416176), number_of_recoveries=0, distance_remaining=1.1989949941635132)\n",
      "nav2_msgs.action.NavigateToPose_Feedback(current_pose=geometry_msgs.msg.PoseStamped(header=std_msgs.msg.Header(stamp=builtin_interfaces.msg.Time(sec=45, nanosec=968000000), frame_id='map'), pose=geometry_msgs.msg.Pose(position=geometry_msgs.msg.Point(x=0.24192446215086316, y=-0.07623705174357154, z=0.010993615986159683), orientation=geometry_msgs.msg.Quaternion(x=0.0021052925591105403, y=3.90018530118252e-05, z=-0.3436382819529102, w=0.9390997270783058))), navigation_time=builtin_interfaces.msg.Duration(sec=0, nanosec=978000000), estimated_time_remaining=builtin_interfaces.msg.Duration(sec=4, nanosec=840115965), number_of_recoveries=0, distance_remaining=1.1989949941635132)\n",
      "nav2_msgs.action.NavigateToPose_Feedback(current_pose=geometry_msgs.msg.PoseStamped(header=std_msgs.msg.Header(stamp=builtin_interfaces.msg.Time(sec=46, nanosec=36000000), frame_id='map'), pose=geometry_msgs.msg.Pose(position=geometry_msgs.msg.Point(x=0.2544991706087607, y=-0.08744686709791039, z=0.011095747892328185), orientation=geometry_msgs.msg.Quaternion(x=0.002271535746260665, y=-2.4493510322803195e-05, z=-0.368626006466081, w=0.9295750141232767))), navigation_time=builtin_interfaces.msg.Duration(sec=1, nanosec=49000000), estimated_time_remaining=builtin_interfaces.msg.Duration(sec=4, nanosec=697219978), number_of_recoveries=0, distance_remaining=1.173995018005371)\n",
      "nav2_msgs.action.NavigateToPose_Feedback(current_pose=geometry_msgs.msg.PoseStamped(header=std_msgs.msg.Header(stamp=builtin_interfaces.msg.Time(sec=46, nanosec=70000000), frame_id='map'), pose=geometry_msgs.msg.Pose(position=geometry_msgs.msg.Point(x=0.26077297672433986, y=-0.09349748184127182, z=0.011138705152599144), orientation=geometry_msgs.msg.Quaternion(x=0.0023160991564579927, y=-4.7865951456053636e-05, z=-0.3799615642250875, w=0.9249993746512335))), navigation_time=builtin_interfaces.msg.Duration(sec=1, nanosec=104000000), estimated_time_remaining=builtin_interfaces.msg.Duration(sec=4, nanosec=680254779), number_of_recoveries=0, distance_remaining=1.173995018005371)\n"
     ]
    },
    {
     "name": "stdout",
     "output_type": "stream",
     "text": [
      "nav2_msgs.action.NavigateToPose_Feedback(current_pose=geometry_msgs.msg.PoseStamped(header=std_msgs.msg.Header(stamp=builtin_interfaces.msg.Time(sec=46, nanosec=138000000), frame_id='map'), pose=geometry_msgs.msg.Pose(position=geometry_msgs.msg.Point(x=0.2731198830016859, y=-0.10627029200789195, z=0.011222029832037309), orientation=geometry_msgs.msg.Quaternion(x=0.002406253404194489, y=-4.918046170936423e-05, z=-0.4012691658948138, w=0.9159570208409985))), navigation_time=builtin_interfaces.msg.Duration(sec=1, nanosec=157000000), estimated_time_remaining=builtin_interfaces.msg.Duration(sec=4, nanosec=528177048), number_of_recoveries=0, distance_remaining=1.148995041847229)\n",
      "nav2_msgs.action.NavigateToPose_Feedback(current_pose=geometry_msgs.msg.PoseStamped(header=std_msgs.msg.Header(stamp=builtin_interfaces.msg.Time(sec=46, nanosec=138000000), frame_id='map'), pose=geometry_msgs.msg.Pose(position=geometry_msgs.msg.Point(x=0.2731198830016859, y=-0.10627029200789195, z=0.011222029832037309), orientation=geometry_msgs.msg.Quaternion(x=0.002406253404194489, y=-4.918046170936423e-05, z=-0.4012691658948138, w=0.9159570208409985))), navigation_time=builtin_interfaces.msg.Duration(sec=1, nanosec=181000000), estimated_time_remaining=builtin_interfaces.msg.Duration(sec=4, nanosec=528177048), number_of_recoveries=0, distance_remaining=1.148995041847229)\n",
      "nav2_msgs.action.NavigateToPose_Feedback(current_pose=geometry_msgs.msg.PoseStamped(header=std_msgs.msg.Header(stamp=builtin_interfaces.msg.Time(sec=46, nanosec=206000000), frame_id='map'), pose=geometry_msgs.msg.Pose(position=geometry_msgs.msg.Point(x=0.28444871487377243, y=-0.1191289501219841, z=0.011270462424331669), orientation=geometry_msgs.msg.Quaternion(x=0.002583994395152703, y=-1.0818673368088073e-06, z=-0.4228908098012475, w=0.906176961722952))), navigation_time=builtin_interfaces.msg.Duration(sec=1, nanosec=212000000), estimated_time_remaining=builtin_interfaces.msg.Duration(sec=4, nanosec=556214517), number_of_recoveries=0, distance_remaining=1.148995041847229)\n",
      "nav2_msgs.action.NavigateToPose_Feedback(current_pose=geometry_msgs.msg.PoseStamped(header=std_msgs.msg.Header(stamp=builtin_interfaces.msg.Time(sec=46, nanosec=240000000), frame_id='map'), pose=geometry_msgs.msg.Pose(position=geometry_msgs.msg.Point(x=0.28978057422859615, y=-0.12564482134543686, z=0.01130268658969234), orientation=geometry_msgs.msg.Quaternion(x=0.0026723430112406896, y=1.8447652187877927e-05, z=-0.4334410960802219, w=0.9011779371862642))), navigation_time=builtin_interfaces.msg.Duration(sec=1, nanosec=248000000), estimated_time_remaining=builtin_interfaces.msg.Duration(sec=4, nanosec=447960383), number_of_recoveries=0, distance_remaining=1.123995065689087)\n",
      "nav2_msgs.action.NavigateToPose_Feedback(current_pose=geometry_msgs.msg.PoseStamped(header=std_msgs.msg.Header(stamp=builtin_interfaces.msg.Time(sec=46, nanosec=240000000), frame_id='map'), pose=geometry_msgs.msg.Pose(position=geometry_msgs.msg.Point(x=0.28978057422859615, y=-0.12564482134543686, z=0.01130268658969234), orientation=geometry_msgs.msg.Quaternion(x=0.0026723430112406896, y=1.8447652187877927e-05, z=-0.4334410960802219, w=0.9011779371862642))), navigation_time=builtin_interfaces.msg.Duration(sec=1, nanosec=277000000), estimated_time_remaining=builtin_interfaces.msg.Duration(sec=4, nanosec=447960383), number_of_recoveries=0, distance_remaining=1.123995065689087)\n",
      "nav2_msgs.action.NavigateToPose_Feedback(current_pose=geometry_msgs.msg.PoseStamped(header=std_msgs.msg.Header(stamp=builtin_interfaces.msg.Time(sec=46, nanosec=274000000), frame_id='map'), pose=geometry_msgs.msg.Pose(position=geometry_msgs.msg.Point(x=0.2951432030931431, y=-0.1325173821817407, z=0.011337712906820582), orientation=geometry_msgs.msg.Quaternion(x=0.0027410531861461634, y=1.5577937383050992e-05, z=-0.4442761111105069, w=0.8958857201012208))), navigation_time=builtin_interfaces.msg.Duration(sec=1, nanosec=304000000), estimated_time_remaining=builtin_interfaces.msg.Duration(sec=4, nanosec=506722660), number_of_recoveries=0, distance_remaining=1.1431909799575806)\n",
      "nav2_msgs.action.NavigateToPose_Feedback(current_pose=geometry_msgs.msg.PoseStamped(header=std_msgs.msg.Header(stamp=builtin_interfaces.msg.Time(sec=46, nanosec=308000000), frame_id='map'), pose=geometry_msgs.msg.Pose(position=geometry_msgs.msg.Point(x=0.30043595229390907, y=-0.13965127814013334, z=0.011374236144216263), orientation=geometry_msgs.msg.Quaternion(x=0.002791959738600949, y=1.9770530830577904e-06, z=-0.45476298823040556, w=0.8906081234149288))), navigation_time=builtin_interfaces.msg.Duration(sec=1, nanosec=337000000), estimated_time_remaining=builtin_interfaces.msg.Duration(sec=4, nanosec=480324031), number_of_recoveries=0, distance_remaining=1.1431909799575806)\n",
      "nav2_msgs.action.NavigateToPose_Feedback(current_pose=geometry_msgs.msg.PoseStamped(header=std_msgs.msg.Header(stamp=builtin_interfaces.msg.Time(sec=46, nanosec=342000000), frame_id='map'), pose=geometry_msgs.msg.Pose(position=geometry_msgs.msg.Point(x=0.3055642635878608, y=-0.14690369306039774, z=0.01139288356770507), orientation=geometry_msgs.msg.Quaternion(x=0.0028372687070387006, y=-1.2604753905708849e-05, z=-0.46493831773818006, w=0.8853385287257047))), navigation_time=builtin_interfaces.msg.Duration(sec=1, nanosec=373000000), estimated_time_remaining=builtin_interfaces.msg.Duration(sec=4, nanosec=454200127), number_of_recoveries=0, distance_remaining=1.1431909799575806)\n",
      "nav2_msgs.action.NavigateToPose_Feedback(current_pose=geometry_msgs.msg.PoseStamped(header=std_msgs.msg.Header(stamp=builtin_interfaces.msg.Time(sec=46, nanosec=376000000), frame_id='map'), pose=geometry_msgs.msg.Pose(position=geometry_msgs.msg.Point(x=0.3105225242468903, y=-0.15427439874901494, z=0.011426829766530429), orientation=geometry_msgs.msg.Quaternion(x=0.002891273562455753, y=-2.069359455217351e-05, z=-0.4752440842656634, w=0.8798492487235828))), navigation_time=builtin_interfaces.msg.Duration(sec=1, nanosec=404000000), estimated_time_remaining=builtin_interfaces.msg.Duration(sec=4, nanosec=444829963), number_of_recoveries=0, distance_remaining=1.1431909799575806)\n",
      "nav2_msgs.action.NavigateToPose_Feedback(current_pose=geometry_msgs.msg.PoseStamped(header=std_msgs.msg.Header(stamp=builtin_interfaces.msg.Time(sec=46, nanosec=410000000), frame_id='map'), pose=geometry_msgs.msg.Pose(position=geometry_msgs.msg.Point(x=0.31497096955486614, y=-0.1612180533002231, z=0.011471833343260561), orientation=geometry_msgs.msg.Quaternion(x=0.002954747666167228, y=-1.9563492705422587e-06, z=-0.4843842923832785, w=0.8748503453475643))), navigation_time=builtin_interfaces.msg.Duration(sec=1, nanosec=428000000), estimated_time_remaining=builtin_interfaces.msg.Duration(sec=4, nanosec=481263992), number_of_recoveries=0, distance_remaining=1.1431909799575806)\n",
      "nav2_msgs.action.NavigateToPose_Feedback(current_pose=geometry_msgs.msg.PoseStamped(header=std_msgs.msg.Header(stamp=builtin_interfaces.msg.Time(sec=46, nanosec=410000000), frame_id='map'), pose=geometry_msgs.msg.Pose(position=geometry_msgs.msg.Point(x=0.31497096955486614, y=-0.1612180533002231, z=0.011471833343260561), orientation=geometry_msgs.msg.Quaternion(x=0.002954747666167228, y=-1.9563492705422587e-06, z=-0.4843842923832785, w=0.8748503453475643))), navigation_time=builtin_interfaces.msg.Duration(sec=1, nanosec=428000000), estimated_time_remaining=builtin_interfaces.msg.Duration(sec=4, nanosec=481263992), number_of_recoveries=0, distance_remaining=1.1431909799575806)\n",
      "nav2_msgs.action.NavigateToPose_Feedback(current_pose=geometry_msgs.msg.PoseStamped(header=std_msgs.msg.Header(stamp=builtin_interfaces.msg.Time(sec=46, nanosec=478000000), frame_id='map'), pose=geometry_msgs.msg.Pose(position=geometry_msgs.msg.Point(x=0.32018717704516697, y=-0.17388676144137283, z=0.011445703023153935), orientation=geometry_msgs.msg.Quaternion(x=0.002795895025927004, y=-0.00010483896247493971, z=-0.500392762969814, w=0.865794002489756))), navigation_time=builtin_interfaces.msg.Duration(sec=1, nanosec=450000000), estimated_time_remaining=builtin_interfaces.msg.Duration(sec=4, nanosec=518503052), number_of_recoveries=0, distance_remaining=1.1431909799575806)\n"
     ]
    },
    {
     "name": "stdout",
     "output_type": "stream",
     "text": [
      "nav2_msgs.action.NavigateToPose_Feedback(current_pose=geometry_msgs.msg.PoseStamped(header=std_msgs.msg.Header(stamp=builtin_interfaces.msg.Time(sec=46, nanosec=512000000), frame_id='map'), pose=geometry_msgs.msg.Pose(position=geometry_msgs.msg.Point(x=0.3221363942579156, y=-0.18023387749140207, z=0.01143252595992329), orientation=geometry_msgs.msg.Quaternion(x=0.0026671885983704955, y=-0.00019081804644328296, z=-0.5079003925176504, w=0.8614116559310482))), navigation_time=builtin_interfaces.msg.Duration(sec=1, nanosec=501000000), estimated_time_remaining=builtin_interfaces.msg.Duration(sec=4, nanosec=482443098), number_of_recoveries=0, distance_remaining=1.1431909799575806)\n",
      "nav2_msgs.action.NavigateToPose_Feedback(current_pose=geometry_msgs.msg.PoseStamped(header=std_msgs.msg.Header(stamp=builtin_interfaces.msg.Time(sec=46, nanosec=546000000), frame_id='map'), pose=geometry_msgs.msg.Pose(position=geometry_msgs.msg.Point(x=0.3237666797793426, y=-0.18622082918491978, z=0.01141568934007816), orientation=geometry_msgs.msg.Quaternion(x=0.00253741256611483, y=-0.0002588919262082746, z=-0.5137863651855333, w=0.8579143695392202))), navigation_time=builtin_interfaces.msg.Duration(sec=1, nanosec=543000000), estimated_time_remaining=builtin_interfaces.msg.Duration(sec=4, nanosec=483260410), number_of_recoveries=0, distance_remaining=1.1431909799575806)\n",
      "nav2_msgs.action.NavigateToPose_Feedback(current_pose=geometry_msgs.msg.PoseStamped(header=std_msgs.msg.Header(stamp=builtin_interfaces.msg.Time(sec=46, nanosec=614000000), frame_id='map'), pose=geometry_msgs.msg.Pose(position=geometry_msgs.msg.Point(x=0.32681311302761795, y=-0.19831162155901366, z=0.011397358933066913), orientation=geometry_msgs.msg.Quaternion(x=0.002277604936250964, y=-0.00040786885560997494, z=-0.5254496084791309, w=0.8508215765410976))), navigation_time=builtin_interfaces.msg.Duration(sec=1, nanosec=593000000), estimated_time_remaining=builtin_interfaces.msg.Duration(sec=4, nanosec=529164140), number_of_recoveries=0, distance_remaining=1.1431909799575806)\n",
      "nav2_msgs.action.NavigateToPose_Feedback(current_pose=geometry_msgs.msg.PoseStamped(header=std_msgs.msg.Header(stamp=builtin_interfaces.msg.Time(sec=46, nanosec=648000000), frame_id='map'), pose=geometry_msgs.msg.Pose(position=geometry_msgs.msg.Point(x=0.3295723796889485, y=-0.20526293791283873, z=0.01140597499569938), orientation=geometry_msgs.msg.Quaternion(x=0.002247763477028731, y=-0.0004465254696166947, z=-0.5317981393860637, w=0.8468680458724824))), navigation_time=builtin_interfaces.msg.Duration(sec=1, nanosec=668000000), estimated_time_remaining=builtin_interfaces.msg.Duration(sec=4, nanosec=231606224), number_of_recoveries=0, distance_remaining=1.0614718198776245)\n",
      "nav2_msgs.action.NavigateToPose_Feedback(current_pose=geometry_msgs.msg.PoseStamped(header=std_msgs.msg.Header(stamp=builtin_interfaces.msg.Time(sec=46, nanosec=682000000), frame_id='map'), pose=geometry_msgs.msg.Pose(position=geometry_msgs.msg.Point(x=0.33316331270039123, y=-0.21286200723848947, z=0.0114435111700256), orientation=geometry_msgs.msg.Quaternion(x=0.0022906162471912923, y=-0.00045647767685593474, z=-0.5386021352358307, w=0.8425569919149343))), navigation_time=builtin_interfaces.msg.Duration(sec=1, nanosec=707000000), estimated_time_remaining=builtin_interfaces.msg.Duration(sec=4, nanosec=258143121), number_of_recoveries=0, distance_remaining=1.0614718198776245)\n",
      "nav2_msgs.action.NavigateToPose_Feedback(current_pose=geometry_msgs.msg.PoseStamped(header=std_msgs.msg.Header(stamp=builtin_interfaces.msg.Time(sec=46, nanosec=716000000), frame_id='map'), pose=geometry_msgs.msg.Pose(position=geometry_msgs.msg.Point(x=0.33663169670859494, y=-0.2205175801310869, z=0.011486048907904533), orientation=geometry_msgs.msg.Quaternion(x=0.0023300215942478903, y=-0.0004660801921898847, z=-0.545330103808422, w=0.8382180096185721))), navigation_time=builtin_interfaces.msg.Duration(sec=1, nanosec=744000000), estimated_time_remaining=builtin_interfaces.msg.Duration(sec=4, nanosec=223975202), number_of_recoveries=0, distance_remaining=1.0614718198776245)\n",
      "nav2_msgs.action.NavigateToPose_Feedback(current_pose=geometry_msgs.msg.PoseStamped(header=std_msgs.msg.Header(stamp=builtin_interfaces.msg.Time(sec=46, nanosec=784000000), frame_id='map'), pose=geometry_msgs.msg.Pose(position=geometry_msgs.msg.Point(x=0.34356047667885004, y=-0.23684655031915547, z=0.011583615247445462), orientation=geometry_msgs.msg.Quaternion(x=0.0024039766305953333, y=-0.0005053539592039894, z=-0.5587160182079947, w=0.8293553981928009))), navigation_time=builtin_interfaces.msg.Duration(sec=1, nanosec=829000000), estimated_time_remaining=builtin_interfaces.msg.Duration(sec=4, nanosec=215353505), number_of_recoveries=0, distance_remaining=1.0614718198776245)\n",
      "nav2_msgs.action.NavigateToPose_Feedback(current_pose=geometry_msgs.msg.PoseStamped(header=std_msgs.msg.Header(stamp=builtin_interfaces.msg.Time(sec=46, nanosec=818000000), frame_id='map'), pose=geometry_msgs.msg.Pose(position=geometry_msgs.msg.Point(x=0.34666315350847654, y=-0.24465138869693115, z=0.01161538588501011), orientation=geometry_msgs.msg.Quaternion(x=0.0024501991889865817, y=-0.0004976607945632697, z=-0.5639718586178529, w=0.8257902224807413))), navigation_time=builtin_interfaces.msg.Duration(sec=1, nanosec=829000000), estimated_time_remaining=builtin_interfaces.msg.Duration(sec=4, nanosec=241790870), number_of_recoveries=0, distance_remaining=1.0614718198776245)\n",
      "nav2_msgs.action.NavigateToPose_Feedback(current_pose=geometry_msgs.msg.PoseStamped(header=std_msgs.msg.Header(stamp=builtin_interfaces.msg.Time(sec=46, nanosec=852000000), frame_id='map'), pose=geometry_msgs.msg.Pose(position=geometry_msgs.msg.Point(x=0.34973517399398024, y=-0.25321622266501903, z=0.011598084517591593), orientation=geometry_msgs.msg.Quaternion(x=0.00235825962008774, y=-0.0004921863494450437, z=-0.5684745175674306, w=0.8226973436450605))), navigation_time=builtin_interfaces.msg.Duration(sec=1, nanosec=879000000), estimated_time_remaining=builtin_interfaces.msg.Duration(sec=4, nanosec=242047342), number_of_recoveries=0, distance_remaining=1.0614718198776245)\n",
      "nav2_msgs.action.NavigateToPose_Feedback(current_pose=geometry_msgs.msg.PoseStamped(header=std_msgs.msg.Header(stamp=builtin_interfaces.msg.Time(sec=46, nanosec=886000000), frame_id='map'), pose=geometry_msgs.msg.Pose(position=geometry_msgs.msg.Point(x=0.3529304569064362, y=-0.262535255265249, z=0.011574191197383309), orientation=geometry_msgs.msg.Quaternion(x=0.0021886471741571043, y=-0.0005040333702842375, z=-0.5716000569938492, w=0.82052929906161))), navigation_time=builtin_interfaces.msg.Duration(sec=1, nanosec=904000000), estimated_time_remaining=builtin_interfaces.msg.Duration(sec=4, nanosec=217358158), number_of_recoveries=0, distance_remaining=1.0614718198776245)\n",
      "nav2_msgs.action.NavigateToPose_Feedback(current_pose=geometry_msgs.msg.PoseStamped(header=std_msgs.msg.Header(stamp=builtin_interfaces.msg.Time(sec=46, nanosec=886000000), frame_id='map'), pose=geometry_msgs.msg.Pose(position=geometry_msgs.msg.Point(x=0.3529304569064362, y=-0.262535255265249, z=0.011574191197383309), orientation=geometry_msgs.msg.Quaternion(x=0.0021886471741571043, y=-0.0005040333702842375, z=-0.5716000569938492, w=0.82052929906161))), navigation_time=builtin_interfaces.msg.Duration(sec=1, nanosec=904000000), estimated_time_remaining=builtin_interfaces.msg.Duration(sec=4, nanosec=217358158), number_of_recoveries=0, distance_remaining=1.0614718198776245)\n",
      "nav2_msgs.action.NavigateToPose_Feedback(current_pose=geometry_msgs.msg.PoseStamped(header=std_msgs.msg.Header(stamp=builtin_interfaces.msg.Time(sec=46, nanosec=920000000), frame_id='map'), pose=geometry_msgs.msg.Pose(position=geometry_msgs.msg.Point(x=0.35609312843950325, y=-0.27186524506846554, z=0.011544576726398897), orientation=geometry_msgs.msg.Quaternion(x=0.0020153188901238595, y=-0.0005183439310797117, z=-0.5743414295689999, w=0.8186132127506724))), navigation_time=builtin_interfaces.msg.Duration(sec=1, nanosec=945000000), estimated_time_remaining=builtin_interfaces.msg.Duration(sec=4, nanosec=192704736), number_of_recoveries=0, distance_remaining=1.0614718198776245)\n"
     ]
    },
    {
     "name": "stdout",
     "output_type": "stream",
     "text": [
      "nav2_msgs.action.NavigateToPose_Feedback(current_pose=geometry_msgs.msg.PoseStamped(header=std_msgs.msg.Header(stamp=builtin_interfaces.msg.Time(sec=46, nanosec=920000000), frame_id='map'), pose=geometry_msgs.msg.Pose(position=geometry_msgs.msg.Point(x=0.35609312843950325, y=-0.27186524506846554, z=0.011544576726398897), orientation=geometry_msgs.msg.Quaternion(x=0.0020153188901238595, y=-0.0005183439310797117, z=-0.5743414295689999, w=0.8186132127506724))), navigation_time=builtin_interfaces.msg.Duration(sec=1, nanosec=957000000), estimated_time_remaining=builtin_interfaces.msg.Duration(sec=3, nanosec=841905222), number_of_recoveries=0, distance_remaining=0.9726595282554626)\n",
      "nav2_msgs.action.NavigateToPose_Feedback(current_pose=geometry_msgs.msg.PoseStamped(header=std_msgs.msg.Header(stamp=builtin_interfaces.msg.Time(sec=46, nanosec=920000000), frame_id='map'), pose=geometry_msgs.msg.Pose(position=geometry_msgs.msg.Point(x=0.35609312843950325, y=-0.27186524506846554, z=0.011544576726398897), orientation=geometry_msgs.msg.Quaternion(x=0.0020153188901238595, y=-0.0005183439310797117, z=-0.5743414295689999, w=0.8186132127506724))), navigation_time=builtin_interfaces.msg.Duration(sec=1, nanosec=968000000), estimated_time_remaining=builtin_interfaces.msg.Duration(sec=3, nanosec=841905222), number_of_recoveries=0, distance_remaining=0.9726595282554626)\n",
      "nav2_msgs.action.NavigateToPose_Feedback(current_pose=geometry_msgs.msg.PoseStamped(header=std_msgs.msg.Header(stamp=builtin_interfaces.msg.Time(sec=46, nanosec=954000000), frame_id='map'), pose=geometry_msgs.msg.Pose(position=geometry_msgs.msg.Point(x=0.35905778617959827, y=-0.28077299782694154, z=0.011519384763979783), orientation=geometry_msgs.msg.Quaternion(x=0.0018524413259202572, y=-0.0005208741284815899, z=-0.577403645384816, w=0.8164565680105721))), navigation_time=builtin_interfaces.msg.Duration(sec=1, nanosec=989000000), estimated_time_remaining=builtin_interfaces.msg.Duration(sec=3, nanosec=842589700), number_of_recoveries=0, distance_remaining=0.9726595282554626)\n",
      "nav2_msgs.action.NavigateToPose_Feedback(current_pose=geometry_msgs.msg.PoseStamped(header=std_msgs.msg.Header(stamp=builtin_interfaces.msg.Time(sec=46, nanosec=988000000), frame_id='map'), pose=geometry_msgs.msg.Pose(position=geometry_msgs.msg.Point(x=0.36198529185624206, y=-0.28969215323426667, z=0.01148530578286373), orientation=geometry_msgs.msg.Quaternion(x=0.001686012720566696, y=-0.0005312800959635254, z=-0.5802380101513379, w=0.8144450421472168))), navigation_time=builtin_interfaces.msg.Duration(sec=2, nanosec=6000000), estimated_time_remaining=builtin_interfaces.msg.Duration(sec=3, nanosec=843174526), number_of_recoveries=0, distance_remaining=0.9726595282554626)\n",
      "nav2_msgs.action.NavigateToPose_Feedback(current_pose=geometry_msgs.msg.PoseStamped(header=std_msgs.msg.Header(stamp=builtin_interfaces.msg.Time(sec=47, nanosec=22000000), frame_id='map'), pose=geometry_msgs.msg.Pose(position=geometry_msgs.msg.Point(x=0.365026093989655, y=-0.2990626116017133, z=0.011475108602440226), orientation=geometry_msgs.msg.Quaternion(x=0.001506969229025576, y=-0.0005608842427054685, z=-0.5831990201822411, w=0.8123277154640749))), navigation_time=builtin_interfaces.msg.Duration(sec=2, nanosec=41000000), estimated_time_remaining=builtin_interfaces.msg.Duration(sec=3, nanosec=820836215), number_of_recoveries=0, distance_remaining=0.9726595282554626)\n",
      "nav2_msgs.action.NavigateToPose_Feedback(current_pose=geometry_msgs.msg.PoseStamped(header=std_msgs.msg.Header(stamp=builtin_interfaces.msg.Time(sec=47, nanosec=90000000), frame_id='map'), pose=geometry_msgs.msg.Pose(position=geometry_msgs.msg.Point(x=0.3705865861857771, y=-0.3160952933059933, z=0.011567686811694303), orientation=geometry_msgs.msg.Quaternion(x=0.0015042938887015803, y=-0.0005969091976738632, z=-0.5902588642618785, w=0.8072123970551887))), navigation_time=builtin_interfaces.msg.Duration(sec=2, nanosec=110000000), estimated_time_remaining=builtin_interfaces.msg.Duration(sec=3, nanosec=630826759), number_of_recoveries=0, distance_remaining=0.9239948987960815)\n",
      "nav2_msgs.action.NavigateToPose_Feedback(current_pose=geometry_msgs.msg.PoseStamped(header=std_msgs.msg.Header(stamp=builtin_interfaces.msg.Time(sec=47, nanosec=158000000), frame_id='map'), pose=geometry_msgs.msg.Pose(position=geometry_msgs.msg.Point(x=0.3758078643604639, y=-0.3330219983013475, z=0.011641555434503965), orientation=geometry_msgs.msg.Quaternion(x=0.001559986645144875, y=-0.0006058368954996884, z=-0.5974287656146813, w=0.8019202388139617))), navigation_time=builtin_interfaces.msg.Duration(sec=2, nanosec=157000000), estimated_time_remaining=builtin_interfaces.msg.Duration(sec=3, nanosec=588535712), number_of_recoveries=0, distance_remaining=0.9239948987960815)\n",
      "nav2_msgs.action.NavigateToPose_Feedback(current_pose=geometry_msgs.msg.PoseStamped(header=std_msgs.msg.Header(stamp=builtin_interfaces.msg.Time(sec=47, nanosec=192000000), frame_id='map'), pose=geometry_msgs.msg.Pose(position=geometry_msgs.msg.Point(x=0.3783051628314833, y=-0.3415196354095813, z=0.011684199377680319), orientation=geometry_msgs.msg.Quaternion(x=0.001588928788615157, y=-0.0006084460792917766, z=-0.6009967779574807, w=0.7992496343342296))), navigation_time=builtin_interfaces.msg.Duration(sec=2, nanosec=193000000), estimated_time_remaining=builtin_interfaces.msg.Duration(sec=3, nanosec=491373202), number_of_recoveries=0, distance_remaining=0.8989949226379395)\n",
      "nav2_msgs.action.NavigateToPose_Feedback(current_pose=geometry_msgs.msg.PoseStamped(header=std_msgs.msg.Header(stamp=builtin_interfaces.msg.Time(sec=47, nanosec=226000000), frame_id='map'), pose=geometry_msgs.msg.Pose(position=geometry_msgs.msg.Point(x=0.38059941261054475, y=-0.3495922349670012, z=0.011728909039119705), orientation=geometry_msgs.msg.Quaternion(x=0.0016279096594816165, y=-0.0006013524919143171, z=-0.6045642009261067, w=0.7965545274768696))), navigation_time=builtin_interfaces.msg.Duration(sec=2, nanosec=263000000), estimated_time_remaining=builtin_interfaces.msg.Duration(sec=3, nanosec=512189117), number_of_recoveries=0, distance_remaining=0.8989949226379395)\n",
      "nav2_msgs.action.NavigateToPose_Feedback(current_pose=geometry_msgs.msg.PoseStamped(header=std_msgs.msg.Header(stamp=builtin_interfaces.msg.Time(sec=47, nanosec=260000000), frame_id='map'), pose=geometry_msgs.msg.Pose(position=geometry_msgs.msg.Point(x=0.3786252166299713, y=-0.35876841760016176, z=0.01169994787714588), orientation=geometry_msgs.msg.Quaternion(x=0.0015377914984801417, y=-0.0005792710011131741, z=-0.6080214536557416, w=0.7939188948102781))), navigation_time=builtin_interfaces.msg.Duration(sec=2, nanosec=286000000), estimated_time_remaining=builtin_interfaces.msg.Duration(sec=3, nanosec=512172415), number_of_recoveries=0, distance_remaining=0.8989949226379395)\n",
      "nav2_msgs.action.NavigateToPose_Feedback(current_pose=geometry_msgs.msg.PoseStamped(header=std_msgs.msg.Header(stamp=builtin_interfaces.msg.Time(sec=47, nanosec=328000000), frame_id='map'), pose=geometry_msgs.msg.Pose(position=geometry_msgs.msg.Point(x=0.37377520384894747, y=-0.37783344596789437, z=0.011639501386381366), orientation=geometry_msgs.msg.Quaternion(x=0.001300678767876992, y=-0.0005675809011278836, z=-0.614891801817596, w=0.788610206720769))), navigation_time=builtin_interfaces.msg.Duration(sec=2, nanosec=340000000), estimated_time_remaining=builtin_interfaces.msg.Duration(sec=3, nanosec=380220214), number_of_recoveries=0, distance_remaining=0.8652082681655884)\n",
      "nav2_msgs.action.NavigateToPose_Feedback(current_pose=geometry_msgs.msg.PoseStamped(header=std_msgs.msg.Header(stamp=builtin_interfaces.msg.Time(sec=47, nanosec=362000000), frame_id='map'), pose=geometry_msgs.msg.Pose(position=geometry_msgs.msg.Point(x=0.37130124141276766, y=-0.3876181881537374, z=0.011610560278673828), orientation=geometry_msgs.msg.Quaternion(x=0.00118026747123548, y=-0.0005707905990094566, z=-0.6183053745533249, w=0.785936858128731))), navigation_time=builtin_interfaces.msg.Duration(sec=2, nanosec=359000000), estimated_time_remaining=builtin_interfaces.msg.Duration(sec=3, nanosec=380238295), number_of_recoveries=0, distance_remaining=0.8652082681655884)\n",
      "nav2_msgs.action.NavigateToPose_Feedback(current_pose=geometry_msgs.msg.PoseStamped(header=std_msgs.msg.Header(stamp=builtin_interfaces.msg.Time(sec=47, nanosec=430000000), frame_id='map'), pose=geometry_msgs.msg.Pose(position=geometry_msgs.msg.Point(x=0.3659251505296319, y=-0.4063353333668871, z=0.011524345914589442), orientation=geometry_msgs.msg.Quaternion(x=0.0009732124755510393, y=-0.0005397532027693924, z=-0.6251080062222256, w=0.7805374700043756))), navigation_time=builtin_interfaces.msg.Duration(sec=2, nanosec=421000000), estimated_time_remaining=builtin_interfaces.msg.Duration(sec=3, nanosec=257930476), number_of_recoveries=0, distance_remaining=0.8239949941635132)\n",
      "nav2_msgs.action.NavigateToPose_Feedback(current_pose=geometry_msgs.msg.PoseStamped(header=std_msgs.msg.Header(stamp=builtin_interfaces.msg.Time(sec=47, nanosec=464000000), frame_id='map'), pose=geometry_msgs.msg.Pose(position=geometry_msgs.msg.Point(x=0.3678309387777903, y=-0.4149770715607315, z=0.01157405830026449), orientation=geometry_msgs.msg.Quaternion(x=0.0009812770567569652, y=-0.0005491679671241999, z=-0.6272848383217742, w=0.7787891031091199))), navigation_time=builtin_interfaces.msg.Duration(sec=2, nanosec=454000000), estimated_time_remaining=builtin_interfaces.msg.Duration(sec=3, nanosec=258346853), number_of_recoveries=0, distance_remaining=0.8239949941635132)\n"
     ]
    },
    {
     "name": "stdout",
     "output_type": "stream",
     "text": [
      "nav2_msgs.action.NavigateToPose_Feedback(current_pose=geometry_msgs.msg.PoseStamped(header=std_msgs.msg.Header(stamp=builtin_interfaces.msg.Time(sec=47, nanosec=464000000), frame_id='map'), pose=geometry_msgs.msg.Pose(position=geometry_msgs.msg.Point(x=0.3678309387777903, y=-0.4149770715607315, z=0.01157405830026449), orientation=geometry_msgs.msg.Quaternion(x=0.0009812770567569652, y=-0.0005491679671241999, z=-0.6272848383217742, w=0.7787891031091199))), navigation_time=builtin_interfaces.msg.Duration(sec=2, nanosec=490000000), estimated_time_remaining=builtin_interfaces.msg.Duration(sec=3, nanosec=258346853), number_of_recoveries=0, distance_remaining=0.8239949941635132)\n",
      "nav2_msgs.action.NavigateToPose_Feedback(current_pose=geometry_msgs.msg.PoseStamped(header=std_msgs.msg.Header(stamp=builtin_interfaces.msg.Time(sec=47, nanosec=498000000), frame_id='map'), pose=geometry_msgs.msg.Pose(position=geometry_msgs.msg.Point(x=0.36969628541680977, y=-0.42362791896027363, z=0.011621420770260541), orientation=geometry_msgs.msg.Quaternion(x=0.0009905681637260757, y=-0.0005555319598616057, z=-0.6292492426564075, w=0.7772027411012472))), navigation_time=builtin_interfaces.msg.Duration(sec=2, nanosec=514000000), estimated_time_remaining=builtin_interfaces.msg.Duration(sec=3, nanosec=258573413), number_of_recoveries=0, distance_remaining=0.8239949941635132)\n",
      "nav2_msgs.action.NavigateToPose_Feedback(current_pose=geometry_msgs.msg.PoseStamped(header=std_msgs.msg.Header(stamp=builtin_interfaces.msg.Time(sec=47, nanosec=532000000), frame_id='map'), pose=geometry_msgs.msg.Pose(position=geometry_msgs.msg.Point(x=0.37151355123719565, y=-0.4322896453041257, z=0.011665198099093487), orientation=geometry_msgs.msg.Quaternion(x=0.0010072399859356249, y=-0.0005621409994188906, z=-0.631415326654194, w=0.7754439726577834))), navigation_time=builtin_interfaces.msg.Duration(sec=2, nanosec=529000000), estimated_time_remaining=builtin_interfaces.msg.Duration(sec=3, nanosec=141108708), number_of_recoveries=0, distance_remaining=0.7989949584007263)\n",
      "nav2_msgs.action.NavigateToPose_Feedback(current_pose=geometry_msgs.msg.PoseStamped(header=std_msgs.msg.Header(stamp=builtin_interfaces.msg.Time(sec=47, nanosec=566000000), frame_id='map'), pose=geometry_msgs.msg.Pose(position=geometry_msgs.msg.Point(x=0.373284684206602, y=-0.4409606090239314, z=0.011718971160369305), orientation=geometry_msgs.msg.Quaternion(x=0.001027697084145388, y=-0.0005666862659928442, z=-0.6334293712226834, w=0.773799621593223))), navigation_time=builtin_interfaces.msg.Duration(sec=2, nanosec=588000000), estimated_time_remaining=builtin_interfaces.msg.Duration(sec=3, nanosec=122713011), number_of_recoveries=0, distance_remaining=0.7989949584007263)\n",
      "nav2_msgs.action.NavigateToPose_Feedback(current_pose=geometry_msgs.msg.PoseStamped(header=std_msgs.msg.Header(stamp=builtin_interfaces.msg.Time(sec=47, nanosec=600000000), frame_id='map'), pose=geometry_msgs.msg.Pose(position=geometry_msgs.msg.Point(x=0.37492696748307863, y=-0.44917698781844095, z=0.011771021957168703), orientation=geometry_msgs.msg.Quaternion(x=0.0010486340725024837, y=-0.0005545743773971695, z=-0.6342469627998377, w=0.7731296029728931))), navigation_time=builtin_interfaces.msg.Duration(sec=2, nanosec=622000000), estimated_time_remaining=builtin_interfaces.msg.Duration(sec=3, nanosec=123331931), number_of_recoveries=0, distance_remaining=0.7989949584007263)\n",
      "nav2_msgs.action.NavigateToPose_Feedback(current_pose=geometry_msgs.msg.PoseStamped(header=std_msgs.msg.Header(stamp=builtin_interfaces.msg.Time(sec=47, nanosec=634000000), frame_id='map'), pose=geometry_msgs.msg.Pose(position=geometry_msgs.msg.Point(x=0.37656022195457894, y=-0.4573942696998511, z=0.011818816132235706), orientation=geometry_msgs.msg.Quaternion(x=0.0010613559296701858, y=-0.0005520230285616974, z=-0.6348015398427045, w=0.7726742999527664))), navigation_time=builtin_interfaces.msg.Duration(sec=2, nanosec=648000000), estimated_time_remaining=builtin_interfaces.msg.Duration(sec=3, nanosec=44191209), number_of_recoveries=0, distance_remaining=0.7739949226379395)\n",
      "nav2_msgs.action.NavigateToPose_Feedback(current_pose=geometry_msgs.msg.PoseStamped(header=std_msgs.msg.Header(stamp=builtin_interfaces.msg.Time(sec=47, nanosec=668000000), frame_id='map'), pose=geometry_msgs.msg.Pose(position=geometry_msgs.msg.Point(x=0.37826629194192307, y=-0.46607063707603835, z=0.01187523388583832), orientation=geometry_msgs.msg.Quaternion(x=0.001058914551648154, y=-0.0005698830433828219, z=-0.6356042405205024, w=0.7720141212216552))), navigation_time=builtin_interfaces.msg.Duration(sec=2, nanosec=698000000), estimated_time_remaining=builtin_interfaces.msg.Duration(sec=3, nanosec=44753041), number_of_recoveries=0, distance_remaining=0.7739949226379395)\n",
      "nav2_msgs.action.NavigateToPose_Feedback(current_pose=geometry_msgs.msg.PoseStamped(header=std_msgs.msg.Header(stamp=builtin_interfaces.msg.Time(sec=47, nanosec=736000000), frame_id='map'), pose=geometry_msgs.msg.Pose(position=geometry_msgs.msg.Point(x=0.3816330355699451, y=-0.4834324882249894, z=0.011990188637555613), orientation=geometry_msgs.msg.Quaternion(x=0.0010494678098026556, y=-0.0005920930741529496, z=-0.6369527139620245, w=0.7709019316485847))), navigation_time=builtin_interfaces.msg.Duration(sec=2, nanosec=770000000), estimated_time_remaining=builtin_interfaces.msg.Duration(sec=2, nanosec=912616998), number_of_recoveries=0, distance_remaining=0.7489948868751526)\n",
      "nav2_msgs.action.NavigateToPose_Feedback(current_pose=geometry_msgs.msg.PoseStamped(header=std_msgs.msg.Header(stamp=builtin_interfaces.msg.Time(sec=47, nanosec=872000000), frame_id='map'), pose=geometry_msgs.msg.Pose(position=geometry_msgs.msg.Point(x=0.3880964175463122, y=-0.5199167524127816, z=0.011997434871341429), orientation=geometry_msgs.msg.Quaternion(x=0.0009474133391416072, y=-0.0005285184323024902, z=-0.6436801152291048, w=0.7652938862521234))), navigation_time=builtin_interfaces.msg.Duration(sec=2, nanosec=841000000), estimated_time_remaining=builtin_interfaces.msg.Duration(sec=2, nanosec=815478157), number_of_recoveries=0, distance_remaining=0.7239948511123657)\n",
      "nav2_msgs.action.NavigateToPose_Feedback(current_pose=geometry_msgs.msg.PoseStamped(header=std_msgs.msg.Header(stamp=builtin_interfaces.msg.Time(sec=47, nanosec=906000000), frame_id='map'), pose=geometry_msgs.msg.Pose(position=geometry_msgs.msg.Point(x=0.3896397253363979, y=-0.5299239110752257, z=0.011904117802442864), orientation=geometry_msgs.msg.Quaternion(x=0.0008283752385346645, y=-0.00046648817903481793, z=-0.6438265445551712, w=0.765170880724947))), navigation_time=builtin_interfaces.msg.Duration(sec=2, nanosec=900000000), estimated_time_remaining=builtin_interfaces.msg.Duration(sec=2, nanosec=799087644), number_of_recoveries=0, distance_remaining=0.7239948511123657)\n",
      "nav2_msgs.action.NavigateToPose_Feedback(current_pose=geometry_msgs.msg.PoseStamped(header=std_msgs.msg.Header(stamp=builtin_interfaces.msg.Time(sec=47, nanosec=940000000), frame_id='map'), pose=geometry_msgs.msg.Pose(position=geometry_msgs.msg.Point(x=0.39119487355715177, y=-0.5399282519269559, z=0.01181900582472781), orientation=geometry_msgs.msg.Quaternion(x=0.000707317020540224, y=-0.00040711742779224577, z=-0.6435639611994896, w=0.7653919007954385))), navigation_time=builtin_interfaces.msg.Duration(sec=2, nanosec=953000000), estimated_time_remaining=builtin_interfaces.msg.Duration(sec=2, nanosec=686720479), number_of_recoveries=0, distance_remaining=0.6989948749542236)\n",
      "nav2_msgs.action.NavigateToPose_Feedback(current_pose=geometry_msgs.msg.PoseStamped(header=std_msgs.msg.Header(stamp=builtin_interfaces.msg.Time(sec=47, nanosec=974000000), frame_id='map'), pose=geometry_msgs.msg.Pose(position=geometry_msgs.msg.Point(x=0.3927494872521362, y=-0.5499333746156516, z=0.01172652519335611), orientation=geometry_msgs.msg.Quaternion(x=0.0005880658320843896, y=-0.00035511134265480755, z=-0.6436633869617259, w=0.765308416495906))), navigation_time=builtin_interfaces.msg.Duration(sec=2, nanosec=984000000), estimated_time_remaining=builtin_interfaces.msg.Duration(sec=2, nanosec=686817628), number_of_recoveries=0, distance_remaining=0.6989948749542236)\n"
     ]
    },
    {
     "name": "stdout",
     "output_type": "stream",
     "text": [
      "nav2_msgs.action.NavigateToPose_Feedback(current_pose=geometry_msgs.msg.PoseStamped(header=std_msgs.msg.Header(stamp=builtin_interfaces.msg.Time(sec=48, nanosec=42000000), frame_id='map'), pose=geometry_msgs.msg.Pose(position=geometry_msgs.msg.Point(x=0.3958225906785242, y=-0.5694190860871272, z=0.011609546274244754), orientation=geometry_msgs.msg.Quaternion(x=0.00040174851417359173, y=-0.0002840163793239046, z=-0.6449184346284055, w=0.764251248353102))), navigation_time=builtin_interfaces.msg.Duration(sec=3, nanosec=12000000), estimated_time_remaining=builtin_interfaces.msg.Duration(sec=2, nanosec=590671938), number_of_recoveries=0, distance_remaining=0.6739948391914368)\n",
      "nav2_msgs.action.NavigateToPose_Feedback(current_pose=geometry_msgs.msg.PoseStamped(header=std_msgs.msg.Header(stamp=builtin_interfaces.msg.Time(sec=48, nanosec=76000000), frame_id='map'), pose=geometry_msgs.msg.Pose(position=geometry_msgs.msg.Point(x=0.39730766183707233, y=-0.5781329019191578, z=0.011653563695508781), orientation=geometry_msgs.msg.Quaternion(x=0.0003979537437049539, y=-0.00028900970091807647, z=-0.644884982609226, w=0.7642794759191882))), navigation_time=builtin_interfaces.msg.Duration(sec=3, nanosec=72000000), estimated_time_remaining=builtin_interfaces.msg.Duration(sec=2, nanosec=590782337), number_of_recoveries=0, distance_remaining=0.6739948391914368)\n",
      "nav2_msgs.action.NavigateToPose_Feedback(current_pose=geometry_msgs.msg.PoseStamped(header=std_msgs.msg.Header(stamp=builtin_interfaces.msg.Time(sec=48, nanosec=76000000), frame_id='map'), pose=geometry_msgs.msg.Pose(position=geometry_msgs.msg.Point(x=0.39730766183707233, y=-0.5781329019191578, z=0.011653563695508781), orientation=geometry_msgs.msg.Quaternion(x=0.0003979537437049539, y=-0.00028900970091807647, z=-0.644884982609226, w=0.7642794759191882))), navigation_time=builtin_interfaces.msg.Duration(sec=3, nanosec=72000000), estimated_time_remaining=builtin_interfaces.msg.Duration(sec=2, nanosec=590782337), number_of_recoveries=0, distance_remaining=0.6739948391914368)\n",
      "nav2_msgs.action.NavigateToPose_Feedback(current_pose=geometry_msgs.msg.PoseStamped(header=std_msgs.msg.Header(stamp=builtin_interfaces.msg.Time(sec=48, nanosec=144000000), frame_id='map'), pose=geometry_msgs.msg.Pose(position=geometry_msgs.msg.Point(x=0.4002044126388793, y=-0.5951026393338305, z=0.011742414995247932), orientation=geometry_msgs.msg.Quaternion(x=0.0004071111970644951, y=-0.0002775418244673781, z=-0.6449092060711971, w=0.76425903537716))), navigation_time=builtin_interfaces.msg.Duration(sec=3, nanosec=114000000), estimated_time_remaining=builtin_interfaces.msg.Duration(sec=2, nanosec=556023073), number_of_recoveries=0, distance_remaining=0.6609201431274414)\n",
      "nav2_msgs.action.NavigateToPose_Feedback(current_pose=geometry_msgs.msg.PoseStamped(header=std_msgs.msg.Header(stamp=builtin_interfaces.msg.Time(sec=48, nanosec=178000000), frame_id='map'), pose=geometry_msgs.msg.Pose(position=geometry_msgs.msg.Point(x=0.4016131870379447, y=-0.6033582184205829, z=0.011803460175657962), orientation=geometry_msgs.msg.Quaternion(x=0.0004128363642943357, y=-0.00026463702496994486, z=-0.6448943143307054, w=0.7642716028201694))), navigation_time=builtin_interfaces.msg.Duration(sec=3, nanosec=221000000), estimated_time_remaining=builtin_interfaces.msg.Duration(sec=2, nanosec=571493275), number_of_recoveries=0, distance_remaining=0.6609201431274414)\n",
      "nav2_msgs.action.NavigateToPose_Feedback(current_pose=geometry_msgs.msg.PoseStamped(header=std_msgs.msg.Header(stamp=builtin_interfaces.msg.Time(sec=48, nanosec=246000000), frame_id='map'), pose=geometry_msgs.msg.Pose(position=geometry_msgs.msg.Point(x=0.4045037043155759, y=-0.6203304110438853, z=0.011921207074724395), orientation=geometry_msgs.msg.Quaternion(x=0.00040554567522123065, y=-0.0002848137315751011, z=-0.6455559096711555, w=0.7637128530426148))), navigation_time=builtin_interfaces.msg.Duration(sec=3, nanosec=257000000), estimated_time_remaining=builtin_interfaces.msg.Duration(sec=2, nanosec=442105659), number_of_recoveries=0, distance_remaining=0.6239950060844421)\n",
      "nav2_msgs.action.NavigateToPose_Feedback(current_pose=geometry_msgs.msg.PoseStamped(header=std_msgs.msg.Header(stamp=builtin_interfaces.msg.Time(sec=48, nanosec=280000000), frame_id='map'), pose=geometry_msgs.msg.Pose(position=geometry_msgs.msg.Point(x=0.4059665857537942, y=-0.6290511661285062, z=0.011976438045154844), orientation=geometry_msgs.msg.Quaternion(x=0.00040069442544643426, y=-0.0003041886801167341, z=-0.6463002411622487, w=0.7630830526140935))), navigation_time=builtin_interfaces.msg.Duration(sec=3, nanosec=313000000), estimated_time_remaining=builtin_interfaces.msg.Duration(sec=2, nanosec=442020352), number_of_recoveries=0, distance_remaining=0.6239950060844421)\n",
      "nav2_msgs.action.NavigateToPose_Feedback(current_pose=geometry_msgs.msg.PoseStamped(header=std_msgs.msg.Header(stamp=builtin_interfaces.msg.Time(sec=48, nanosec=314000000), frame_id='map'), pose=geometry_msgs.msg.Pose(position=geometry_msgs.msg.Point(x=0.4073389815314268, y=-0.6373160625749786, z=0.012033972996594772), orientation=geometry_msgs.msg.Quaternion(x=0.00041146282168108117, y=-0.00030194554047852405, z=-0.646946964733484, w=0.7625348282861374))), navigation_time=builtin_interfaces.msg.Duration(sec=3, nanosec=341000000), estimated_time_remaining=builtin_interfaces.msg.Duration(sec=2, nanosec=358259170), number_of_recoveries=0, distance_remaining=0.5989949107170105)\n",
      "nav2_msgs.action.NavigateToPose_Feedback(current_pose=geometry_msgs.msg.PoseStamped(header=std_msgs.msg.Header(stamp=builtin_interfaces.msg.Time(sec=48, nanosec=348000000), frame_id='map'), pose=geometry_msgs.msg.Pose(position=geometry_msgs.msg.Point(x=0.40869621338413364, y=-0.6455837918031423, z=0.01208621219870603), orientation=geometry_msgs.msg.Quaternion(x=0.00042030979399973765, y=-0.00029620738325231686, z=-0.6476608276516577, w=0.7619285976562586))), navigation_time=builtin_interfaces.msg.Duration(sec=3, nanosec=376000000), estimated_time_remaining=builtin_interfaces.msg.Duration(sec=2, nanosec=372443376), number_of_recoveries=0, distance_remaining=0.5989949107170105)\n",
      "nav2_msgs.action.NavigateToPose_Feedback(current_pose=geometry_msgs.msg.PoseStamped(header=std_msgs.msg.Header(stamp=builtin_interfaces.msg.Time(sec=48, nanosec=382000000), frame_id='map'), pose=geometry_msgs.msg.Pose(position=geometry_msgs.msg.Point(x=0.4100389064265604, y=-0.6538536646603333, z=0.012132217180848833), orientation=geometry_msgs.msg.Quaternion(x=0.00042481298049933434, y=-0.0002909613563895649, z=-0.6483188786553072, w=0.7613687453885573))), navigation_time=builtin_interfaces.msg.Duration(sec=3, nanosec=428000000), estimated_time_remaining=builtin_interfaces.msg.Duration(sec=2, nanosec=287081746), number_of_recoveries=0, distance_remaining=0.5739949941635132)\n",
      "nav2_msgs.action.NavigateToPose_Feedback(current_pose=geometry_msgs.msg.PoseStamped(header=std_msgs.msg.Header(stamp=builtin_interfaces.msg.Time(sec=48, nanosec=416000000), frame_id='map'), pose=geometry_msgs.msg.Pose(position=geometry_msgs.msg.Point(x=0.4113667972045485, y=-0.6621258608063046, z=0.012181995564940696), orientation=geometry_msgs.msg.Quaternion(x=0.00042845137043650064, y=-0.0002895457926648127, z=-0.6490089659947854, w=0.7607805824618795))), navigation_time=builtin_interfaces.msg.Duration(sec=3, nanosec=444000000), estimated_time_remaining=builtin_interfaces.msg.Duration(sec=2, nanosec=300937422), number_of_recoveries=0, distance_remaining=0.5739949941635132)\n",
      "nav2_msgs.action.NavigateToPose_Feedback(current_pose=geometry_msgs.msg.PoseStamped(header=std_msgs.msg.Header(stamp=builtin_interfaces.msg.Time(sec=48, nanosec=484000000), frame_id='map'), pose=geometry_msgs.msg.Pose(position=geometry_msgs.msg.Point(x=0.41404934265691873, y=-0.6791355285233619, z=0.012276393430601353), orientation=geometry_msgs.msg.Quaternion(x=0.00042945498282212323, y=-0.00031886324673463247, z=-0.6503776988972175, w=0.7596107968373067))), navigation_time=builtin_interfaces.msg.Duration(sec=3, nanosec=459000000), estimated_time_remaining=builtin_interfaces.msg.Duration(sec=2, nanosec=187298937), number_of_recoveries=0, distance_remaining=0.5489949584007263)\n"
     ]
    },
    {
     "name": "stdout",
     "output_type": "stream",
     "text": [
      "nav2_msgs.action.NavigateToPose_Feedback(current_pose=geometry_msgs.msg.PoseStamped(header=std_msgs.msg.Header(stamp=builtin_interfaces.msg.Time(sec=48, nanosec=518000000), frame_id='map'), pose=geometry_msgs.msg.Pose(position=geometry_msgs.msg.Point(x=0.4153321584184231, y=-0.6874152736011473, z=0.012322254028653369), orientation=geometry_msgs.msg.Quaternion(x=0.00044143942466912903, y=-0.0003222396603717029, z=-0.6510557956483178, w=0.7590296781059167))), navigation_time=builtin_interfaces.msg.Duration(sec=3, nanosec=565000000), estimated_time_remaining=builtin_interfaces.msg.Duration(sec=2, nanosec=187131999), number_of_recoveries=0, distance_remaining=0.5489948987960815)\n",
      "nav2_msgs.action.NavigateToPose_Feedback(current_pose=geometry_msgs.msg.PoseStamped(header=std_msgs.msg.Header(stamp=builtin_interfaces.msg.Time(sec=48, nanosec=586000000), frame_id='map'), pose=geometry_msgs.msg.Pose(position=geometry_msgs.msg.Point(x=0.4178543070963243, y=-0.7039805732457486, z=0.01241972312602644), orientation=geometry_msgs.msg.Quaternion(x=0.00045101064996486617, y=-0.0003156452853702828, z=-0.652407651313798, w=0.7578680316946093))), navigation_time=builtin_interfaces.msg.Duration(sec=3, nanosec=630000000), estimated_time_remaining=builtin_interfaces.msg.Duration(sec=2, nanosec=113129306), number_of_recoveries=0, distance_remaining=0.5239949226379395)\n",
      "nav2_msgs.action.NavigateToPose_Feedback(current_pose=geometry_msgs.msg.PoseStamped(header=std_msgs.msg.Header(stamp=builtin_interfaces.msg.Time(sec=48, nanosec=620000000), frame_id='map'), pose=geometry_msgs.msg.Pose(position=geometry_msgs.msg.Point(x=0.4191618565414368, y=-0.712725922345283, z=0.012479267096544615), orientation=geometry_msgs.msg.Quaternion(x=0.00044452862721774716, y=-0.0003259287069655907, z=-0.6530818172769458, w=0.7572871556464031))), navigation_time=builtin_interfaces.msg.Duration(sec=3, nanosec=630000000), estimated_time_remaining=builtin_interfaces.msg.Duration(sec=2, nanosec=100286442), number_of_recoveries=0, distance_remaining=0.5239949226379395)\n",
      "nav2_msgs.action.NavigateToPose_Feedback(current_pose=geometry_msgs.msg.PoseStamped(header=std_msgs.msg.Header(stamp=builtin_interfaces.msg.Time(sec=48, nanosec=654000000), frame_id='map'), pose=geometry_msgs.msg.Pose(position=geometry_msgs.msg.Point(x=0.42045364859144985, y=-0.7214739839978469, z=0.012540409200660654), orientation=geometry_msgs.msg.Quaternion(x=0.0004462950184414119, y=-0.00033484130000621925, z=-0.6537573502272471, w=0.7567040476473672))), navigation_time=builtin_interfaces.msg.Duration(sec=3, nanosec=665000000), estimated_time_remaining=builtin_interfaces.msg.Duration(sec=1, nanosec=987982318), number_of_recoveries=0, distance_remaining=0.49899500608444214)\n",
      "nav2_msgs.action.NavigateToPose_Feedback(current_pose=geometry_msgs.msg.PoseStamped(header=std_msgs.msg.Header(stamp=builtin_interfaces.msg.Time(sec=48, nanosec=688000000), frame_id='map'), pose=geometry_msgs.msg.Pose(position=geometry_msgs.msg.Point(x=0.4217298349299625, y=-0.7302246028747327, z=0.012610339634965221), orientation=geometry_msgs.msg.Quaternion(x=0.00045437511599797465, y=-0.00033786357888288866, z=-0.6544312742610412, w=0.7561212777461866))), navigation_time=builtin_interfaces.msg.Duration(sec=3, nanosec=732000000), estimated_time_remaining=builtin_interfaces.msg.Duration(sec=1, nanosec=976020563), number_of_recoveries=0, distance_remaining=0.49899500608444214)\n",
      "nav2_msgs.action.NavigateToPose_Feedback(current_pose=geometry_msgs.msg.PoseStamped(header=std_msgs.msg.Header(stamp=builtin_interfaces.msg.Time(sec=48, nanosec=722000000), frame_id='map'), pose=geometry_msgs.msg.Pose(position=geometry_msgs.msg.Point(x=0.42299053342505255, y=-0.738977743071203, z=0.01265995258089377), orientation=geometry_msgs.msg.Quaternion(x=0.0004641415914692221, y=-0.0003373940643827229, z=-0.6551052222288598, w=0.755537436892643))), navigation_time=builtin_interfaces.msg.Duration(sec=3, nanosec=751000000), estimated_time_remaining=builtin_interfaces.msg.Duration(sec=1, nanosec=964193026), number_of_recoveries=0, distance_remaining=0.49899500608444214)\n",
      "nav2_msgs.action.NavigateToPose_Feedback(current_pose=geometry_msgs.msg.PoseStamped(header=std_msgs.msg.Header(stamp=builtin_interfaces.msg.Time(sec=48, nanosec=722000000), frame_id='map'), pose=geometry_msgs.msg.Pose(position=geometry_msgs.msg.Point(x=0.42299053342505255, y=-0.738977743071203, z=0.01265995258089377), orientation=geometry_msgs.msg.Quaternion(x=0.0004641415914692221, y=-0.0003373940643827229, z=-0.6551052222288598, w=0.755537436892643))), navigation_time=builtin_interfaces.msg.Duration(sec=3, nanosec=765000000), estimated_time_remaining=builtin_interfaces.msg.Duration(sec=1, nanosec=964193026), number_of_recoveries=0, distance_remaining=0.49899500608444214)\n",
      "nav2_msgs.action.NavigateToPose_Feedback(current_pose=geometry_msgs.msg.PoseStamped(header=std_msgs.msg.Header(stamp=builtin_interfaces.msg.Time(sec=48, nanosec=756000000), frame_id='map'), pose=geometry_msgs.msg.Pose(position=geometry_msgs.msg.Point(x=0.4241702729768684, y=-0.7472733066044376, z=0.012708408972792743), orientation=geometry_msgs.msg.Quaternion(x=0.00048381100412584794, y=-0.00032409696175546987, z=-0.6557783860142897, w=0.7549532232692068))), navigation_time=builtin_interfaces.msg.Duration(sec=3, nanosec=813000000), estimated_time_remaining=builtin_interfaces.msg.Duration(sec=1, nanosec=865795309), number_of_recoveries=0, distance_remaining=0.47399502992630005)\n",
      "nav2_msgs.action.NavigateToPose_Feedback(current_pose=geometry_msgs.msg.PoseStamped(header=std_msgs.msg.Header(stamp=builtin_interfaces.msg.Time(sec=48, nanosec=790000000), frame_id='map'), pose=geometry_msgs.msg.Pose(position=geometry_msgs.msg.Point(x=0.42533518898873135, y=-0.755570404573174, z=0.012752154979482545), orientation=geometry_msgs.msg.Quaternion(x=0.0004968610249668023, y=-0.000317253839322928, z=-0.6564511340290101, w=0.7543683192652976))), navigation_time=builtin_interfaces.msg.Duration(sec=3, nanosec=835000000), estimated_time_remaining=builtin_interfaces.msg.Duration(sec=1, nanosec=876979432), number_of_recoveries=0, distance_remaining=0.47399502992630005)\n",
      "nav2_msgs.action.NavigateToPose_Feedback(current_pose=geometry_msgs.msg.PoseStamped(header=std_msgs.msg.Header(stamp=builtin_interfaces.msg.Time(sec=48, nanosec=824000000), frame_id='map'), pose=geometry_msgs.msg.Pose(position=geometry_msgs.msg.Point(x=0.4264215632593731, y=-0.7634091300311322, z=0.012774477453912324), orientation=geometry_msgs.msg.Quaternion(x=0.0005101550757505868, y=-0.00030923513816053877, z=-0.6571233965290136, w=0.7537827842618859))), navigation_time=builtin_interfaces.msg.Duration(sec=3, nanosec=860000000), estimated_time_remaining=builtin_interfaces.msg.Duration(sec=2, nanosec=113565731), number_of_recoveries=0, distance_remaining=0.530530571937561)\n",
      "nav2_msgs.action.NavigateToPose_Feedback(current_pose=geometry_msgs.msg.PoseStamped(header=std_msgs.msg.Header(stamp=builtin_interfaces.msg.Time(sec=48, nanosec=858000000), frame_id='map'), pose=geometry_msgs.msg.Pose(position=geometry_msgs.msg.Point(x=0.4277184486704009, y=-0.7729431026011147, z=0.012608033832339044), orientation=geometry_msgs.msg.Quaternion(x=0.00045863596623033087, y=-0.00027428564757229183, z=-0.6574516825065597, w=0.753496515977166))), navigation_time=builtin_interfaces.msg.Duration(sec=3, nanosec=877000000), estimated_time_remaining=builtin_interfaces.msg.Duration(sec=2, nanosec=126472717), number_of_recoveries=0, distance_remaining=0.530530571937561)\n",
      "nav2_msgs.action.NavigateToPose_Feedback(current_pose=geometry_msgs.msg.PoseStamped(header=std_msgs.msg.Header(stamp=builtin_interfaces.msg.Time(sec=48, nanosec=892000000), frame_id='map'), pose=geometry_msgs.msg.Pose(position=geometry_msgs.msg.Point(x=0.42907762877941913, y=-0.7829139833098648, z=0.01240161825534073), orientation=geometry_msgs.msg.Quaternion(x=0.00038291679228663145, y=-0.000240688345773057, z=-0.657690844328217, w=0.7532878259541218))), navigation_time=builtin_interfaces.msg.Duration(sec=3, nanosec=911000000), estimated_time_remaining=builtin_interfaces.msg.Duration(sec=2, nanosec=139520762), number_of_recoveries=0, distance_remaining=0.530530571937561)\n"
     ]
    },
    {
     "name": "stdout",
     "output_type": "stream",
     "text": [
      "nav2_msgs.action.NavigateToPose_Feedback(current_pose=geometry_msgs.msg.PoseStamped(header=std_msgs.msg.Header(stamp=builtin_interfaces.msg.Time(sec=48, nanosec=892000000), frame_id='map'), pose=geometry_msgs.msg.Pose(position=geometry_msgs.msg.Point(x=0.42907762877941913, y=-0.7829139833098648, z=0.01240161825534073), orientation=geometry_msgs.msg.Quaternion(x=0.00038291679228663145, y=-0.000240688345773057, z=-0.657690844328217, w=0.7532878259541218))), navigation_time=builtin_interfaces.msg.Duration(sec=3, nanosec=922000000), estimated_time_remaining=builtin_interfaces.msg.Duration(sec=2, nanosec=139520762), number_of_recoveries=0, distance_remaining=0.530530571937561)\n",
      "nav2_msgs.action.NavigateToPose_Feedback(current_pose=geometry_msgs.msg.PoseStamped(header=std_msgs.msg.Header(stamp=builtin_interfaces.msg.Time(sec=48, nanosec=926000000), frame_id='map'), pose=geometry_msgs.msg.Pose(position=geometry_msgs.msg.Point(x=0.43038020546423095, y=-0.792422119532064, z=0.012185963589787855), orientation=geometry_msgs.msg.Quaternion(x=0.0003123008416062449, y=-0.0002011808383963657, z=-0.6579300472547536, w=0.7530789566266025))), navigation_time=builtin_interfaces.msg.Duration(sec=3, nanosec=941000000), estimated_time_remaining=builtin_interfaces.msg.Duration(sec=2, nanosec=179593489), number_of_recoveries=0, distance_remaining=0.530530571937561)\n",
      "nav2_msgs.action.NavigateToPose_Feedback(current_pose=geometry_msgs.msg.PoseStamped(header=std_msgs.msg.Header(stamp=builtin_interfaces.msg.Time(sec=48, nanosec=960000000), frame_id='map'), pose=geometry_msgs.msg.Pose(position=geometry_msgs.msg.Point(x=0.431688539788853, y=-0.8019276935761306, z=0.01197562865258733), orientation=geometry_msgs.msg.Quaternion(x=0.00024174829151626115, y=-0.00016712289482994215, z=-0.6581690721546347, w=0.7528700990787247))), navigation_time=builtin_interfaces.msg.Duration(sec=3, nanosec=969000000), estimated_time_remaining=builtin_interfaces.msg.Duration(sec=1, nanosec=775169028), number_of_recoveries=0, distance_remaining=0.4239949584007263)\n",
      "nav2_msgs.action.NavigateToPose_Feedback(current_pose=geometry_msgs.msg.PoseStamped(header=std_msgs.msg.Header(stamp=builtin_interfaces.msg.Time(sec=48, nanosec=994000000), frame_id='map'), pose=geometry_msgs.msg.Pose(position=geometry_msgs.msg.Point(x=0.432940584326452, y=-0.8109707709095835, z=0.011748431758519055), orientation=geometry_msgs.msg.Quaternion(x=0.0001812586497243122, y=-0.0001240561678751972, z=-0.6584081475538041, w=0.7526610545193216))), navigation_time=builtin_interfaces.msg.Duration(sec=4, nanosec=19000000), estimated_time_remaining=builtin_interfaces.msg.Duration(sec=1, nanosec=821559468), number_of_recoveries=0, distance_remaining=0.4239949584007263)\n",
      "nav2_msgs.action.NavigateToPose_Feedback(current_pose=geometry_msgs.msg.PoseStamped(header=std_msgs.msg.Header(stamp=builtin_interfaces.msg.Time(sec=49, nanosec=28000000), frame_id='map'), pose=geometry_msgs.msg.Pose(position=geometry_msgs.msg.Point(x=0.4341983794192572, y=-0.8200111810310791, z=0.011516573419811086), orientation=geometry_msgs.msg.Quaternion(x=0.00011456967543238632, y=-8.42822619432186e-05, z=-0.6586470481232471, w=0.7524520222371808))), navigation_time=builtin_interfaces.msg.Duration(sec=4, nanosec=50000000), estimated_time_remaining=builtin_interfaces.msg.Duration(sec=1, nanosec=760142782), number_of_recoveries=0, distance_remaining=0.39899495244026184)\n",
      "nav2_msgs.action.NavigateToPose_Feedback(current_pose=geometry_msgs.msg.PoseStamped(header=std_msgs.msg.Header(stamp=builtin_interfaces.msg.Time(sec=49, nanosec=96000000), frame_id='map'), pose=geometry_msgs.msg.Pose(position=geometry_msgs.msg.Point(x=0.43603286002338315, y=-0.8339178705933421, z=0.011598027522986805), orientation=geometry_msgs.msg.Quaternion(x=0.00011394607889315352, y=-9.042856974050915e-05, z=-0.6599749027290637, w=0.7512876324063427))), navigation_time=builtin_interfaces.msg.Duration(sec=4, nanosec=110000000), estimated_time_remaining=builtin_interfaces.msg.Duration(sec=1, nanosec=833980905), number_of_recoveries=0, distance_remaining=0.39899495244026184)\n",
      "nav2_msgs.action.NavigateToPose_Feedback(current_pose=geometry_msgs.msg.PoseStamped(header=std_msgs.msg.Header(stamp=builtin_interfaces.msg.Time(sec=49, nanosec=164000000), frame_id='map'), pose=geometry_msgs.msg.Pose(position=geometry_msgs.msg.Point(x=0.4378079196333433, y=-0.8477686158380411, z=0.011677926543841413), orientation=geometry_msgs.msg.Quaternion(x=0.00011615290051138781, y=-0.0001031922060360361, z=-0.6613133275253175, w=0.7501097644326893))), navigation_time=builtin_interfaces.msg.Duration(sec=4, nanosec=182000000), estimated_time_remaining=builtin_interfaces.msg.Duration(sec=1, nanosec=768548785), number_of_recoveries=0, distance_remaining=0.37399497628211975)\n",
      "nav2_msgs.action.NavigateToPose_Feedback(current_pose=geometry_msgs.msg.PoseStamped(header=std_msgs.msg.Header(stamp=builtin_interfaces.msg.Time(sec=49, nanosec=164000000), frame_id='map'), pose=geometry_msgs.msg.Pose(position=geometry_msgs.msg.Point(x=0.4378079196333433, y=-0.8477686158380411, z=0.011677926543841413), orientation=geometry_msgs.msg.Quaternion(x=0.00011615290051138781, y=-0.0001031922060360361, z=-0.6613133275253175, w=0.7501097644326893))), navigation_time=builtin_interfaces.msg.Duration(sec=4, nanosec=211000000), estimated_time_remaining=builtin_interfaces.msg.Duration(sec=1, nanosec=768548688), number_of_recoveries=0, distance_remaining=0.37399494647979736)\n",
      "nav2_msgs.action.NavigateToPose_Feedback(current_pose=geometry_msgs.msg.PoseStamped(header=std_msgs.msg.Header(stamp=builtin_interfaces.msg.Time(sec=49, nanosec=198000000), frame_id='map'), pose=geometry_msgs.msg.Pose(position=geometry_msgs.msg.Point(x=0.4386191410510061, y=-0.8542357086319337, z=0.011704123951573926), orientation=geometry_msgs.msg.Quaternion(x=0.00012899733291554038, y=-9.692707817417342e-05, z=-0.661981978060316, w=0.7495197360231289))), navigation_time=builtin_interfaces.msg.Duration(sec=4, nanosec=211000000), estimated_time_remaining=builtin_interfaces.msg.Duration(sec=1, nanosec=807429252), number_of_recoveries=0, distance_remaining=0.37399494647979736)\n",
      "nav2_msgs.action.NavigateToPose_Feedback(current_pose=geometry_msgs.msg.PoseStamped(header=std_msgs.msg.Header(stamp=builtin_interfaces.msg.Time(sec=49, nanosec=232000000), frame_id='map'), pose=geometry_msgs.msg.Pose(position=geometry_msgs.msg.Point(x=0.4394187508774481, y=-0.860703548112449, z=0.01173955117559808), orientation=geometry_msgs.msg.Quaternion(x=0.00013679546852945993, y=-9.575158862258672e-05, z=-0.662649895661596, w=0.7489292943251111))), navigation_time=builtin_interfaces.msg.Duration(sec=4, nanosec=269000000), estimated_time_remaining=builtin_interfaces.msg.Duration(sec=1, nanosec=834371853), number_of_recoveries=0, distance_remaining=0.37399494647979736)\n",
      "nav2_msgs.action.NavigateToPose_Feedback(current_pose=geometry_msgs.msg.PoseStamped(header=std_msgs.msg.Header(stamp=builtin_interfaces.msg.Time(sec=49, nanosec=266000000), frame_id='map'), pose=geometry_msgs.msg.Pose(position=geometry_msgs.msg.Point(x=0.44015065071281834, y=-0.8667114388070762, z=0.011784112370426186), orientation=geometry_msgs.msg.Quaternion(x=0.00015014518808065881, y=-8.781717963398435e-05, z=-0.6633175190719098, w=0.7483380510416746))), navigation_time=builtin_interfaces.msg.Duration(sec=4, nanosec=292000000), estimated_time_remaining=builtin_interfaces.msg.Duration(sec=1, nanosec=876355843), number_of_recoveries=0, distance_remaining=0.37399494647979736)\n",
      "nav2_msgs.action.NavigateToPose_Feedback(current_pose=geometry_msgs.msg.PoseStamped(header=std_msgs.msg.Header(stamp=builtin_interfaces.msg.Time(sec=49, nanosec=300000000), frame_id='map'), pose=geometry_msgs.msg.Pose(position=geometry_msgs.msg.Point(x=0.44087157486223005, y=-0.8727199657464317, z=0.011830089932034398), orientation=geometry_msgs.msg.Quaternion(x=0.0001574943295124706, y=-9.35482154284253e-05, z=-0.6639844069006663, w=0.7477463967395884))), navigation_time=builtin_interfaces.msg.Duration(sec=4, nanosec=335000000), estimated_time_remaining=builtin_interfaces.msg.Duration(sec=1, nanosec=778057725), number_of_recoveries=0, distance_remaining=0.3489949107170105)\n"
     ]
    },
    {
     "name": "stdout",
     "output_type": "stream",
     "text": [
      "nav2_msgs.action.NavigateToPose_Feedback(current_pose=geometry_msgs.msg.PoseStamped(header=std_msgs.msg.Header(stamp=builtin_interfaces.msg.Time(sec=49, nanosec=300000000), frame_id='map'), pose=geometry_msgs.msg.Pose(position=geometry_msgs.msg.Point(x=0.44087157486223005, y=-0.8727199657464317, z=0.011830089932034398), orientation=geometry_msgs.msg.Quaternion(x=0.0001574943295124706, y=-9.35482154284253e-05, z=-0.6639844069006663, w=0.7477463967395884))), navigation_time=builtin_interfaces.msg.Duration(sec=4, nanosec=335000000), estimated_time_remaining=builtin_interfaces.msg.Duration(sec=1, nanosec=778057725), number_of_recoveries=0, distance_remaining=0.3489949107170105)\n",
      "nav2_msgs.action.NavigateToPose_Feedback(current_pose=geometry_msgs.msg.PoseStamped(header=std_msgs.msg.Header(stamp=builtin_interfaces.msg.Time(sec=49, nanosec=334000000), frame_id='map'), pose=geometry_msgs.msg.Pose(position=geometry_msgs.msg.Point(x=0.4415817503040613, y=-0.8787293027655425, z=0.011874223932078104), orientation=geometry_msgs.msg.Quaternion(x=0.00015664862463835169, y=-0.00010790129439540138, z=-0.6646506407580585, w=0.7471542608848734))), navigation_time=builtin_interfaces.msg.Duration(sec=4, nanosec=341000000), estimated_time_remaining=builtin_interfaces.msg.Duration(sec=1, nanosec=806059188), number_of_recoveries=0, distance_remaining=0.3489949107170105)\n",
      "nav2_msgs.action.NavigateToPose_Feedback(current_pose=geometry_msgs.msg.PoseStamped(header=std_msgs.msg.Header(stamp=builtin_interfaces.msg.Time(sec=49, nanosec=368000000), frame_id='map'), pose=geometry_msgs.msg.Pose(position=geometry_msgs.msg.Point(x=0.44223336974005534, y=-0.8842709610845116, z=0.011912679046660919), orientation=geometry_msgs.msg.Quaternion(x=0.00015021745587716486, y=-0.00010240938889857257, z=-0.6640642410343018, w=0.7476754982788788))), navigation_time=builtin_interfaces.msg.Duration(sec=4, nanosec=381000000), estimated_time_remaining=builtin_interfaces.msg.Duration(sec=1, nanosec=849998873), number_of_recoveries=0, distance_remaining=0.3489949107170105)\n",
      "nav2_msgs.action.NavigateToPose_Feedback(current_pose=geometry_msgs.msg.PoseStamped(header=std_msgs.msg.Header(stamp=builtin_interfaces.msg.Time(sec=49, nanosec=402000000), frame_id='map'), pose=geometry_msgs.msg.Pose(position=geometry_msgs.msg.Point(x=0.44289293919361894, y=-0.8898176583366866, z=0.01194949963583137), orientation=geometry_msgs.msg.Quaternion(x=0.00014654794324508386, y=-0.00010918632743382511, z=-0.6645381997635356, w=0.7472542724247788))), navigation_time=builtin_interfaces.msg.Duration(sec=4, nanosec=416000000), estimated_time_remaining=builtin_interfaces.msg.Duration(sec=1, nanosec=899767684), number_of_recoveries=0, distance_remaining=0.34973782300949097)\n",
      "nav2_msgs.action.NavigateToPose_Feedback(current_pose=geometry_msgs.msg.PoseStamped(header=std_msgs.msg.Header(stamp=builtin_interfaces.msg.Time(sec=49, nanosec=470000000), frame_id='map'), pose=geometry_msgs.msg.Pose(position=geometry_msgs.msg.Point(x=0.44417375982317586, y=-0.900916119518322, z=0.012021681891006376), orientation=geometry_msgs.msg.Quaternion(x=0.00014162764151599003, y=-0.00012965731616190832, z=-0.6659270277323023, w=0.7460168609798394))), navigation_time=builtin_interfaces.msg.Duration(sec=4, nanosec=448000000), estimated_time_remaining=builtin_interfaces.msg.Duration(sec=1, nanosec=851740236), number_of_recoveries=0, distance_remaining=0.3239949345588684)\n",
      "nav2_msgs.action.NavigateToPose_Feedback(current_pose=geometry_msgs.msg.PoseStamped(header=std_msgs.msg.Header(stamp=builtin_interfaces.msg.Time(sec=49, nanosec=470000000), frame_id='map'), pose=geometry_msgs.msg.Pose(position=geometry_msgs.msg.Point(x=0.44417375982317586, y=-0.900916119518322, z=0.012021681891006376), orientation=geometry_msgs.msg.Quaternion(x=0.00014162764151599003, y=-0.00012965731616190832, z=-0.6659270277323023, w=0.7460168609798394))), navigation_time=builtin_interfaces.msg.Duration(sec=4, nanosec=491000000), estimated_time_remaining=builtin_interfaces.msg.Duration(sec=1, nanosec=851740236), number_of_recoveries=0, distance_remaining=0.3239949345588684)\n",
      "nav2_msgs.action.NavigateToPose_Feedback(current_pose=geometry_msgs.msg.PoseStamped(header=std_msgs.msg.Header(stamp=builtin_interfaces.msg.Time(sec=49, nanosec=538000000), frame_id='map'), pose=geometry_msgs.msg.Pose(position=geometry_msgs.msg.Point(x=0.4453440555544719, y=-0.9110785431450295, z=0.012076566401767517), orientation=geometry_msgs.msg.Quaternion(x=0.00014691603464475088, y=-0.00011155021172817121, z=-0.6646070192610045, w=0.7471930646902659))), navigation_time=builtin_interfaces.msg.Duration(sec=4, nanosec=524000000), estimated_time_remaining=builtin_interfaces.msg.Duration(sec=1, nanosec=954262400), number_of_recoveries=0, distance_remaining=0.3239949345588684)\n",
      "nav2_msgs.action.NavigateToPose_Feedback(current_pose=geometry_msgs.msg.PoseStamped(header=std_msgs.msg.Header(stamp=builtin_interfaces.msg.Time(sec=49, nanosec=606000000), frame_id='map'), pose=geometry_msgs.msg.Pose(position=geometry_msgs.msg.Point(x=0.44652015492602226, y=-0.9212532467752024, z=0.012128954954086871), orientation=geometry_msgs.msg.Quaternion(x=0.00016030453319757317, y=-0.00012871937130281595, z=-0.6660298079660493, w=0.7459250985417286))), navigation_time=builtin_interfaces.msg.Duration(sec=4, nanosec=575000000), estimated_time_remaining=builtin_interfaces.msg.Duration(sec=1, nanosec=872065349), number_of_recoveries=0, distance_remaining=0.29899489879608154)\n",
      "nav2_msgs.action.NavigateToPose_Feedback(current_pose=geometry_msgs.msg.PoseStamped(header=std_msgs.msg.Header(stamp=builtin_interfaces.msg.Time(sec=49, nanosec=640000000), frame_id='map'), pose=geometry_msgs.msg.Pose(position=geometry_msgs.msg.Point(x=0.4470942454780922, y=-0.9263417690989024, z=0.01215704943231894), orientation=geometry_msgs.msg.Quaternion(x=0.0001547920923650796, y=-0.00013217424792715197, z=-0.6666420937430448, w=0.7453779426702039))), navigation_time=builtin_interfaces.msg.Duration(sec=4, nanosec=635000000), estimated_time_remaining=builtin_interfaces.msg.Duration(sec=1, nanosec=908379527), number_of_recoveries=0, distance_remaining=0.29899489879608154)\n",
      "nav2_msgs.action.NavigateToPose_Feedback(current_pose=geometry_msgs.msg.PoseStamped(header=std_msgs.msg.Header(stamp=builtin_interfaces.msg.Time(sec=49, nanosec=640000000), frame_id='map'), pose=geometry_msgs.msg.Pose(position=geometry_msgs.msg.Point(x=0.4470942454780922, y=-0.9263417690989024, z=0.01215704943231894), orientation=geometry_msgs.msg.Quaternion(x=0.0001547920923650796, y=-0.00013217424792715197, z=-0.6666420937430448, w=0.7453779426702039))), navigation_time=builtin_interfaces.msg.Duration(sec=4, nanosec=678000000), estimated_time_remaining=builtin_interfaces.msg.Duration(sec=1, nanosec=908379527), number_of_recoveries=0, distance_remaining=0.29899489879608154)\n",
      "nav2_msgs.action.NavigateToPose_Feedback(current_pose=geometry_msgs.msg.PoseStamped(header=std_msgs.msg.Header(stamp=builtin_interfaces.msg.Time(sec=49, nanosec=708000000), frame_id='map'), pose=geometry_msgs.msg.Pose(position=geometry_msgs.msg.Point(x=0.44811294791298706, y=-0.9355983745363903, z=0.012214489159005791), orientation=geometry_msgs.msg.Quaternion(x=0.00016556356905656888, y=-0.00012066784636881259, z=-0.6679961824806676, w=0.7441646714398837))), navigation_time=builtin_interfaces.msg.Duration(sec=4, nanosec=719000000), estimated_time_remaining=builtin_interfaces.msg.Duration(sec=1, nanosec=985103742), number_of_recoveries=0, distance_remaining=0.29899489879608154)\n",
      "nav2_msgs.action.NavigateToPose_Feedback(current_pose=geometry_msgs.msg.PoseStamped(header=std_msgs.msg.Header(stamp=builtin_interfaces.msg.Time(sec=49, nanosec=708000000), frame_id='map'), pose=geometry_msgs.msg.Pose(position=geometry_msgs.msg.Point(x=0.44811294791298706, y=-0.9355983745363903, z=0.012214489159005791), orientation=geometry_msgs.msg.Quaternion(x=0.00016556356905656888, y=-0.00012066784636881259, z=-0.6679961824806676, w=0.7441646714398837))), navigation_time=builtin_interfaces.msg.Duration(sec=4, nanosec=740000000), estimated_time_remaining=builtin_interfaces.msg.Duration(sec=1, nanosec=985103742), number_of_recoveries=0, distance_remaining=0.29899489879608154)\n",
      "nav2_msgs.action.NavigateToPose_Feedback(current_pose=geometry_msgs.msg.PoseStamped(header=std_msgs.msg.Header(stamp=builtin_interfaces.msg.Time(sec=49, nanosec=742000000), frame_id='map'), pose=geometry_msgs.msg.Pose(position=geometry_msgs.msg.Point(x=0.44860957224523346, y=-0.9402275967032923, z=0.012248181222431499), orientation=geometry_msgs.msg.Quaternion(x=0.00016950109013425644, y=-0.00012776906157825163, z=-0.6686711484505387, w=0.7435582358997074))), navigation_time=builtin_interfaces.msg.Duration(sec=4, nanosec=753000000), estimated_time_remaining=builtin_interfaces.msg.Duration(sec=2, nanosec=25965266), number_of_recoveries=0, distance_remaining=0.29899489879608154)\n",
      "nav2_msgs.action.NavigateToPose_Feedback(current_pose=geometry_msgs.msg.PoseStamped(header=std_msgs.msg.Header(stamp=builtin_interfaces.msg.Time(sec=49, nanosec=742000000), frame_id='map'), pose=geometry_msgs.msg.Pose(position=geometry_msgs.msg.Point(x=0.44860957224523346, y=-0.9402275967032923, z=0.012248181222431499), orientation=geometry_msgs.msg.Quaternion(x=0.00016950109013425644, y=-0.00012776906157825163, z=-0.6686711484505387, w=0.7435582358997074))), navigation_time=builtin_interfaces.msg.Duration(sec=4, nanosec=774000000), estimated_time_remaining=builtin_interfaces.msg.Duration(sec=2, nanosec=29067811), number_of_recoveries=0, distance_remaining=0.2994527816772461)\n"
     ]
    },
    {
     "name": "stdout",
     "output_type": "stream",
     "text": [
      "nav2_msgs.action.NavigateToPose_Feedback(current_pose=geometry_msgs.msg.PoseStamped(header=std_msgs.msg.Header(stamp=builtin_interfaces.msg.Time(sec=49, nanosec=776000000), frame_id='map'), pose=geometry_msgs.msg.Pose(position=geometry_msgs.msg.Point(x=0.44904890997512226, y=-0.9443955362400398, z=0.012277669998622405), orientation=geometry_msgs.msg.Quaternion(x=0.00018507165991035195, y=-0.00012902925688163997, z=-0.6693374898623915, w=0.742958460322409))), navigation_time=builtin_interfaces.msg.Duration(sec=4, nanosec=791000000), estimated_time_remaining=builtin_interfaces.msg.Duration(sec=1, nanosec=915824235), number_of_recoveries=0, distance_remaining=0.27399492263793945)\n",
      "nav2_msgs.action.NavigateToPose_Feedback(current_pose=geometry_msgs.msg.PoseStamped(header=std_msgs.msg.Header(stamp=builtin_interfaces.msg.Time(sec=49, nanosec=810000000), frame_id='map'), pose=geometry_msgs.msg.Pose(position=geometry_msgs.msg.Point(x=0.44948074148570005, y=-0.948563820914786, z=0.012307403550828227), orientation=geometry_msgs.msg.Quaternion(x=0.00019344699854755522, y=-0.00013719143802628218, z=-0.6700037705260534, w=0.7423576572230125))), navigation_time=builtin_interfaces.msg.Duration(sec=4, nanosec=817000000), estimated_time_remaining=builtin_interfaces.msg.Duration(sec=1, nanosec=957050037), number_of_recoveries=0, distance_remaining=0.27399492263793945)\n",
      "nav2_msgs.action.NavigateToPose_Feedback(current_pose=geometry_msgs.msg.PoseStamped(header=std_msgs.msg.Header(stamp=builtin_interfaces.msg.Time(sec=49, nanosec=810000000), frame_id='map'), pose=geometry_msgs.msg.Pose(position=geometry_msgs.msg.Point(x=0.44948074148570005, y=-0.948563820914786, z=0.012307403550828227), orientation=geometry_msgs.msg.Quaternion(x=0.00019344699854755522, y=-0.00013719143802628218, z=-0.6700037705260534, w=0.7423576572230125))), navigation_time=builtin_interfaces.msg.Duration(sec=4, nanosec=843000000), estimated_time_remaining=builtin_interfaces.msg.Duration(sec=1, nanosec=957050037), number_of_recoveries=0, distance_remaining=0.27399492263793945)\n",
      "nav2_msgs.action.NavigateToPose_Feedback(current_pose=geometry_msgs.msg.PoseStamped(header=std_msgs.msg.Header(stamp=builtin_interfaces.msg.Time(sec=49, nanosec=878000000), frame_id='map'), pose=geometry_msgs.msg.Pose(position=geometry_msgs.msg.Point(x=0.45032256642739643, y=-0.9569018916302432, z=0.012366296075844828), orientation=geometry_msgs.msg.Quaternion(x=0.00018858454259548384, y=-0.000158110758953884, z=-0.6713250999422338, w=0.7411629710289148))), navigation_time=builtin_interfaces.msg.Duration(sec=4, nanosec=892000000), estimated_time_remaining=builtin_interfaces.msg.Duration(sec=2, nanosec=45789732), number_of_recoveries=0, distance_remaining=0.27399492263793945)\n",
      "nav2_msgs.action.NavigateToPose_Feedback(current_pose=geometry_msgs.msg.PoseStamped(header=std_msgs.msg.Header(stamp=builtin_interfaces.msg.Time(sec=49, nanosec=912000000), frame_id='map'), pose=geometry_msgs.msg.Pose(position=geometry_msgs.msg.Point(x=0.45073244306607463, y=-0.9610720101423138, z=0.012400335759746473), orientation=geometry_msgs.msg.Quaternion(x=0.0001840543726645873, y=-0.00016634931683773085, z=-0.671984682682227, w=0.7405650036913434))), navigation_time=builtin_interfaces.msg.Duration(sec=4, nanosec=943000000), estimated_time_remaining=builtin_interfaces.msg.Duration(sec=2, nanosec=93292738), number_of_recoveries=0, distance_remaining=0.27399492263793945)\n",
      "nav2_msgs.action.NavigateToPose_Feedback(current_pose=geometry_msgs.msg.PoseStamped(header=std_msgs.msg.Header(stamp=builtin_interfaces.msg.Time(sec=49, nanosec=946000000), frame_id='map'), pose=geometry_msgs.msg.Pose(position=geometry_msgs.msg.Point(x=0.45109413924012287, y=-0.9647735707867107, z=0.012417981989702622), orientation=geometry_msgs.msg.Quaternion(x=0.000180254196949635, y=-0.00015077108098143644, z=-0.6714132892312676, w=0.7410830856389556))), navigation_time=builtin_interfaces.msg.Duration(sec=4, nanosec=959000000), estimated_time_remaining=builtin_interfaces.msg.Duration(sec=2, nanosec=169384057), number_of_recoveries=0, distance_remaining=0.27399492263793945)\n",
      "nav2_msgs.action.NavigateToPose_Feedback(current_pose=geometry_msgs.msg.PoseStamped(header=std_msgs.msg.Header(stamp=builtin_interfaces.msg.Time(sec=49, nanosec=980000000), frame_id='map'), pose=geometry_msgs.msg.Pose(position=geometry_msgs.msg.Point(x=0.45146445227589527, y=-0.9684737382773532, z=0.012443144941588274), orientation=geometry_msgs.msg.Quaternion(x=0.00017518774945771316, y=-0.0001376672488244189, z=-0.6706392190979684, w=0.74178365320668))), navigation_time=builtin_interfaces.msg.Duration(sec=5, nanosec=4000000), estimated_time_remaining=builtin_interfaces.msg.Duration(sec=2, nanosec=20505797), number_of_recoveries=0, distance_remaining=0.24899490177631378)\n",
      "nav2_msgs.action.NavigateToPose_Feedback(current_pose=geometry_msgs.msg.PoseStamped(header=std_msgs.msg.Header(stamp=builtin_interfaces.msg.Time(sec=50, nanosec=82000000), frame_id='map'), pose=geometry_msgs.msg.Pose(position=geometry_msgs.msg.Point(x=0.452698184247867, y=-0.9733804891967808, z=0.011985162179082333), orientation=geometry_msgs.msg.Quaternion(x=0.00016270225832705655, y=-2.0282563459995167e-05, z=-0.6634496831876489, w=0.7482208838269626))), navigation_time=builtin_interfaces.msg.Duration(sec=5, nanosec=78000000), estimated_time_remaining=builtin_interfaces.msg.Duration(sec=2, nanosec=513942750), number_of_recoveries=0, distance_remaining=0.24899490177631378)\n",
      "nav2_msgs.action.NavigateToPose_Feedback(current_pose=geometry_msgs.msg.PoseStamped(header=std_msgs.msg.Header(stamp=builtin_interfaces.msg.Time(sec=50, nanosec=150000000), frame_id='map'), pose=geometry_msgs.msg.Pose(position=geometry_msgs.msg.Point(x=0.4537998088297388, y=-0.9743092822767432, z=0.011410612878471964), orientation=geometry_msgs.msg.Quaternion(x=-1.1027781010466448e-05, y=6.451674344943498e-05, z=-0.6471153845055867, w=0.762392074232258))), navigation_time=builtin_interfaces.msg.Duration(sec=5, nanosec=156000000), estimated_time_remaining=builtin_interfaces.msg.Duration(sec=3, nanosec=126011470), number_of_recoveries=0, distance_remaining=0.24899490177631378)\n",
      "nav2_msgs.action.NavigateToPose_Feedback(current_pose=geometry_msgs.msg.PoseStamped(header=std_msgs.msg.Header(stamp=builtin_interfaces.msg.Time(sec=50, nanosec=218000000), frame_id='map'), pose=geometry_msgs.msg.Pose(position=geometry_msgs.msg.Point(x=0.454628874765465, y=-0.9731442580861444, z=0.010847284236016955), orientation=geometry_msgs.msg.Quaternion(x=-0.00021171228905634458, y=0.00020085529028141897, z=-0.6243095044112152, w=0.7811770334161661))), navigation_time=builtin_interfaces.msg.Duration(sec=5, nanosec=234000000), estimated_time_remaining=builtin_interfaces.msg.Duration(sec=4, nanosec=688479710), number_of_recoveries=0, distance_remaining=0.25018319487571716)\n",
      "nav2_msgs.action.NavigateToPose_Feedback(current_pose=geometry_msgs.msg.PoseStamped(header=std_msgs.msg.Header(stamp=builtin_interfaces.msg.Time(sec=50, nanosec=286000000), frame_id='map'), pose=geometry_msgs.msg.Pose(position=geometry_msgs.msg.Point(x=0.45473411131728825, y=-0.9727747375455501, z=0.010766204883101607), orientation=geometry_msgs.msg.Quaternion(x=-0.000371206417361668, y=0.00029453281903738063, z=-0.6015721715837529, w=0.7988183134056341))), navigation_time=builtin_interfaces.msg.Duration(sec=5, nanosec=296000000), estimated_time_remaining=builtin_interfaces.msg.Duration(sec=8, nanosec=713136176), number_of_recoveries=0, distance_remaining=0.25018319487571716)\n",
      "nav2_msgs.action.NavigateToPose_Feedback(current_pose=geometry_msgs.msg.PoseStamped(header=std_msgs.msg.Header(stamp=builtin_interfaces.msg.Time(sec=50, nanosec=320000000), frame_id='map'), pose=geometry_msgs.msg.Pose(position=geometry_msgs.msg.Point(x=0.4547173996074898, y=-0.9727267339687083, z=0.01077171750095696), orientation=geometry_msgs.msg.Quaternion(x=-0.00043374445366664577, y=0.00033392586533923907, z=-0.5909342525682305, w=0.806719535836893))), navigation_time=builtin_interfaces.msg.Duration(sec=5, nanosec=337000000), estimated_time_remaining=builtin_interfaces.msg.Duration(sec=12, nanosec=413882976), number_of_recoveries=0, distance_remaining=0.25018319487571716)\n"
     ]
    },
    {
     "name": "stdout",
     "output_type": "stream",
     "text": [
      "nav2_msgs.action.NavigateToPose_Feedback(current_pose=geometry_msgs.msg.PoseStamped(header=std_msgs.msg.Header(stamp=builtin_interfaces.msg.Time(sec=50, nanosec=354000000), frame_id='map'), pose=geometry_msgs.msg.Pose(position=geometry_msgs.msg.Point(x=0.45469896825225087, y=-0.9726794233933024, z=0.010769001317539675), orientation=geometry_msgs.msg.Quaternion(x=-0.0004950458028400183, y=0.00038386196658595444, z=-0.5800144557571549, w=0.8146059407421327))), navigation_time=builtin_interfaces.msg.Duration(sec=5, nanosec=370000000), estimated_time_remaining=builtin_interfaces.msg.Duration(sec=18, nanosec=9721473), number_of_recoveries=0, distance_remaining=0.25018319487571716)\n",
      "nav2_msgs.action.NavigateToPose_Feedback(current_pose=geometry_msgs.msg.PoseStamped(header=std_msgs.msg.Header(stamp=builtin_interfaces.msg.Time(sec=50, nanosec=388000000), frame_id='map'), pose=geometry_msgs.msg.Pose(position=geometry_msgs.msg.Point(x=0.4546801945043524, y=-0.9726329961310621, z=0.010762546713354696), orientation=geometry_msgs.msg.Quaternion(x=-0.0005551245561372584, y=0.0004422695538169392, z=-0.569124581465151, w=0.8222510000033358))), navigation_time=builtin_interfaces.msg.Duration(sec=5, nanosec=413000000), estimated_time_remaining=builtin_interfaces.msg.Duration(sec=0, nanosec=0), number_of_recoveries=0, distance_remaining=0.25018319487571716)\n",
      "nav2_msgs.action.NavigateToPose_Feedback(current_pose=geometry_msgs.msg.PoseStamped(header=std_msgs.msg.Header(stamp=builtin_interfaces.msg.Time(sec=50, nanosec=422000000), frame_id='map'), pose=geometry_msgs.msg.Pose(position=geometry_msgs.msg.Point(x=0.45466003749878925, y=-0.9725871433818162, z=0.010760421368892974), orientation=geometry_msgs.msg.Quaternion(x=-0.0006156032730373557, y=0.0005073833291756708, z=-0.5580480225764248, w=0.8298082718877352))), navigation_time=builtin_interfaces.msg.Duration(sec=5, nanosec=435000000), estimated_time_remaining=builtin_interfaces.msg.Duration(sec=0, nanosec=0), number_of_recoveries=0, distance_remaining=0.25018319487571716)\n",
      "nav2_msgs.action.NavigateToPose_Feedback(current_pose=geometry_msgs.msg.PoseStamped(header=std_msgs.msg.Header(stamp=builtin_interfaces.msg.Time(sec=50, nanosec=422000000), frame_id='map'), pose=geometry_msgs.msg.Pose(position=geometry_msgs.msg.Point(x=0.45466003749878925, y=-0.9725871433818162, z=0.010760421368892974), orientation=geometry_msgs.msg.Quaternion(x=-0.0006156032730373557, y=0.0005073833291756708, z=-0.5580480225764248, w=0.8298082718877352))), navigation_time=builtin_interfaces.msg.Duration(sec=5, nanosec=461000000), estimated_time_remaining=builtin_interfaces.msg.Duration(sec=0, nanosec=0), number_of_recoveries=0, distance_remaining=0.25018319487571716)\n",
      "nav2_msgs.action.NavigateToPose_Feedback(current_pose=geometry_msgs.msg.PoseStamped(header=std_msgs.msg.Header(stamp=builtin_interfaces.msg.Time(sec=50, nanosec=456000000), frame_id='map'), pose=geometry_msgs.msg.Pose(position=geometry_msgs.msg.Point(x=0.45464135725838584, y=-0.9725481955878824, z=0.010746118280278747), orientation=geometry_msgs.msg.Quaternion(x=-0.000667307113867028, y=0.0005626875470049615, z=-0.548325168101648, w=0.8362647595769176))), navigation_time=builtin_interfaces.msg.Duration(sec=5, nanosec=475000000), estimated_time_remaining=builtin_interfaces.msg.Duration(sec=0, nanosec=0), number_of_recoveries=0, distance_remaining=0.25018319487571716)\n",
      "nav2_msgs.action.NavigateToPose_Feedback(current_pose=geometry_msgs.msg.PoseStamped(header=std_msgs.msg.Header(stamp=builtin_interfaces.msg.Time(sec=50, nanosec=456000000), frame_id='map'), pose=geometry_msgs.msg.Pose(position=geometry_msgs.msg.Point(x=0.45464135725838584, y=-0.9725481955878824, z=0.010746118280278747), orientation=geometry_msgs.msg.Quaternion(x=-0.000667307113867028, y=0.0005626875470049615, z=-0.548325168101648, w=0.8362647595769176))), navigation_time=builtin_interfaces.msg.Duration(sec=5, nanosec=498000000), estimated_time_remaining=builtin_interfaces.msg.Duration(sec=0, nanosec=0), number_of_recoveries=0, distance_remaining=0.25018319487571716)\n",
      "nav2_msgs.action.NavigateToPose_Feedback(current_pose=geometry_msgs.msg.PoseStamped(header=std_msgs.msg.Header(stamp=builtin_interfaces.msg.Time(sec=50, nanosec=490000000), frame_id='map'), pose=geometry_msgs.msg.Pose(position=geometry_msgs.msg.Point(x=0.4546225920948015, y=-0.9725092441017865, z=0.010746036489890674), orientation=geometry_msgs.msg.Quaternion(x=-0.0007182234790243185, y=0.0006135827990961308, z=-0.5387183388501443, w=0.8424854058425725))), navigation_time=builtin_interfaces.msg.Duration(sec=5, nanosec=506000000), estimated_time_remaining=builtin_interfaces.msg.Duration(sec=0, nanosec=0), number_of_recoveries=0, distance_remaining=0.25018319487571716)\n",
      "nav2_msgs.action.NavigateToPose_Feedback(current_pose=geometry_msgs.msg.PoseStamped(header=std_msgs.msg.Header(stamp=builtin_interfaces.msg.Time(sec=50, nanosec=524000000), frame_id='map'), pose=geometry_msgs.msg.Pose(position=geometry_msgs.msg.Point(x=0.4546017686369095, y=-0.9724706984100421, z=0.010745932477035373), orientation=geometry_msgs.msg.Quaternion(x=-0.000771475771626309, y=0.0006627878838554127, z=-0.5288220930044035, w=0.8487320893472785))), navigation_time=builtin_interfaces.msg.Duration(sec=5, nanosec=525000000), estimated_time_remaining=builtin_interfaces.msg.Duration(sec=0, nanosec=0), number_of_recoveries=0, distance_remaining=0.24986419081687927)\n",
      "nav2_msgs.action.NavigateToPose_Feedback(current_pose=geometry_msgs.msg.PoseStamped(header=std_msgs.msg.Header(stamp=builtin_interfaces.msg.Time(sec=50, nanosec=524000000), frame_id='map'), pose=geometry_msgs.msg.Pose(position=geometry_msgs.msg.Point(x=0.4546017686369095, y=-0.9724706984100421, z=0.010745932477035373), orientation=geometry_msgs.msg.Quaternion(x=-0.000771475771626309, y=0.0006627878838554127, z=-0.5288220930044035, w=0.8487320893472785))), navigation_time=builtin_interfaces.msg.Duration(sec=5, nanosec=553000000), estimated_time_remaining=builtin_interfaces.msg.Duration(sec=0, nanosec=0), number_of_recoveries=0, distance_remaining=0.24986419081687927)\n",
      "nav2_msgs.action.NavigateToPose_Feedback(current_pose=geometry_msgs.msg.PoseStamped(header=std_msgs.msg.Header(stamp=builtin_interfaces.msg.Time(sec=50, nanosec=558000000), frame_id='map'), pose=geometry_msgs.msg.Pose(position=geometry_msgs.msg.Point(x=0.4545807027091462, y=-0.9724326064973688, z=0.010745697813892431), orientation=geometry_msgs.msg.Quaternion(x=-0.000824244813760001, y=0.0007080644284360839, z=-0.5190150863927767, w=0.8547643882158117))), navigation_time=builtin_interfaces.msg.Duration(sec=5, nanosec=581000000), estimated_time_remaining=builtin_interfaces.msg.Duration(sec=0, nanosec=0), number_of_recoveries=0, distance_remaining=0.24986419081687927)\n",
      "nav2_msgs.action.NavigateToPose_Feedback(current_pose=geometry_msgs.msg.PoseStamped(header=std_msgs.msg.Header(stamp=builtin_interfaces.msg.Time(sec=50, nanosec=592000000), frame_id='map'), pose=geometry_msgs.msg.Pose(position=geometry_msgs.msg.Point(x=0.45455824361420194, y=-0.9723948929398635, z=0.010745503637248372), orientation=geometry_msgs.msg.Quaternion(x=-0.0008784399973845002, y=0.0007510311337308151, z=-0.5090378418937335, w=0.8607433646654371))), navigation_time=builtin_interfaces.msg.Duration(sec=5, nanosec=605000000), estimated_time_remaining=builtin_interfaces.msg.Duration(sec=0, nanosec=0), number_of_recoveries=0, distance_remaining=0.24986419081687927)\n",
      "nav2_msgs.action.NavigateToPose_Feedback(current_pose=geometry_msgs.msg.PoseStamped(header=std_msgs.msg.Header(stamp=builtin_interfaces.msg.Time(sec=50, nanosec=660000000), frame_id='map'), pose=geometry_msgs.msg.Pose(position=geometry_msgs.msg.Point(x=0.45451119169832244, y=-0.9723210782694659, z=0.010737716094751274), orientation=geometry_msgs.msg.Quaternion(x=-0.000988713155062142, y=0.0008373015027279121, z=-0.4889635833633304, w=0.8723032359890579))), navigation_time=builtin_interfaces.msg.Duration(sec=5, nanosec=656000000), estimated_time_remaining=builtin_interfaces.msg.Duration(sec=0, nanosec=0), number_of_recoveries=0, distance_remaining=0.24986419081687927)\n",
      "nav2_msgs.action.NavigateToPose_Feedback(current_pose=geometry_msgs.msg.PoseStamped(header=std_msgs.msg.Header(stamp=builtin_interfaces.msg.Time(sec=50, nanosec=728000000), frame_id='map'), pose=geometry_msgs.msg.Pose(position=geometry_msgs.msg.Point(x=0.4544691505882339, y=-0.9722610362198484, z=0.010753115367129171), orientation=geometry_msgs.msg.Quaternion(x=-0.0010713969627465783, y=0.0009204406708512341, z=-0.4718098076387008, w=0.8816992175982986))), navigation_time=builtin_interfaces.msg.Duration(sec=5, nanosec=727000000), estimated_time_remaining=builtin_interfaces.msg.Duration(sec=0, nanosec=0), number_of_recoveries=0, distance_remaining=0.24986419081687927)\n"
     ]
    },
    {
     "name": "stdout",
     "output_type": "stream",
     "text": [
      "nav2_msgs.action.NavigateToPose_Feedback(current_pose=geometry_msgs.msg.PoseStamped(header=std_msgs.msg.Header(stamp=builtin_interfaces.msg.Time(sec=50, nanosec=796000000), frame_id='map'), pose=geometry_msgs.msg.Pose(position=geometry_msgs.msg.Point(x=0.45442444570930873, y=-0.9722023446898166, z=0.010754023119838238), orientation=geometry_msgs.msg.Quaternion(x=-0.0011576730712327284, y=0.0010050850724751227, z=-0.4543911829292582, w=0.8908009331344499))), navigation_time=builtin_interfaces.msg.Duration(sec=5, nanosec=803000000), estimated_time_remaining=builtin_interfaces.msg.Duration(sec=0, nanosec=0), number_of_recoveries=0, distance_remaining=0.24986419081687927)\n",
      "nav2_msgs.action.NavigateToPose_Feedback(current_pose=geometry_msgs.msg.PoseStamped(header=std_msgs.msg.Header(stamp=builtin_interfaces.msg.Time(sec=50, nanosec=830000000), frame_id='map'), pose=geometry_msgs.msg.Pose(position=geometry_msgs.msg.Point(x=0.4544010448188518, y=-0.9721737558082325, z=0.010732728841022672), orientation=geometry_msgs.msg.Quaternion(x=-0.001201477123584066, y=0.00104485752560707, z=-0.44559522497544823, w=0.895233131762086))), navigation_time=builtin_interfaces.msg.Duration(sec=5, nanosec=850000000), estimated_time_remaining=builtin_interfaces.msg.Duration(sec=0, nanosec=0), number_of_recoveries=0, distance_remaining=0.24986419081687927)\n",
      "nav2_msgs.action.NavigateToPose_Feedback(current_pose=geometry_msgs.msg.PoseStamped(header=std_msgs.msg.Header(stamp=builtin_interfaces.msg.Time(sec=50, nanosec=864000000), frame_id='map'), pose=geometry_msgs.msg.Pose(position=geometry_msgs.msg.Point(x=0.4543773607447039, y=-0.9721453939525709, z=0.01073407279748206), orientation=geometry_msgs.msg.Quaternion(x=-0.0012478056350515515, y=0.001084195244994873, z=-0.43681668483443814, w=0.8995490266528107))), navigation_time=builtin_interfaces.msg.Duration(sec=5, nanosec=896000000), estimated_time_remaining=builtin_interfaces.msg.Duration(sec=0, nanosec=0), number_of_recoveries=0, distance_remaining=0.24986419081687927)\n",
      "nav2_msgs.action.NavigateToPose_Feedback(current_pose=geometry_msgs.msg.PoseStamped(header=std_msgs.msg.Header(stamp=builtin_interfaces.msg.Time(sec=50, nanosec=898000000), frame_id='map'), pose=geometry_msgs.msg.Pose(position=geometry_msgs.msg.Point(x=0.4543528245425019, y=-0.9721173705988783, z=0.010735163239951245), orientation=geometry_msgs.msg.Quaternion(x=-0.001294486398156519, y=0.0011189047125742346, z=-0.42796457153266726, w=0.9037938912551188))), navigation_time=builtin_interfaces.msg.Duration(sec=5, nanosec=923000000), estimated_time_remaining=builtin_interfaces.msg.Duration(sec=0, nanosec=0), number_of_recoveries=0, distance_remaining=0.24986419081687927)\n",
      "nav2_msgs.action.NavigateToPose_Feedback(current_pose=geometry_msgs.msg.PoseStamped(header=std_msgs.msg.Header(stamp=builtin_interfaces.msg.Time(sec=50, nanosec=932000000), frame_id='map'), pose=geometry_msgs.msg.Pose(position=geometry_msgs.msg.Point(x=0.45432778636509896, y=-0.972089826269316, z=0.010741739218220338), orientation=geometry_msgs.msg.Quaternion(x=-0.0013403689399320786, y=0.001153220788971147, z=-0.4190869137958439, w=0.9079443992767354))), navigation_time=builtin_interfaces.msg.Duration(sec=5, nanosec=956000000), estimated_time_remaining=builtin_interfaces.msg.Duration(sec=0, nanosec=0), number_of_recoveries=0, distance_remaining=0.25018319487571716)\n",
      "nav2_msgs.action.NavigateToPose_Feedback(current_pose=geometry_msgs.msg.PoseStamped(header=std_msgs.msg.Header(stamp=builtin_interfaces.msg.Time(sec=50, nanosec=966000000), frame_id='map'), pose=geometry_msgs.msg.Pose(position=geometry_msgs.msg.Point(x=0.45430677865793223, y=-0.9720678197812039, z=0.010745241338829203), orientation=geometry_msgs.msg.Quaternion(x=-0.0013772186035490744, y=0.001181765452873531, z=-0.41169168089466995, w=0.9113213849029626))), navigation_time=builtin_interfaces.msg.Duration(sec=5, nanosec=979000000), estimated_time_remaining=builtin_interfaces.msg.Duration(sec=0, nanosec=0), number_of_recoveries=0, distance_remaining=0.25018319487571716)\n",
      "nav2_msgs.action.NavigateToPose_Feedback(current_pose=geometry_msgs.msg.PoseStamped(header=std_msgs.msg.Header(stamp=builtin_interfaces.msg.Time(sec=50, nanosec=966000000), frame_id='map'), pose=geometry_msgs.msg.Pose(position=geometry_msgs.msg.Point(x=0.45430677865793223, y=-0.9720678197812039, z=0.010745241338829203), orientation=geometry_msgs.msg.Quaternion(x=-0.0013772186035490744, y=0.001181765452873531, z=-0.41169168089466995, w=0.9113213849029626))), navigation_time=builtin_interfaces.msg.Duration(sec=5, nanosec=979000000), estimated_time_remaining=builtin_interfaces.msg.Duration(sec=0, nanosec=0), number_of_recoveries=0, distance_remaining=0.25018319487571716)\n",
      "nav2_msgs.action.NavigateToPose_Feedback(current_pose=geometry_msgs.msg.PoseStamped(header=std_msgs.msg.Header(stamp=builtin_interfaces.msg.Time(sec=51, nanosec=0), frame_id='map'), pose=geometry_msgs.msg.Pose(position=geometry_msgs.msg.Point(x=0.45428598304939993, y=-0.9720461451377093, z=0.010750972920064113), orientation=geometry_msgs.msg.Quaternion(x=-0.001411043829748632, y=0.0012125325512265669, z=-0.4045072461027847, w=0.9145329007588869))), navigation_time=builtin_interfaces.msg.Duration(sec=6, nanosec=10000000), estimated_time_remaining=builtin_interfaces.msg.Duration(sec=0, nanosec=0), number_of_recoveries=0, distance_remaining=0.25018319487571716)\n",
      "nav2_msgs.action.NavigateToPose_Feedback(current_pose=geometry_msgs.msg.PoseStamped(header=std_msgs.msg.Header(stamp=builtin_interfaces.msg.Time(sec=51, nanosec=34000000), frame_id='map'), pose=geometry_msgs.msg.Pose(position=geometry_msgs.msg.Point(x=0.4542641266435612, y=-0.9720248081090265, z=0.010747628848102875), orientation=geometry_msgs.msg.Quaternion(x=-0.0014453326096020118, y=0.0012444437560608264, z=-0.3970484327123959, w=0.917795676855157))), navigation_time=builtin_interfaces.msg.Duration(sec=6, nanosec=73000000), estimated_time_remaining=builtin_interfaces.msg.Duration(sec=0, nanosec=0), number_of_recoveries=0, distance_remaining=0.25018319487571716)\n",
      "nav2_msgs.action.NavigateToPose_Feedback(current_pose=geometry_msgs.msg.PoseStamped(header=std_msgs.msg.Header(stamp=builtin_interfaces.msg.Time(sec=51, nanosec=136000000), frame_id='map'), pose=geometry_msgs.msg.Pose(position=geometry_msgs.msg.Point(x=0.45419813782400653, y=-0.9719628379495543, z=0.01075476806124672), orientation=geometry_msgs.msg.Quaternion(x=-0.0015527381027524822, y=0.0013483922606179865, z=-0.3748973167048537, w=0.9270640607693712))), navigation_time=builtin_interfaces.msg.Duration(sec=6, nanosec=179000000), estimated_time_remaining=builtin_interfaces.msg.Duration(sec=0, nanosec=0), number_of_recoveries=0, distance_remaining=0.25018319487571716)\n",
      "nav2_msgs.action.NavigateToPose_Feedback(current_pose=geometry_msgs.msg.PoseStamped(header=std_msgs.msg.Header(stamp=builtin_interfaces.msg.Time(sec=51, nanosec=204000000), frame_id='map'), pose=geometry_msgs.msg.Pose(position=geometry_msgs.msg.Point(x=0.4541520647272559, y=-0.9719231246991692, z=0.010759927464824775), orientation=geometry_msgs.msg.Quaternion(x=-0.0016246578285191388, y=0.0014081114134842968, z=-0.35996874602454865, w=0.9329618853922712))), navigation_time=builtin_interfaces.msg.Duration(sec=6, nanosec=179000000), estimated_time_remaining=builtin_interfaces.msg.Duration(sec=0, nanosec=0), number_of_recoveries=0, distance_remaining=0.25018319487571716)\n",
      "nav2_msgs.action.NavigateToPose_Feedback(current_pose=geometry_msgs.msg.PoseStamped(header=std_msgs.msg.Header(stamp=builtin_interfaces.msg.Time(sec=51, nanosec=238000000), frame_id='map'), pose=geometry_msgs.msg.Pose(position=geometry_msgs.msg.Point(x=0.45401252833873795, y=-0.9717726816757489, z=0.010726801198519618), orientation=geometry_msgs.msg.Quaternion(x=-0.0016354388069017166, y=0.0014069715197026105, z=-0.35229434580526037, w=0.935886766486574))), navigation_time=builtin_interfaces.msg.Duration(sec=6, nanosec=237000000), estimated_time_remaining=builtin_interfaces.msg.Duration(sec=0, nanosec=0), number_of_recoveries=0, distance_remaining=0.25018319487571716)\n",
      "nav2_msgs.action.NavigateToPose_Feedback(current_pose=geometry_msgs.msg.PoseStamped(header=std_msgs.msg.Header(stamp=builtin_interfaces.msg.Time(sec=51, nanosec=272000000), frame_id='map'), pose=geometry_msgs.msg.Pose(position=geometry_msgs.msg.Point(x=0.4535527586383703, y=-0.9712561535636142, z=0.010597175084730778), orientation=geometry_msgs.msg.Quaternion(x=-0.001588012327157733, y=0.0013242446651702264, z=-0.3441099031830493, w=0.9389271000052495))), navigation_time=builtin_interfaces.msg.Duration(sec=6, nanosec=307000000), estimated_time_remaining=builtin_interfaces.msg.Duration(sec=0, nanosec=0), number_of_recoveries=0, distance_remaining=0.25018319487571716)\n",
      "nav2_msgs.action.NavigateToPose_Feedback(current_pose=geometry_msgs.msg.PoseStamped(header=std_msgs.msg.Header(stamp=builtin_interfaces.msg.Time(sec=51, nanosec=306000000), frame_id='map'), pose=geometry_msgs.msg.Pose(position=geometry_msgs.msg.Point(x=0.45309602516287084, y=-0.97073701771192, z=0.010469593852702425), orientation=geometry_msgs.msg.Quaternion(x=-0.0015439629900357828, y=0.00124233832037132, z=-0.33589793571573257, w=0.9418963050971656))), navigation_time=builtin_interfaces.msg.Duration(sec=6, nanosec=307000000), estimated_time_remaining=builtin_interfaces.msg.Duration(sec=0, nanosec=0), number_of_recoveries=0, distance_remaining=0.25018319487571716)\n"
     ]
    },
    {
     "name": "stdout",
     "output_type": "stream",
     "text": [
      "nav2_msgs.action.NavigateToPose_Feedback(current_pose=geometry_msgs.msg.PoseStamped(header=std_msgs.msg.Header(stamp=builtin_interfaces.msg.Time(sec=51, nanosec=340000000), frame_id='map'), pose=geometry_msgs.msg.Pose(position=geometry_msgs.msg.Point(x=0.4526422776848438, y=-0.9702154209390397, z=0.010317312086011624), orientation=geometry_msgs.msg.Quaternion(x=-0.0015025861414374713, y=0.0011592008262594927, z=-0.3276607928343422, w=0.944793524177374))), navigation_time=builtin_interfaces.msg.Duration(sec=6, nanosec=347000000), estimated_time_remaining=builtin_interfaces.msg.Duration(sec=0, nanosec=0), number_of_recoveries=0, distance_remaining=0.24986419081687927)\n",
      "nav2_msgs.action.NavigateToPose_Feedback(current_pose=geometry_msgs.msg.PoseStamped(header=std_msgs.msg.Header(stamp=builtin_interfaces.msg.Time(sec=51, nanosec=374000000), frame_id='map'), pose=geometry_msgs.msg.Pose(position=geometry_msgs.msg.Point(x=0.45219707727045155, y=-0.9696954460396159, z=0.010188687351548181), orientation=geometry_msgs.msg.Quaternion(x=-0.0014498319582322778, y=0.0010730126999603704, z=-0.32098823030743395, w=0.9470814656802974))), navigation_time=builtin_interfaces.msg.Duration(sec=6, nanosec=380000000), estimated_time_remaining=builtin_interfaces.msg.Duration(sec=0, nanosec=0), number_of_recoveries=0, distance_remaining=0.24986419081687927)\n",
      "nav2_msgs.action.NavigateToPose_Feedback(current_pose=geometry_msgs.msg.PoseStamped(header=std_msgs.msg.Header(stamp=builtin_interfaces.msg.Time(sec=51, nanosec=408000000), frame_id='map'), pose=geometry_msgs.msg.Pose(position=geometry_msgs.msg.Point(x=0.4526765346719701, y=-0.9698675012946306, z=0.010088761932613932), orientation=geometry_msgs.msg.Quaternion(x=-0.001409214266237021, y=0.0009453800945819192, z=-0.3145423573289442, w=0.9492419216498919))), navigation_time=builtin_interfaces.msg.Duration(sec=6, nanosec=432000000), estimated_time_remaining=builtin_interfaces.msg.Duration(sec=0, nanosec=0), number_of_recoveries=0, distance_remaining=0.24986419081687927)\n",
      "nav2_msgs.action.NavigateToPose_Feedback(current_pose=geometry_msgs.msg.PoseStamped(header=std_msgs.msg.Header(stamp=builtin_interfaces.msg.Time(sec=51, nanosec=442000000), frame_id='map'), pose=geometry_msgs.msg.Pose(position=geometry_msgs.msg.Point(x=0.45426022920522047, y=-0.9709028453697511, z=0.010039860375303057), orientation=geometry_msgs.msg.Quaternion(x=-0.001406487646644235, y=0.0008423766601957637, z=-0.3080846837317735, w=0.9513575247213611))), navigation_time=builtin_interfaces.msg.Duration(sec=6, nanosec=449000000), estimated_time_remaining=builtin_interfaces.msg.Duration(sec=23, nanosec=692934375), number_of_recoveries=0, distance_remaining=0.24986419081687927)\n",
      "nav2_msgs.action.NavigateToPose_Feedback(current_pose=geometry_msgs.msg.PoseStamped(header=std_msgs.msg.Header(stamp=builtin_interfaces.msg.Time(sec=51, nanosec=442000000), frame_id='map'), pose=geometry_msgs.msg.Pose(position=geometry_msgs.msg.Point(x=0.45426022920522047, y=-0.9709028453697511, z=0.010039860375303057), orientation=geometry_msgs.msg.Quaternion(x=-0.001406487646644235, y=0.0008423766601957637, z=-0.3080846837317735, w=0.9513575247213611))), navigation_time=builtin_interfaces.msg.Duration(sec=6, nanosec=484000000), estimated_time_remaining=builtin_interfaces.msg.Duration(sec=23, nanosec=692934375), number_of_recoveries=0, distance_remaining=0.24986419081687927)\n",
      "nav2_msgs.action.NavigateToPose_Feedback(current_pose=geometry_msgs.msg.PoseStamped(header=std_msgs.msg.Header(stamp=builtin_interfaces.msg.Time(sec=51, nanosec=476000000), frame_id='map'), pose=geometry_msgs.msg.Pose(position=geometry_msgs.msg.Point(x=0.4561305267302771, y=-0.9722470582657609, z=0.01004620964069658), orientation=geometry_msgs.msg.Quaternion(x=-0.001419291450274033, y=0.0008333575283707395, z=-0.30581110723285404, w=0.9520907823416971))), navigation_time=builtin_interfaces.msg.Duration(sec=6, nanosec=501000000), estimated_time_remaining=builtin_interfaces.msg.Duration(sec=13, nanosec=740167901), number_of_recoveries=0, distance_remaining=0.24986419081687927)\n",
      "nav2_msgs.action.NavigateToPose_Feedback(current_pose=geometry_msgs.msg.PoseStamped(header=std_msgs.msg.Header(stamp=builtin_interfaces.msg.Time(sec=51, nanosec=510000000), frame_id='map'), pose=geometry_msgs.msg.Pose(position=geometry_msgs.msg.Point(x=0.458015197024493, y=-0.9736002559436684, z=0.010057856058018589), orientation=geometry_msgs.msg.Quaternion(x=-0.0013979749601416688, y=0.0008483432365430372, z=-0.30757029583354384, w=0.951523956135961))), navigation_time=builtin_interfaces.msg.Duration(sec=6, nanosec=535000000), estimated_time_remaining=builtin_interfaces.msg.Duration(sec=9, nanosec=658452860), number_of_recoveries=0, distance_remaining=0.24986419081687927)\n",
      "nav2_msgs.action.NavigateToPose_Feedback(current_pose=geometry_msgs.msg.PoseStamped(header=std_msgs.msg.Header(stamp=builtin_interfaces.msg.Time(sec=51, nanosec=544000000), frame_id='map'), pose=geometry_msgs.msg.Pose(position=geometry_msgs.msg.Point(x=0.4592118377341772, y=-0.9744687259060593, z=0.010042280563702955), orientation=geometry_msgs.msg.Quaternion(x=-0.0013625577686645273, y=0.0009083801732536843, z=-0.3103220781845412, w=0.9506300679407397))), navigation_time=builtin_interfaces.msg.Duration(sec=6, nanosec=576000000), estimated_time_remaining=builtin_interfaces.msg.Duration(sec=8, nanosec=114449685), number_of_recoveries=0, distance_remaining=0.24986419081687927)\n",
      "nav2_msgs.action.NavigateToPose_Feedback(current_pose=geometry_msgs.msg.PoseStamped(header=std_msgs.msg.Header(stamp=builtin_interfaces.msg.Time(sec=51, nanosec=578000000), frame_id='map'), pose=geometry_msgs.msg.Pose(position=geometry_msgs.msg.Point(x=0.4596269974801317, y=-0.9747732503657355, z=0.010028684817852835), orientation=geometry_msgs.msg.Quaternion(x=-0.0013242886654548345, y=0.000987485473266606, z=-0.31360813730722764, w=0.9495510556819269))), navigation_time=builtin_interfaces.msg.Duration(sec=6, nanosec=601000000), estimated_time_remaining=builtin_interfaces.msg.Duration(sec=7, nanosec=672652002), number_of_recoveries=0, distance_remaining=0.24986419081687927)\n",
      "nav2_msgs.action.NavigateToPose_Feedback(current_pose=geometry_msgs.msg.PoseStamped(header=std_msgs.msg.Header(stamp=builtin_interfaces.msg.Time(sec=51, nanosec=612000000), frame_id='map'), pose=geometry_msgs.msg.Pose(position=geometry_msgs.msg.Point(x=0.46002727952313416, y=-0.9750690193435348, z=0.00999877782165118), orientation=geometry_msgs.msg.Quaternion(x=-0.0013252304066218056, y=0.00103113720827312, z=-0.31341588787214164, w=0.949614480591858))), navigation_time=builtin_interfaces.msg.Duration(sec=6, nanosec=628000000), estimated_time_remaining=builtin_interfaces.msg.Duration(sec=6, nanosec=660214507), number_of_recoveries=0, distance_remaining=0.2283211648464203)\n",
      "nav2_msgs.action.NavigateToPose_Feedback(current_pose=geometry_msgs.msg.PoseStamped(header=std_msgs.msg.Header(stamp=builtin_interfaces.msg.Time(sec=51, nanosec=612000000), frame_id='map'), pose=geometry_msgs.msg.Pose(position=geometry_msgs.msg.Point(x=0.46002727952313416, y=-0.9750690193435348, z=0.00999877782165118), orientation=geometry_msgs.msg.Quaternion(x=-0.0013252304066218056, y=0.00103113720827312, z=-0.31341588787214164, w=0.949614480591858))), navigation_time=builtin_interfaces.msg.Duration(sec=6, nanosec=628000000), estimated_time_remaining=builtin_interfaces.msg.Duration(sec=6, nanosec=660214507), number_of_recoveries=0, distance_remaining=0.2283211648464203)\n",
      "nav2_msgs.action.NavigateToPose_Feedback(current_pose=geometry_msgs.msg.PoseStamped(header=std_msgs.msg.Header(stamp=builtin_interfaces.msg.Time(sec=51, nanosec=646000000), frame_id='map'), pose=geometry_msgs.msg.Pose(position=geometry_msgs.msg.Point(x=0.4604698937200955, y=-0.9760998857458919, z=0.01000234599207733), orientation=geometry_msgs.msg.Quaternion(x=-0.0013097162937367676, y=0.0009981749346846844, z=-0.3089369428956804, w=0.9510810972805109))), navigation_time=builtin_interfaces.msg.Duration(sec=6, nanosec=649000000), estimated_time_remaining=builtin_interfaces.msg.Duration(sec=6, nanosec=353308516), number_of_recoveries=0, distance_remaining=0.2283211648464203)\n",
      "nav2_msgs.action.NavigateToPose_Feedback(current_pose=geometry_msgs.msg.PoseStamped(header=std_msgs.msg.Header(stamp=builtin_interfaces.msg.Time(sec=51, nanosec=646000000), frame_id='map'), pose=geometry_msgs.msg.Pose(position=geometry_msgs.msg.Point(x=0.4604698937200955, y=-0.9760998857458919, z=0.01000234599207733), orientation=geometry_msgs.msg.Quaternion(x=-0.0013097162937367676, y=0.0009981749346846844, z=-0.3089369428956804, w=0.9510810972805109))), navigation_time=builtin_interfaces.msg.Duration(sec=6, nanosec=672000000), estimated_time_remaining=builtin_interfaces.msg.Duration(sec=6, nanosec=353308516), number_of_recoveries=0, distance_remaining=0.2283211648464203)\n",
      "nav2_msgs.action.NavigateToPose_Feedback(current_pose=geometry_msgs.msg.PoseStamped(header=std_msgs.msg.Header(stamp=builtin_interfaces.msg.Time(sec=51, nanosec=680000000), frame_id='map'), pose=geometry_msgs.msg.Pose(position=geometry_msgs.msg.Point(x=0.46056472932561565, y=-0.9775792510219595, z=0.010032759337527886), orientation=geometry_msgs.msg.Quaternion(x=-0.001249014119783073, y=0.0009012399079569766, z=-0.30295714292533904, w=0.9530029366591021))), navigation_time=builtin_interfaces.msg.Duration(sec=6, nanosec=683000000), estimated_time_remaining=builtin_interfaces.msg.Duration(sec=6, nanosec=355289277), number_of_recoveries=0, distance_remaining=0.2283211648464203)\n"
     ]
    },
    {
     "name": "stdout",
     "output_type": "stream",
     "text": [
      "nav2_msgs.action.NavigateToPose_Feedback(current_pose=geometry_msgs.msg.PoseStamped(header=std_msgs.msg.Header(stamp=builtin_interfaces.msg.Time(sec=51, nanosec=714000000), frame_id='map'), pose=geometry_msgs.msg.Pose(position=geometry_msgs.msg.Point(x=0.4606582784609532, y=-0.9790583814619915, z=0.010058385487894308), orientation=geometry_msgs.msg.Quaternion(x=-0.0011947196013642291, y=0.0007759520770581197, z=-0.2968358593482531, w=0.9549274543903492))), navigation_time=builtin_interfaces.msg.Duration(sec=6, nanosec=703000000), estimated_time_remaining=builtin_interfaces.msg.Duration(sec=7, nanosec=101786745), number_of_recoveries=0, distance_remaining=0.2283211648464203)\n",
      "nav2_msgs.action.NavigateToPose_Feedback(current_pose=geometry_msgs.msg.PoseStamped(header=std_msgs.msg.Header(stamp=builtin_interfaces.msg.Time(sec=51, nanosec=782000000), frame_id='map'), pose=geometry_msgs.msg.Pose(position=geometry_msgs.msg.Point(x=0.46084628472949896, y=-0.9820173894968878, z=0.010094962469311127), orientation=geometry_msgs.msg.Quaternion(x=-0.0010799866548851884, y=0.0005329912550941666, z=-0.2847029876106065, w=0.958615020951968))), navigation_time=builtin_interfaces.msg.Duration(sec=6, nanosec=740000000), estimated_time_remaining=builtin_interfaces.msg.Duration(sec=13, nanosec=453526659), number_of_recoveries=0, distance_remaining=0.2283211648464203)\n",
      "nav2_msgs.action.NavigateToPose_Feedback(current_pose=geometry_msgs.msg.PoseStamped(header=std_msgs.msg.Header(stamp=builtin_interfaces.msg.Time(sec=51, nanosec=816000000), frame_id='map'), pose=geometry_msgs.msg.Pose(position=geometry_msgs.msg.Point(x=0.46094172251270993, y=-0.9834976810119811, z=0.010105997434264843), orientation=geometry_msgs.msg.Quaternion(x=-0.001019079191523285, y=0.00044500843848778253, z=-0.27862744966313147, w=0.9603986191885692))), navigation_time=builtin_interfaces.msg.Duration(sec=6, nanosec=848000000), estimated_time_remaining=builtin_interfaces.msg.Duration(sec=0, nanosec=0), number_of_recoveries=0, distance_remaining=0.2283211648464203)\n",
      "nav2_msgs.action.NavigateToPose_Feedback(current_pose=geometry_msgs.msg.PoseStamped(header=std_msgs.msg.Header(stamp=builtin_interfaces.msg.Time(sec=51, nanosec=884000000), frame_id='map'), pose=geometry_msgs.msg.Pose(position=geometry_msgs.msg.Point(x=0.46094677765768166, y=-0.9840457133173774, z=0.010095268548970155), orientation=geometry_msgs.msg.Quaternion(x=-0.0010509864170637514, y=0.0004845105540269318, z=-0.26657561652858147, w=0.9638133124985775))), navigation_time=builtin_interfaces.msg.Duration(sec=6, nanosec=922000000), estimated_time_remaining=builtin_interfaces.msg.Duration(sec=0, nanosec=0), number_of_recoveries=0, distance_remaining=0.2283211648464203)\n",
      "nav2_msgs.action.NavigateToPose_Feedback(current_pose=geometry_msgs.msg.PoseStamped(header=std_msgs.msg.Header(stamp=builtin_interfaces.msg.Time(sec=51, nanosec=952000000), frame_id='map'), pose=geometry_msgs.msg.Pose(position=geometry_msgs.msg.Point(x=0.46091271827863256, y=-0.9840282253194903, z=0.010075330677182782), orientation=geometry_msgs.msg.Quaternion(x=-0.0010967631938055152, y=0.000562804233294585, z=-0.2561595452618046, w=0.9666337298755704))), navigation_time=builtin_interfaces.msg.Duration(sec=6, nanosec=922000000), estimated_time_remaining=builtin_interfaces.msg.Duration(sec=0, nanosec=0), number_of_recoveries=0, distance_remaining=0.2283211648464203)\n",
      "nav2_msgs.action.NavigateToPose_Feedback(current_pose=geometry_msgs.msg.PoseStamped(header=std_msgs.msg.Header(stamp=builtin_interfaces.msg.Time(sec=51, nanosec=986000000), frame_id='map'), pose=geometry_msgs.msg.Pose(position=geometry_msgs.msg.Point(x=0.4608984524356965, y=-0.9840204781452981, z=0.010054973164871746), orientation=geometry_msgs.msg.Quaternion(x=-0.0011153243942006975, y=0.0005798875005787516, z=-0.2519971665526149, w=0.9677271556753152))), navigation_time=builtin_interfaces.msg.Duration(sec=6, nanosec=994000000), estimated_time_remaining=builtin_interfaces.msg.Duration(sec=0, nanosec=0), number_of_recoveries=0, distance_remaining=0.2283211648464203)\n",
      "nav2_msgs.action.NavigateToPose_Feedback(current_pose=geometry_msgs.msg.PoseStamped(header=std_msgs.msg.Header(stamp=builtin_interfaces.msg.Time(sec=52, nanosec=20000000), frame_id='map'), pose=geometry_msgs.msg.Pose(position=geometry_msgs.msg.Point(x=0.4608828112565906, y=-0.9840132284869911, z=0.010053728241772558), orientation=geometry_msgs.msg.Quaternion(x=-0.001138872067109155, y=0.0005866350595451761, z=-0.24756515482828714, w=0.9688704004894401))), navigation_time=builtin_interfaces.msg.Duration(sec=7, nanosec=43000000), estimated_time_remaining=builtin_interfaces.msg.Duration(sec=0, nanosec=0), number_of_recoveries=0, distance_remaining=0.22833433747291565)\n",
      "nav2_msgs.action.NavigateToPose_Feedback(current_pose=geometry_msgs.msg.PoseStamped(header=std_msgs.msg.Header(stamp=builtin_interfaces.msg.Time(sec=52, nanosec=20000000), frame_id='map'), pose=geometry_msgs.msg.Pose(position=geometry_msgs.msg.Point(x=0.4608828112565906, y=-0.9840132284869911, z=0.010053728241772558), orientation=geometry_msgs.msg.Quaternion(x=-0.001138872067109155, y=0.0005866350595451761, z=-0.24756515482828714, w=0.9688704004894401))), navigation_time=builtin_interfaces.msg.Duration(sec=7, nanosec=69000000), estimated_time_remaining=builtin_interfaces.msg.Duration(sec=0, nanosec=0), number_of_recoveries=0, distance_remaining=0.22833433747291565)\n",
      "nav2_msgs.action.NavigateToPose_Feedback(current_pose=geometry_msgs.msg.PoseStamped(header=std_msgs.msg.Header(stamp=builtin_interfaces.msg.Time(sec=52, nanosec=54000000), frame_id='map'), pose=geometry_msgs.msg.Pose(position=geometry_msgs.msg.Point(x=0.4581794990896375, y=-0.9813319226658799, z=0.010056587783794108), orientation=geometry_msgs.msg.Quaternion(x=-0.0011000331969906218, y=0.0005445969783567323, z=-0.24346179548526548, w=0.9699097109938573))), navigation_time=builtin_interfaces.msg.Duration(sec=7, nanosec=89000000), estimated_time_remaining=builtin_interfaces.msg.Duration(sec=0, nanosec=0), number_of_recoveries=0, distance_remaining=0.22833433747291565)\n",
      "nav2_msgs.action.NavigateToPose_Feedback(current_pose=geometry_msgs.msg.PoseStamped(header=std_msgs.msg.Header(stamp=builtin_interfaces.msg.Time(sec=52, nanosec=88000000), frame_id='map'), pose=geometry_msgs.msg.Pose(position=geometry_msgs.msg.Point(x=0.4543560116735299, y=-0.9775365898055355, z=0.010057557991589802), orientation=geometry_msgs.msg.Quaternion(x=-0.00103717658001142, y=0.00048262138448980526, z=-0.2392953663934466, w=0.9709461462738123))), navigation_time=builtin_interfaces.msg.Duration(sec=7, nanosec=101000000), estimated_time_remaining=builtin_interfaces.msg.Duration(sec=0, nanosec=0), number_of_recoveries=0, distance_remaining=0.22833433747291565)\n",
      "nav2_msgs.action.NavigateToPose_Feedback(current_pose=geometry_msgs.msg.PoseStamped(header=std_msgs.msg.Header(stamp=builtin_interfaces.msg.Time(sec=52, nanosec=122000000), frame_id='map'), pose=geometry_msgs.msg.Pose(position=geometry_msgs.msg.Point(x=0.45053325180367176, y=-0.9737408096731488, z=0.010057763383072793), orientation=geometry_msgs.msg.Quaternion(x=-0.0009794424163894985, y=0.00042507587644479225, z=-0.23519099963919732, w=0.9719485859302267))), navigation_time=builtin_interfaces.msg.Duration(sec=7, nanosec=144000000), estimated_time_remaining=builtin_interfaces.msg.Duration(sec=0, nanosec=0), number_of_recoveries=0, distance_remaining=0.22833433747291565)\n",
      "nav2_msgs.action.NavigateToPose_Feedback(current_pose=geometry_msgs.msg.PoseStamped(header=std_msgs.msg.Header(stamp=builtin_interfaces.msg.Time(sec=52, nanosec=156000000), frame_id='map'), pose=geometry_msgs.msg.Pose(position=geometry_msgs.msg.Point(x=0.4467111238883621, y=-0.9699449271686807, z=0.010063315754648323), orientation=geometry_msgs.msg.Quaternion(x=-0.0009231956746212948, y=0.00037874815598642076, z=-0.2310477059360514, w=0.9729419108257535))), navigation_time=builtin_interfaces.msg.Duration(sec=7, nanosec=176000000), estimated_time_remaining=builtin_interfaces.msg.Duration(sec=0, nanosec=0), number_of_recoveries=0, distance_remaining=0.22833433747291565)\n",
      "nav2_msgs.action.NavigateToPose_Feedback(current_pose=geometry_msgs.msg.PoseStamped(header=std_msgs.msg.Header(stamp=builtin_interfaces.msg.Time(sec=52, nanosec=190000000), frame_id='map'), pose=geometry_msgs.msg.Pose(position=geometry_msgs.msg.Point(x=0.4428895624028464, y=-0.966149018335023, z=0.010072403682335761), orientation=geometry_msgs.msg.Quaternion(x=-0.0008636774572396296, y=0.0003393742245250324, z=-0.22691732666653977, w=0.973913582277656))), navigation_time=builtin_interfaces.msg.Duration(sec=7, nanosec=211000000), estimated_time_remaining=builtin_interfaces.msg.Duration(sec=0, nanosec=0), number_of_recoveries=0, distance_remaining=0.22833433747291565)\n"
     ]
    },
    {
     "name": "stdout",
     "output_type": "stream",
     "text": [
      "nav2_msgs.action.NavigateToPose_Feedback(current_pose=geometry_msgs.msg.PoseStamped(header=std_msgs.msg.Header(stamp=builtin_interfaces.msg.Time(sec=52, nanosec=224000000), frame_id='map'), pose=geometry_msgs.msg.Pose(position=geometry_msgs.msg.Point(x=0.43906832933728857, y=-0.9623531365737229, z=0.010067264963375545), orientation=geometry_msgs.msg.Quaternion(x=-0.0008006554864986359, y=0.0003004117970005078, z=-0.22277491831568397, w=0.9748695320262011))), navigation_time=builtin_interfaces.msg.Duration(sec=7, nanosec=240000000), estimated_time_remaining=builtin_interfaces.msg.Duration(sec=0, nanosec=0), number_of_recoveries=0, distance_remaining=0.22833433747291565)\n",
      "nav2_msgs.action.NavigateToPose_Feedback(current_pose=geometry_msgs.msg.PoseStamped(header=std_msgs.msg.Header(stamp=builtin_interfaces.msg.Time(sec=52, nanosec=258000000), frame_id='map'), pose=geometry_msgs.msg.Pose(position=geometry_msgs.msg.Point(x=0.4383814322871393, y=-0.9616780816210134, z=0.010060504484857954), orientation=geometry_msgs.msg.Quaternion(x=-0.0008049677312843775, y=0.00030608895403027165, z=-0.21846444316913782, w=0.9758445293218088))), navigation_time=builtin_interfaces.msg.Duration(sec=7, nanosec=277000000), estimated_time_remaining=builtin_interfaces.msg.Duration(sec=0, nanosec=0), number_of_recoveries=0, distance_remaining=0.22833433747291565)\n",
      "nav2_msgs.action.NavigateToPose_Feedback(current_pose=geometry_msgs.msg.PoseStamped(header=std_msgs.msg.Header(stamp=builtin_interfaces.msg.Time(sec=52, nanosec=292000000), frame_id='map'), pose=geometry_msgs.msg.Pose(position=geometry_msgs.msg.Point(x=0.43836600448408936, y=-0.9616720609472661, z=0.010044491074019196), orientation=geometry_msgs.msg.Quaternion(x=-0.0008206683921710752, y=0.00031891576416552406, z=-0.2141123920019285, w=0.9768086344762407))), navigation_time=builtin_interfaces.msg.Duration(sec=7, nanosec=329000000), estimated_time_remaining=builtin_interfaces.msg.Duration(sec=0, nanosec=0), number_of_recoveries=0, distance_remaining=0.24973811209201813)\n",
      "nav2_msgs.action.NavigateToPose_Feedback(current_pose=geometry_msgs.msg.PoseStamped(header=std_msgs.msg.Header(stamp=builtin_interfaces.msg.Time(sec=52, nanosec=360000000), frame_id='map'), pose=geometry_msgs.msg.Pose(position=geometry_msgs.msg.Point(x=0.4383347435996763, y=-0.9616597922510931, z=0.01004316525527103), orientation=geometry_msgs.msg.Quaternion(x=-0.0008642257661074976, y=0.00033899096538445814, z=-0.20539651843206946, w=0.9786783988700963))), navigation_time=builtin_interfaces.msg.Duration(sec=7, nanosec=372000000), estimated_time_remaining=builtin_interfaces.msg.Duration(sec=0, nanosec=0), number_of_recoveries=0, distance_remaining=0.24973811209201813)\n",
      "nav2_msgs.action.NavigateToPose_Feedback(current_pose=geometry_msgs.msg.PoseStamped(header=std_msgs.msg.Header(stamp=builtin_interfaces.msg.Time(sec=52, nanosec=394000000), frame_id='map'), pose=geometry_msgs.msg.Pose(position=geometry_msgs.msg.Point(x=0.4383188127474402, y=-0.9616535731765451, z=0.010044908062395459), orientation=geometry_msgs.msg.Quaternion(x=-0.0008916575515117637, y=0.00034265022701771876, z=-0.2010323918120387, w=0.97958412858721))), navigation_time=builtin_interfaces.msg.Duration(sec=7, nanosec=420000000), estimated_time_remaining=builtin_interfaces.msg.Duration(sec=0, nanosec=0), number_of_recoveries=0, distance_remaining=0.24973811209201813)\n",
      "nav2_msgs.action.NavigateToPose_Feedback(current_pose=geometry_msgs.msg.PoseStamped(header=std_msgs.msg.Header(stamp=builtin_interfaces.msg.Time(sec=52, nanosec=462000000), frame_id='map'), pose=geometry_msgs.msg.Pose(position=geometry_msgs.msg.Point(x=0.43828687384005316, y=-0.961641417648243, z=0.010055674753173472), orientation=geometry_msgs.msg.Quaternion(x=-0.0009493761532090658, y=0.0003523195516193293, z=-0.1922923034983521, w=0.9813371717056024))), navigation_time=builtin_interfaces.msg.Duration(sec=7, nanosec=480000000), estimated_time_remaining=builtin_interfaces.msg.Duration(sec=0, nanosec=0), number_of_recoveries=0, distance_remaining=0.24973811209201813)\n",
      "nav2_msgs.action.NavigateToPose_Feedback(current_pose=geometry_msgs.msg.PoseStamped(header=std_msgs.msg.Header(stamp=builtin_interfaces.msg.Time(sec=52, nanosec=496000000), frame_id='map'), pose=geometry_msgs.msg.Pose(position=geometry_msgs.msg.Point(x=0.4382710243202885, y=-0.961635551652077, z=0.010058959470953019), orientation=geometry_msgs.msg.Quaternion(x=-0.000979107985595354, y=0.00036177841830886323, z=-0.18791651735855386, w=0.9821844495652337))), navigation_time=builtin_interfaces.msg.Duration(sec=7, nanosec=516000000), estimated_time_remaining=builtin_interfaces.msg.Duration(sec=0, nanosec=0), number_of_recoveries=0, distance_remaining=0.24973811209201813)\n",
      "nav2_msgs.action.NavigateToPose_Feedback(current_pose=geometry_msgs.msg.PoseStamped(header=std_msgs.msg.Header(stamp=builtin_interfaces.msg.Time(sec=52, nanosec=530000000), frame_id='map'), pose=geometry_msgs.msg.Pose(position=geometry_msgs.msg.Point(x=0.4382551880836423, y=-0.9616299139504026, z=0.010056561443062214), orientation=geometry_msgs.msg.Quaternion(x=-0.0010073889276094447, y=0.0003724110581348788, z=-0.18353698691120002, w=0.9830122180894347))), navigation_time=builtin_interfaces.msg.Duration(sec=7, nanosec=549000000), estimated_time_remaining=builtin_interfaces.msg.Duration(sec=0, nanosec=0), number_of_recoveries=0, distance_remaining=0.24973811209201813)\n",
      "nav2_msgs.action.NavigateToPose_Feedback(current_pose=geometry_msgs.msg.PoseStamped(header=std_msgs.msg.Header(stamp=builtin_interfaces.msg.Time(sec=52, nanosec=564000000), frame_id='map'), pose=geometry_msgs.msg.Pose(position=geometry_msgs.msg.Point(x=0.43823936038831257, y=-0.9616244842170626, z=0.010053522731952227), orientation=geometry_msgs.msg.Quaternion(x=-0.0010342884379049013, y=0.00038468730069509267, z=-0.17915382043765346, w=0.9838204566310362))), navigation_time=builtin_interfaces.msg.Duration(sec=7, nanosec=577000000), estimated_time_remaining=builtin_interfaces.msg.Duration(sec=0, nanosec=0), number_of_recoveries=0, distance_remaining=0.24973811209201813)\n",
      "nav2_msgs.action.NavigateToPose_Feedback(current_pose=geometry_msgs.msg.PoseStamped(header=std_msgs.msg.Header(stamp=builtin_interfaces.msg.Time(sec=52, nanosec=564000000), frame_id='map'), pose=geometry_msgs.msg.Pose(position=geometry_msgs.msg.Point(x=0.43823936038831257, y=-0.9616244842170626, z=0.010053522731952227), orientation=geometry_msgs.msg.Quaternion(x=-0.0010342884379049013, y=0.00038468730069509267, z=-0.17915382043765346, w=0.9838204566310362))), navigation_time=builtin_interfaces.msg.Duration(sec=7, nanosec=604000000), estimated_time_remaining=builtin_interfaces.msg.Duration(sec=0, nanosec=0), number_of_recoveries=0, distance_remaining=0.24973811209201813)\n",
      "nav2_msgs.action.NavigateToPose_Feedback(current_pose=geometry_msgs.msg.PoseStamped(header=std_msgs.msg.Header(stamp=builtin_interfaces.msg.Time(sec=52, nanosec=598000000), frame_id='map'), pose=geometry_msgs.msg.Pose(position=geometry_msgs.msg.Point(x=0.43822344303109384, y=-0.961619286395108, z=0.010055970004896903), orientation=geometry_msgs.msg.Quaternion(x=-0.0010583108039391674, y=0.000397084769361695, z=-0.17476708313514228, w=0.984609155428875))), navigation_time=builtin_interfaces.msg.Duration(sec=7, nanosec=628000000), estimated_time_remaining=builtin_interfaces.msg.Duration(sec=0, nanosec=0), number_of_recoveries=0, distance_remaining=0.24973811209201813)\n",
      "nav2_msgs.action.NavigateToPose_Feedback(current_pose=geometry_msgs.msg.PoseStamped(header=std_msgs.msg.Header(stamp=builtin_interfaces.msg.Time(sec=52, nanosec=632000000), frame_id='map'), pose=geometry_msgs.msg.Pose(position=geometry_msgs.msg.Point(x=0.4382073807977893, y=-0.9616142455218949, z=0.010054911752787155), orientation=geometry_msgs.msg.Quaternion(x=-0.0010817735908844157, y=0.0004066080701426926, z=-0.17037687025557754, w=0.9853782961470632))), navigation_time=builtin_interfaces.msg.Duration(sec=7, nanosec=628000000), estimated_time_remaining=builtin_interfaces.msg.Duration(sec=0, nanosec=0), number_of_recoveries=0, distance_remaining=0.24973811209201813)\n",
      "nav2_msgs.action.NavigateToPose_Feedback(current_pose=geometry_msgs.msg.PoseStamped(header=std_msgs.msg.Header(stamp=builtin_interfaces.msg.Time(sec=52, nanosec=700000000), frame_id='map'), pose=geometry_msgs.msg.Pose(position=geometry_msgs.msg.Point(x=0.4381881261422893, y=-0.9616084575318458, z=0.010058028091392331), orientation=geometry_msgs.msg.Quaternion(x=-0.0011055456433121927, y=0.0004156841722239846, z=-0.16516477235773244, w=0.9862652802099028))), navigation_time=builtin_interfaces.msg.Duration(sec=7, nanosec=701000000), estimated_time_remaining=builtin_interfaces.msg.Duration(sec=0, nanosec=0), number_of_recoveries=0, distance_remaining=0.2776695787906647)\n"
     ]
    },
    {
     "name": "stdout",
     "output_type": "stream",
     "text": [
      "nav2_msgs.action.NavigateToPose_Feedback(current_pose=geometry_msgs.msg.PoseStamped(header=std_msgs.msg.Header(stamp=builtin_interfaces.msg.Time(sec=52, nanosec=734000000), frame_id='map'), pose=geometry_msgs.msg.Pose(position=geometry_msgs.msg.Point(x=0.43817826865319875, y=-0.9616054875560552, z=0.010068054893999371), orientation=geometry_msgs.msg.Quaternion(x=-0.0011261234260833153, y=0.00042475683685298126, z=-0.16240688210845589, w=0.9867231405371361))), navigation_time=builtin_interfaces.msg.Duration(sec=7, nanosec=757000000), estimated_time_remaining=builtin_interfaces.msg.Duration(sec=0, nanosec=0), number_of_recoveries=0, distance_remaining=0.2776695787906647)\n",
      "nav2_msgs.action.NavigateToPose_Feedback(current_pose=geometry_msgs.msg.PoseStamped(header=std_msgs.msg.Header(stamp=builtin_interfaces.msg.Time(sec=52, nanosec=768000000), frame_id='map'), pose=geometry_msgs.msg.Pose(position=geometry_msgs.msg.Point(x=0.43816892052437373, y=-0.9616024667107527, z=0.010041752546645178), orientation=geometry_msgs.msg.Quaternion(x=-0.0011447365372207847, y=0.00043037665327483435, z=-0.15984459029383433, w=0.9871414342980406))), navigation_time=builtin_interfaces.msg.Duration(sec=7, nanosec=771000000), estimated_time_remaining=builtin_interfaces.msg.Duration(sec=0, nanosec=0), number_of_recoveries=0, distance_remaining=0.2776695787906647)\n",
      "nav2_msgs.action.NavigateToPose_Feedback(current_pose=geometry_msgs.msg.PoseStamped(header=std_msgs.msg.Header(stamp=builtin_interfaces.msg.Time(sec=52, nanosec=802000000), frame_id='map'), pose=geometry_msgs.msg.Pose(position=geometry_msgs.msg.Point(x=0.43815932922837497, y=-0.9615996941914152, z=0.010042769376265734), orientation=geometry_msgs.msg.Quaternion(x=-0.0011622302149537625, y=0.0004419999739631598, z=-0.15715989931312116, w=0.9875723871721201))), navigation_time=builtin_interfaces.msg.Duration(sec=7, nanosec=803000000), estimated_time_remaining=builtin_interfaces.msg.Duration(sec=0, nanosec=0), number_of_recoveries=0, distance_remaining=0.2776695787906647)\n",
      "nav2_msgs.action.NavigateToPose_Feedback(current_pose=geometry_msgs.msg.PoseStamped(header=std_msgs.msg.Header(stamp=builtin_interfaces.msg.Time(sec=52, nanosec=836000000), frame_id='map'), pose=geometry_msgs.msg.Pose(position=geometry_msgs.msg.Point(x=0.4377402668688961, y=-0.9617611246560468, z=0.010056215685276943), orientation=geometry_msgs.msg.Quaternion(x=-0.0011573278077548544, y=0.0004402918668875755, z=-0.15482821447239245, w=0.9879406311812001))), navigation_time=builtin_interfaces.msg.Duration(sec=7, nanosec=836000000), estimated_time_remaining=builtin_interfaces.msg.Duration(sec=0, nanosec=0), number_of_recoveries=0, distance_remaining=0.2776695787906647)\n",
      "nav2_msgs.action.NavigateToPose_Feedback(current_pose=geometry_msgs.msg.PoseStamped(header=std_msgs.msg.Header(stamp=builtin_interfaces.msg.Time(sec=52, nanosec=870000000), frame_id='map'), pose=geometry_msgs.msg.Pose(position=geometry_msgs.msg.Point(x=0.4357489647856432, y=-0.962549147646391, z=0.01005064846834804), orientation=geometry_msgs.msg.Quaternion(x=-0.0010689299990660284, y=0.00039063155809495703, z=-0.153564580058179, w=0.988137958256436))), navigation_time=builtin_interfaces.msg.Duration(sec=7, nanosec=867000000), estimated_time_remaining=builtin_interfaces.msg.Duration(sec=0, nanosec=0), number_of_recoveries=0, distance_remaining=0.2776695787906647)\n",
      "nav2_msgs.action.NavigateToPose_Feedback(current_pose=geometry_msgs.msg.PoseStamped(header=std_msgs.msg.Header(stamp=builtin_interfaces.msg.Time(sec=52, nanosec=904000000), frame_id='map'), pose=geometry_msgs.msg.Pose(position=geometry_msgs.msg.Point(x=0.43376989353616313, y=-0.963325204838273, z=0.010046703271506195), orientation=geometry_msgs.msg.Quaternion(x=-0.000980884758234528, y=0.00033727382349689483, z=-0.1523180919336945, w=0.9883309784587032))), navigation_time=builtin_interfaces.msg.Duration(sec=7, nanosec=902000000), estimated_time_remaining=builtin_interfaces.msg.Duration(sec=0, nanosec=0), number_of_recoveries=0, distance_remaining=0.2776695787906647)\n",
      "nav2_msgs.action.NavigateToPose_Feedback(current_pose=geometry_msgs.msg.PoseStamped(header=std_msgs.msg.Header(stamp=builtin_interfaces.msg.Time(sec=52, nanosec=938000000), frame_id='map'), pose=geometry_msgs.msg.Pose(position=geometry_msgs.msg.Point(x=0.43180313688275174, y=-0.9640893127669851, z=0.010048217043273792), orientation=geometry_msgs.msg.Quaternion(x=-0.0008943745270816034, y=0.0002836024138401206, z=-0.1510633373245457, w=0.988523640476163))), navigation_time=builtin_interfaces.msg.Duration(sec=7, nanosec=939000000), estimated_time_remaining=builtin_interfaces.msg.Duration(sec=0, nanosec=0), number_of_recoveries=0, distance_remaining=0.2776695787906647)\n",
      "nav2_msgs.action.NavigateToPose_Feedback(current_pose=geometry_msgs.msg.PoseStamped(header=std_msgs.msg.Header(stamp=builtin_interfaces.msg.Time(sec=53, nanosec=40000000), frame_id='map'), pose=geometry_msgs.msg.Pose(position=geometry_msgs.msg.Point(x=0.42659776859918597, y=-0.9660751386813521, z=0.010014285264655602), orientation=geometry_msgs.msg.Quaternion(x=-0.0006799019735914034, y=0.00015058833746791305, z=-0.14685549153854863, w=0.9891577122286568))), navigation_time=builtin_interfaces.msg.Duration(sec=7, nanosec=993000000), estimated_time_remaining=builtin_interfaces.msg.Duration(sec=0, nanosec=0), number_of_recoveries=0, distance_remaining=0.2776695787906647)\n",
      "nav2_msgs.action.NavigateToPose_Feedback(current_pose=geometry_msgs.msg.PoseStamped(header=std_msgs.msg.Header(stamp=builtin_interfaces.msg.Time(sec=53, nanosec=74000000), frame_id='map'), pose=geometry_msgs.msg.Pose(position=geometry_msgs.msg.Point(x=0.4265880697555604, y=-0.9660726087017094, z=0.010009186647557866), orientation=geometry_msgs.msg.Quaternion(x=-0.0006961666123765448, y=0.00015610384873912308, z=-0.1442097145715856, w=0.9895468908580421))), navigation_time=builtin_interfaces.msg.Duration(sec=8, nanosec=66000000), estimated_time_remaining=builtin_interfaces.msg.Duration(sec=0, nanosec=0), number_of_recoveries=0, distance_remaining=0.2776695787906647)\n",
      "nav2_msgs.action.NavigateToPose_Feedback(current_pose=geometry_msgs.msg.PoseStamped(header=std_msgs.msg.Header(stamp=builtin_interfaces.msg.Time(sec=53, nanosec=108000000), frame_id='map'), pose=geometry_msgs.msg.Pose(position=geometry_msgs.msg.Point(x=0.42657829299901384, y=-0.9660701826763157, z=0.01000760676614183), orientation=geometry_msgs.msg.Quaternion(x=-0.0007107700522901197, y=0.00016068981283126675, z=-0.14156289967771982, w=0.989928994635248))), navigation_time=builtin_interfaces.msg.Duration(sec=8, nanosec=125000000), estimated_time_remaining=builtin_interfaces.msg.Duration(sec=0, nanosec=0), number_of_recoveries=0, distance_remaining=0.2776695787906647)\n",
      "nav2_msgs.action.NavigateToPose_Feedback(current_pose=geometry_msgs.msg.PoseStamped(header=std_msgs.msg.Header(stamp=builtin_interfaces.msg.Time(sec=53, nanosec=176000000), frame_id='map'), pose=geometry_msgs.msg.Pose(position=geometry_msgs.msg.Point(x=0.42655863817248396, y=-0.966065499814947, z=0.010004735058750712), orientation=geometry_msgs.msg.Quaternion(x=-0.000739448746558003, y=0.00016834649399796378, z=-0.13626627010556358, w=0.9906719580701407))), navigation_time=builtin_interfaces.msg.Duration(sec=8, nanosec=160000000), estimated_time_remaining=builtin_interfaces.msg.Duration(sec=0, nanosec=0), number_of_recoveries=0, distance_remaining=0.2776695787906647)\n",
      "nav2_msgs.action.NavigateToPose_Feedback(current_pose=geometry_msgs.msg.PoseStamped(header=std_msgs.msg.Header(stamp=builtin_interfaces.msg.Time(sec=53, nanosec=244000000), frame_id='map'), pose=geometry_msgs.msg.Pose(position=geometry_msgs.msg.Point(x=0.42653898128658807, y=-0.9660607678984993, z=0.01001191727266703), orientation=geometry_msgs.msg.Quaternion(x=-0.0007741499089939038, y=0.00017761728922320648, z=-0.13096578355022997, w=0.9913865707599088))), navigation_time=builtin_interfaces.msg.Duration(sec=8, nanosec=223000000), estimated_time_remaining=builtin_interfaces.msg.Duration(sec=0, nanosec=0), number_of_recoveries=0, distance_remaining=0.2776695787906647)\n",
      "nav2_msgs.action.NavigateToPose_Feedback(current_pose=geometry_msgs.msg.PoseStamped(header=std_msgs.msg.Header(stamp=builtin_interfaces.msg.Time(sec=53, nanosec=278000000), frame_id='map'), pose=geometry_msgs.msg.Pose(position=geometry_msgs.msg.Point(x=0.4265291699783125, y=-0.9660584562389819, z=0.010016074359537665), orientation=geometry_msgs.msg.Quaternion(x=-0.0007922197994537041, y=0.00018315386870563705, z=-0.1283141346333883, w=0.9917332411973163))), navigation_time=builtin_interfaces.msg.Duration(sec=8, nanosec=275000000), estimated_time_remaining=builtin_interfaces.msg.Duration(sec=0, nanosec=0), number_of_recoveries=0, distance_remaining=0.2776695787906647)\n",
      "nav2_msgs.action.NavigateToPose_Feedback(current_pose=geometry_msgs.msg.PoseStamped(header=std_msgs.msg.Header(stamp=builtin_interfaces.msg.Time(sec=53, nanosec=312000000), frame_id='map'), pose=geometry_msgs.msg.Pose(position=geometry_msgs.msg.Point(x=0.42651928945398554, y=-0.9660562981517378, z=0.01001327631080901), orientation=geometry_msgs.msg.Quaternion(x=-0.0008080184027731435, y=0.00018656674587365016, z=-0.12566154360677367, w=0.9920728243216187))), navigation_time=builtin_interfaces.msg.Duration(sec=8, nanosec=325000000), estimated_time_remaining=builtin_interfaces.msg.Duration(sec=0, nanosec=0), number_of_recoveries=0, distance_remaining=0.2776695787906647)\n"
     ]
    },
    {
     "name": "stdout",
     "output_type": "stream",
     "text": [
      "nav2_msgs.action.NavigateToPose_Feedback(current_pose=geometry_msgs.msg.PoseStamped(header=std_msgs.msg.Header(stamp=builtin_interfaces.msg.Time(sec=53, nanosec=380000000), frame_id='map'), pose=geometry_msgs.msg.Pose(position=geometry_msgs.msg.Point(x=0.42649962092120686, y=-0.9660522020232752, z=0.010023014666772315), orientation=geometry_msgs.msg.Quaternion(x=-0.0008376557929960278, y=0.00019905666960625816, z=-0.12035368849990807, w=0.9927307028462863))), navigation_time=builtin_interfaces.msg.Duration(sec=8, nanosec=361000000), estimated_time_remaining=builtin_interfaces.msg.Duration(sec=0, nanosec=0), number_of_recoveries=0, distance_remaining=0.2776695787906647)\n",
      "nav2_msgs.action.NavigateToPose_Feedback(current_pose=geometry_msgs.msg.PoseStamped(header=std_msgs.msg.Header(stamp=builtin_interfaces.msg.Time(sec=53, nanosec=414000000), frame_id='map'), pose=geometry_msgs.msg.Pose(position=geometry_msgs.msg.Point(x=0.42648989045100616, y=-0.9660503312200991, z=0.010002136665382022), orientation=geometry_msgs.msg.Quaternion(x=-0.0008521014283252675, y=0.00020453968316977734, z=-0.1176984589323022, w=0.9930489941848967))), navigation_time=builtin_interfaces.msg.Duration(sec=8, nanosec=447000000), estimated_time_remaining=builtin_interfaces.msg.Duration(sec=0, nanosec=0), number_of_recoveries=0, distance_remaining=0.2776695787906647)\n",
      "nav2_msgs.action.NavigateToPose_Feedback(current_pose=geometry_msgs.msg.PoseStamped(header=std_msgs.msg.Header(stamp=builtin_interfaces.msg.Time(sec=53, nanosec=448000000), frame_id='map'), pose=geometry_msgs.msg.Pose(position=geometry_msgs.msg.Point(x=0.4264800598142138, y=-0.9660484222588598, z=0.01002650548628291), orientation=geometry_msgs.msg.Quaternion(x=-0.000865846991770024, y=0.0002142014361004535, z=-0.11504238810794298, w=0.9933601830983328))), navigation_time=builtin_interfaces.msg.Duration(sec=8, nanosec=471000000), estimated_time_remaining=builtin_interfaces.msg.Duration(sec=0, nanosec=0), number_of_recoveries=0, distance_remaining=0.2776695787906647)\n",
      "nav2_msgs.action.NavigateToPose_Feedback(current_pose=geometry_msgs.msg.PoseStamped(header=std_msgs.msg.Header(stamp=builtin_interfaces.msg.Time(sec=53, nanosec=482000000), frame_id='map'), pose=geometry_msgs.msg.Pose(position=geometry_msgs.msg.Point(x=0.4264701119148102, y=-0.966046516398423, z=0.010026427248395508), orientation=geometry_msgs.msg.Quaternion(x=-0.0008819522232330404, y=0.00021754837466366213, z=-0.11238549615151168, w=0.9936642667862013))), navigation_time=builtin_interfaces.msg.Duration(sec=8, nanosec=513000000), estimated_time_remaining=builtin_interfaces.msg.Duration(sec=0, nanosec=0), number_of_recoveries=0, distance_remaining=0.2776695787906647)\n",
      "nav2_msgs.action.NavigateToPose_Feedback(current_pose=geometry_msgs.msg.PoseStamped(header=std_msgs.msg.Header(stamp=builtin_interfaces.msg.Time(sec=53, nanosec=516000000), frame_id='map'), pose=geometry_msgs.msg.Pose(position=geometry_msgs.msg.Point(x=0.4264600775370775, y=-0.9660446342822463, z=0.010026677112040134), orientation=geometry_msgs.msg.Quaternion(x=-0.0008986170977854088, y=0.00021890213199456568, z=-0.10972780408535551, w=0.9939612434998529))), navigation_time=builtin_interfaces.msg.Duration(sec=8, nanosec=513000000), estimated_time_remaining=builtin_interfaces.msg.Duration(sec=0, nanosec=0), number_of_recoveries=0, distance_remaining=0.24935171008110046)\n",
      "Goal succeeded!\n"
     ]
    }
   ],
   "source": [
    "navigator.waitUntilNav2Active()\n",
    "\n",
    "# If desired, you can change or load the map as well\n",
    "# navigator.changeMap('/path/to/map.yaml')\n",
    "\n",
    "# You may use the navigator to clear or obtain costmaps\n",
    "# navigator.clearAllCostmaps()  # also have clearLocalCostmap() and clearGlobalCostmap()\n",
    "# global_costmap = navigator.getGlobalCostmap()\n",
    "# local_costmap = navigator.getLocalCostmap()\n",
    "\n",
    "# Go to our demos first goal pose\n",
    "goal_pose = PoseStamped()\n",
    "goal_pose.header.frame_id = 'map'\n",
    "goal_pose.header.stamp = navigator.get_clock().now().to_msg()\n",
    "goal_pose.pose.position.x = 0.5\n",
    "goal_pose.pose.position.y = -1.2\n",
    "goal_pose.pose.orientation.w = 1.0\n",
    "\n",
    "# sanity check a valid path exists\n",
    "# path = navigator.getPath(initial_pose, goal_pose)\n",
    "\n",
    "navigator.goToPose(goal_pose)\n",
    "\n",
    "i = 0\n",
    "while not navigator.isTaskComplete():\n",
    "    ################################################\n",
    "    #\n",
    "    # Implement some code here for your application!\n",
    "    #\n",
    "    ################################################\n",
    "\n",
    "    # Do something with the feedback\n",
    "    i = i + 1\n",
    "    feedback = navigator.getFeedback()\n",
    "    print(feedback)\n",
    "\n",
    "# Do something depending on the return code\n",
    "result = navigator.getResult()\n",
    "if result == TaskResult.SUCCEEDED:\n",
    "    print('Goal succeeded!')\n",
    "elif result == TaskResult.CANCELED:\n",
    "    print('Goal was canceled!')\n",
    "elif result == TaskResult.FAILED:\n",
    "    print('Goal failed!')\n",
    "else:\n",
    "    print('Goal has an invalid return status!')\n"
   ]
  },
  {
   "cell_type": "code",
   "execution_count": null,
   "id": "a1fd1c9b",
   "metadata": {},
   "outputs": [],
   "source": [
    "# Excercise: postaraj się przemieścić robocika na tył za pomocą navigatora\n",
    "# podpowiedź, współrzędne punktu możesz odczytać wykorzystując publish point\n",
    "#(pojawiają się wtedy w lewym dolnym rogu)\n",
    "# kąt obrotu jest w radianach, roboczo jeden radian to okolo 60 stopni\n"
   ]
  },
  {
   "cell_type": "markdown",
   "id": "ce3c0ae7",
   "metadata": {},
   "source": [
    "# Robocikowi możemy też serię punktów do pokonania"
   ]
  },
  {
   "cell_type": "code",
   "execution_count": 16,
   "id": "cabf1917",
   "metadata": {},
   "outputs": [
    {
     "name": "stderr",
     "output_type": "stream",
     "text": [
      "[INFO] [1687879012.297523788] [basic_navigator]: Navigating with 3 goals....\n"
     ]
    },
    {
     "name": "stdout",
     "output_type": "stream",
     "text": [
      "Estimated time to complete current route: 0 seconds.\n",
      "Estimated time to complete current route: 0 seconds.\n",
      "Estimated time to complete current route: 0 seconds.\n",
      "Estimated time to complete current route: 0 seconds.\n",
      "Estimated time to complete current route: 0 seconds.\n",
      "Estimated time to complete current route: 0 seconds.\n",
      "Estimated time to complete current route: 0 seconds.\n",
      "Estimated time to complete current route: 0 seconds.\n",
      "Estimated time to complete current route: 0 seconds.\n",
      "Estimated time to complete current route: 0 seconds.\n",
      "Estimated time to complete current route: 630 seconds.\n",
      "Estimated time to complete current route: 431 seconds.\n",
      "Estimated time to complete current route: 374 seconds.\n",
      "Estimated time to complete current route: 313 seconds.\n",
      "Estimated time to complete current route: 270 seconds.\n",
      "Estimated time to complete current route: 248 seconds.\n",
      "Estimated time to complete current route: 222 seconds.\n",
      "Estimated time to complete current route: 188 seconds.\n",
      "Estimated time to complete current route: 172 seconds.\n",
      "Estimated time to complete current route: 158 seconds.\n",
      "Estimated time to complete current route: 142 seconds.\n",
      "Estimated time to complete current route: 131 seconds.\n",
      "Estimated time to complete current route: 104 seconds.\n",
      "Estimated time to complete current route: 96 seconds.\n",
      "Estimated time to complete current route: 91 seconds.\n",
      "Estimated time to complete current route: 88 seconds.\n",
      "Estimated time to complete current route: 82 seconds.\n",
      "Estimated time to complete current route: 79 seconds.\n",
      "Estimated time to complete current route: 78 seconds.\n",
      "Estimated time to complete current route: 74 seconds.\n",
      "Estimated time to complete current route: 72 seconds.\n",
      "Estimated time to complete current route: 69 seconds.\n",
      "Estimated time to complete current route: 67 seconds.\n",
      "Estimated time to complete current route: 63 seconds.\n",
      "Estimated time to complete current route: 61 seconds.\n",
      "Estimated time to complete current route: 61 seconds.\n",
      "Estimated time to complete current route: 61 seconds.\n",
      "Estimated time to complete current route: 62 seconds.\n",
      "Estimated time to complete current route: 62 seconds.\n",
      "Estimated time to complete current route: 65 seconds.\n",
      "Estimated time to complete current route: 66 seconds.\n",
      "Estimated time to complete current route: 66 seconds.\n",
      "Estimated time to complete current route: 67 seconds.\n",
      "Estimated time to complete current route: 68 seconds.\n",
      "Estimated time to complete current route: 68 seconds.\n",
      "Estimated time to complete current route: 67 seconds.\n",
      "Estimated time to complete current route: 68 seconds.\n",
      "Estimated time to complete current route: 68 seconds.\n",
      "Estimated time to complete current route: 69 seconds.\n",
      "Estimated time to complete current route: 70 seconds.\n",
      "Estimated time to complete current route: 70 seconds.\n",
      "Estimated time to complete current route: 69 seconds.\n",
      "Estimated time to complete current route: 68 seconds.\n",
      "Estimated time to complete current route: 66 seconds.\n",
      "Estimated time to complete current route: 65 seconds.\n",
      "Estimated time to complete current route: 63 seconds.\n",
      "Estimated time to complete current route: 61 seconds.\n",
      "Estimated time to complete current route: 60 seconds.\n",
      "Estimated time to complete current route: 59 seconds.\n",
      "Estimated time to complete current route: 58 seconds.\n",
      "Estimated time to complete current route: 55 seconds.\n",
      "Estimated time to complete current route: 53 seconds.\n",
      "Estimated time to complete current route: 49 seconds.\n",
      "Estimated time to complete current route: 47 seconds.\n",
      "Estimated time to complete current route: 45 seconds.\n",
      "Estimated time to complete current route: 44 seconds.\n",
      "Estimated time to complete current route: 44 seconds.\n",
      "Estimated time to complete current route: 42 seconds.\n",
      "Estimated time to complete current route: 45 seconds.\n",
      "Estimated time to complete current route: 44 seconds.\n",
      "Estimated time to complete current route: 43 seconds.\n",
      "Estimated time to complete current route: 42 seconds.\n",
      "Estimated time to complete current route: 41 seconds.\n",
      "Estimated time to complete current route: 40 seconds.\n",
      "Estimated time to complete current route: 38 seconds.\n",
      "Estimated time to complete current route: 37 seconds.\n",
      "Estimated time to complete current route: 37 seconds.\n",
      "Estimated time to complete current route: 36 seconds.\n",
      "Estimated time to complete current route: 35 seconds.\n",
      "Estimated time to complete current route: 34 seconds.\n",
      "Estimated time to complete current route: 34 seconds.\n",
      "Estimated time to complete current route: 33 seconds.\n",
      "Estimated time to complete current route: 32 seconds.\n",
      "Estimated time to complete current route: 31 seconds.\n",
      "Estimated time to complete current route: 31 seconds.\n",
      "Estimated time to complete current route: 30 seconds.\n",
      "Estimated time to complete current route: 30 seconds.\n",
      "Estimated time to complete current route: 29 seconds.\n",
      "Estimated time to complete current route: 29 seconds.\n",
      "Estimated time to complete current route: 28 seconds.\n",
      "Estimated time to complete current route: 28 seconds.\n",
      "Estimated time to complete current route: 27 seconds.\n",
      "Estimated time to complete current route: 26 seconds.\n",
      "Estimated time to complete current route: 25 seconds.\n",
      "Estimated time to complete current route: 24 seconds.\n",
      "Estimated time to complete current route: 23 seconds.\n",
      "Estimated time to complete current route: 22 seconds.\n",
      "Estimated time to complete current route: 22 seconds.\n",
      "Estimated time to complete current route: 21 seconds.\n",
      "Estimated time to complete current route: 21 seconds.\n",
      "Estimated time to complete current route: 21 seconds.\n",
      "Estimated time to complete current route: 20 seconds.\n",
      "Estimated time to complete current route: 19 seconds.\n",
      "Estimated time to complete current route: 19 seconds.\n",
      "Estimated time to complete current route: 18 seconds.\n",
      "Estimated time to complete current route: 18 seconds.\n",
      "Estimated time to complete current route: 17 seconds.\n",
      "Estimated time to complete current route: 17 seconds.\n",
      "Estimated time to complete current route: 17 seconds.\n",
      "Estimated time to complete current route: 17 seconds.\n",
      "Estimated time to complete current route: 16 seconds.\n",
      "Estimated time to complete current route: 16 seconds.\n",
      "Estimated time to complete current route: 16 seconds.\n",
      "Estimated time to complete current route: 8 seconds.\n",
      "Estimated time to complete current route: 8 seconds.\n",
      "Estimated time to complete current route: 8 seconds.\n",
      "Estimated time to complete current route: 8 seconds.\n",
      "Estimated time to complete current route: 7 seconds.\n",
      "Estimated time to complete current route: 7 seconds.\n",
      "Estimated time to complete current route: 6 seconds.\n",
      "Estimated time to complete current route: 6 seconds.\n",
      "Estimated time to complete current route: 5 seconds.\n",
      "Estimated time to complete current route: 5 seconds.\n",
      "Estimated time to complete current route: 4 seconds.\n",
      "Estimated time to complete current route: 4 seconds.\n",
      "Estimated time to complete current route: 4 seconds.\n",
      "Estimated time to complete current route: 4 seconds.\n",
      "Estimated time to complete current route: 4 seconds.\n",
      "Estimated time to complete current route: 3 seconds.\n",
      "Estimated time to complete current route: 3 seconds.\n",
      "Estimated time to complete current route: 3 seconds.\n",
      "Estimated time to complete current route: 3 seconds.\n",
      "Estimated time to complete current route: 2 seconds.\n",
      "Estimated time to complete current route: 2 seconds.\n",
      "Estimated time to complete current route: 2 seconds.\n",
      "Estimated time to complete current route: 2 seconds.\n",
      "Estimated time to complete current route: 2 seconds.\n",
      "Estimated time to complete current route: 2 seconds.\n",
      "Estimated time to complete current route: 2 seconds.\n",
      "Estimated time to complete current route: 2 seconds.\n",
      "Estimated time to complete current route: 2 seconds.\n",
      "Estimated time to complete current route: 2 seconds.\n",
      "Estimated time to complete current route: 2 seconds.\n",
      "Estimated time to complete current route: 2 seconds.\n",
      "Estimated time to complete current route: 2 seconds.\n",
      "Estimated time to complete current route: 2 seconds.\n",
      "Estimated time to complete current route: 2 seconds.\n",
      "Estimated time to complete current route: 2 seconds.\n",
      "Estimated time to complete current route: 2 seconds.\n",
      "Estimated time to complete current route: 2 seconds.\n",
      "Estimated time to complete current route: 2 seconds.\n",
      "Estimated time to complete current route: 2 seconds.\n",
      "Estimated time to complete current route: 2 seconds.\n"
     ]
    },
    {
     "name": "stdout",
     "output_type": "stream",
     "text": [
      "Estimated time to complete current route: 2 seconds.\n",
      "Estimated time to complete current route: 2 seconds.\n",
      "Estimated time to complete current route: 2 seconds.\n",
      "Estimated time to complete current route: 2 seconds.\n",
      "Estimated time to complete current route: 2 seconds.\n",
      "Estimated time to complete current route: 2 seconds.\n",
      "Estimated time to complete current route: 5 seconds.\n",
      "Estimated time to complete current route: 5 seconds.\n",
      "Estimated time to complete current route: 5 seconds.\n",
      "Estimated time to complete current route: 5 seconds.\n",
      "Estimated time to complete current route: 5 seconds.\n",
      "Estimated time to complete current route: 5 seconds.\n",
      "Estimated time to complete current route: 5 seconds.\n",
      "Estimated time to complete current route: 5 seconds.\n",
      "Estimated time to complete current route: 5 seconds.\n",
      "Estimated time to complete current route: 5 seconds.\n",
      "Estimated time to complete current route: 2 seconds.\n",
      "Estimated time to complete current route: 2 seconds.\n",
      "Estimated time to complete current route: 2 seconds.\n",
      "Estimated time to complete current route: 2 seconds.\n",
      "Estimated time to complete current route: 2 seconds.\n",
      "Estimated time to complete current route: 2 seconds.\n",
      "Estimated time to complete current route: 2 seconds.\n",
      "Estimated time to complete current route: 2 seconds.\n",
      "Estimated time to complete current route: 2 seconds.\n",
      "Estimated time to complete current route: 2 seconds.\n",
      "Estimated time to complete current route: 2 seconds.\n",
      "Estimated time to complete current route: 2 seconds.\n",
      "Estimated time to complete current route: 2 seconds.\n",
      "Estimated time to complete current route: 2 seconds.\n",
      "Estimated time to complete current route: 2 seconds.\n",
      "Estimated time to complete current route: 2 seconds.\n",
      "Estimated time to complete current route: 2 seconds.\n",
      "Estimated time to complete current route: 2 seconds.\n",
      "Estimated time to complete current route: 2 seconds.\n",
      "Estimated time to complete current route: 2 seconds.\n",
      "Estimated time to complete current route: 2 seconds.\n",
      "Estimated time to complete current route: 2 seconds.\n",
      "Estimated time to complete current route: 5 seconds.\n",
      "Estimated time to complete current route: 5 seconds.\n",
      "Estimated time to complete current route: 5 seconds.\n",
      "Estimated time to complete current route: 5 seconds.\n",
      "Estimated time to complete current route: 5 seconds.\n",
      "Estimated time to complete current route: 5 seconds.\n",
      "Estimated time to complete current route: 2 seconds.\n",
      "Estimated time to complete current route: 2 seconds.\n",
      "Estimated time to complete current route: 2 seconds.\n",
      "Estimated time to complete current route: 2 seconds.\n",
      "Estimated time to complete current route: 2 seconds.\n",
      "Estimated time to complete current route: 5 seconds.\n",
      "Estimated time to complete current route: 5 seconds.\n",
      "Estimated time to complete current route: 5 seconds.\n",
      "Estimated time to complete current route: 5 seconds.\n",
      "Estimated time to complete current route: 5 seconds.\n",
      "Estimated time to complete current route: 6 seconds.\n",
      "Estimated time to complete current route: 6 seconds.\n",
      "Estimated time to complete current route: 6 seconds.\n",
      "Estimated time to complete current route: 6 seconds.\n",
      "Estimated time to complete current route: 6 seconds.\n",
      "Estimated time to complete current route: 6 seconds.\n",
      "Estimated time to complete current route: 6 seconds.\n"
     ]
    },
    {
     "ename": "KeyboardInterrupt",
     "evalue": "",
     "output_type": "error",
     "traceback": [
      "\u001b[0;31m---------------------------------------------------------------------------\u001b[0m",
      "\u001b[0;31mKeyboardInterrupt\u001b[0m                         Traceback (most recent call last)",
      "Cell \u001b[0;32mIn[16], line 27\u001b[0m\n\u001b[1;32m     25\u001b[0m navigator\u001b[38;5;241m.\u001b[39mgoThroughPoses(goal_poses)\n\u001b[1;32m     26\u001b[0m i \u001b[38;5;241m=\u001b[39m \u001b[38;5;241m0\u001b[39m\n\u001b[0;32m---> 27\u001b[0m \u001b[38;5;28;01mwhile\u001b[39;00m \u001b[38;5;129;01mnot\u001b[39;00m \u001b[43mnavigator\u001b[49m\u001b[38;5;241;43m.\u001b[39;49m\u001b[43misTaskComplete\u001b[49m\u001b[43m(\u001b[49m\u001b[43m)\u001b[49m:\n\u001b[1;32m     28\u001b[0m             i \u001b[38;5;241m+\u001b[39m\u001b[38;5;241m=\u001b[39m \u001b[38;5;241m1\u001b[39m\n\u001b[1;32m     29\u001b[0m             feedback \u001b[38;5;241m=\u001b[39m navigator\u001b[38;5;241m.\u001b[39mgetFeedback()\n",
      "File \u001b[0;32m~/turtlebot3_ws/build/nav2_simple_commander/nav2_simple_commander/robot_navigator.py:283\u001b[0m, in \u001b[0;36mBasicNavigator.isTaskComplete\u001b[0;34m(self)\u001b[0m\n\u001b[1;32m    280\u001b[0m \u001b[38;5;28;01mif\u001b[39;00m \u001b[38;5;129;01mnot\u001b[39;00m \u001b[38;5;28mself\u001b[39m\u001b[38;5;241m.\u001b[39mresult_future:\n\u001b[1;32m    281\u001b[0m     \u001b[38;5;66;03m# task was cancelled or completed\u001b[39;00m\n\u001b[1;32m    282\u001b[0m     \u001b[38;5;28;01mreturn\u001b[39;00m \u001b[38;5;28;01mTrue\u001b[39;00m\n\u001b[0;32m--> 283\u001b[0m \u001b[43mrclpy\u001b[49m\u001b[38;5;241;43m.\u001b[39;49m\u001b[43mspin_until_future_complete\u001b[49m\u001b[43m(\u001b[49m\u001b[38;5;28;43mself\u001b[39;49m\u001b[43m,\u001b[49m\u001b[43m \u001b[49m\u001b[38;5;28;43mself\u001b[39;49m\u001b[38;5;241;43m.\u001b[39;49m\u001b[43mresult_future\u001b[49m\u001b[43m,\u001b[49m\u001b[43m \u001b[49m\u001b[43mtimeout_sec\u001b[49m\u001b[38;5;241;43m=\u001b[39;49m\u001b[38;5;241;43m0.10\u001b[39;49m\u001b[43m)\u001b[49m\n\u001b[1;32m    284\u001b[0m \u001b[38;5;28;01mif\u001b[39;00m \u001b[38;5;28mself\u001b[39m\u001b[38;5;241m.\u001b[39mresult_future\u001b[38;5;241m.\u001b[39mresult():\n\u001b[1;32m    285\u001b[0m     \u001b[38;5;28mself\u001b[39m\u001b[38;5;241m.\u001b[39mstatus \u001b[38;5;241m=\u001b[39m \u001b[38;5;28mself\u001b[39m\u001b[38;5;241m.\u001b[39mresult_future\u001b[38;5;241m.\u001b[39mresult()\u001b[38;5;241m.\u001b[39mstatus\n",
      "File \u001b[0;32m/opt/ros/humble/local/lib/python3.10/dist-packages/rclpy/__init__.py:248\u001b[0m, in \u001b[0;36mspin_until_future_complete\u001b[0;34m(node, future, executor, timeout_sec)\u001b[0m\n\u001b[1;32m    246\u001b[0m \u001b[38;5;28;01mtry\u001b[39;00m:\n\u001b[1;32m    247\u001b[0m     executor\u001b[38;5;241m.\u001b[39madd_node(node)\n\u001b[0;32m--> 248\u001b[0m     \u001b[43mexecutor\u001b[49m\u001b[38;5;241;43m.\u001b[39;49m\u001b[43mspin_until_future_complete\u001b[49m\u001b[43m(\u001b[49m\u001b[43mfuture\u001b[49m\u001b[43m,\u001b[49m\u001b[43m \u001b[49m\u001b[43mtimeout_sec\u001b[49m\u001b[43m)\u001b[49m\n\u001b[1;32m    249\u001b[0m \u001b[38;5;28;01mfinally\u001b[39;00m:\n\u001b[1;32m    250\u001b[0m     executor\u001b[38;5;241m.\u001b[39mremove_node(node)\n",
      "File \u001b[0;32m/opt/ros/humble/local/lib/python3.10/dist-packages/rclpy/executors.py:295\u001b[0m, in \u001b[0;36mExecutor.spin_until_future_complete\u001b[0;34m(self, future, timeout_sec)\u001b[0m\n\u001b[1;32m    292\u001b[0m timeout_left \u001b[38;5;241m=\u001b[39m timeout_sec\n\u001b[1;32m    294\u001b[0m \u001b[38;5;28;01mwhile\u001b[39;00m \u001b[38;5;28mself\u001b[39m\u001b[38;5;241m.\u001b[39m_context\u001b[38;5;241m.\u001b[39mok() \u001b[38;5;129;01mand\u001b[39;00m \u001b[38;5;129;01mnot\u001b[39;00m future\u001b[38;5;241m.\u001b[39mdone() \u001b[38;5;129;01mand\u001b[39;00m \u001b[38;5;129;01mnot\u001b[39;00m \u001b[38;5;28mself\u001b[39m\u001b[38;5;241m.\u001b[39m_is_shutdown:\n\u001b[0;32m--> 295\u001b[0m     \u001b[38;5;28;43mself\u001b[39;49m\u001b[38;5;241;43m.\u001b[39;49m\u001b[43mspin_once_until_future_complete\u001b[49m\u001b[43m(\u001b[49m\u001b[43mfuture\u001b[49m\u001b[43m,\u001b[49m\u001b[43m \u001b[49m\u001b[43mtimeout_left\u001b[49m\u001b[43m)\u001b[49m\n\u001b[1;32m    296\u001b[0m     now \u001b[38;5;241m=\u001b[39m time\u001b[38;5;241m.\u001b[39mmonotonic()\n\u001b[1;32m    298\u001b[0m     \u001b[38;5;28;01mif\u001b[39;00m now \u001b[38;5;241m>\u001b[39m\u001b[38;5;241m=\u001b[39m end:\n",
      "File \u001b[0;32m/opt/ros/humble/local/lib/python3.10/dist-packages/rclpy/executors.py:716\u001b[0m, in \u001b[0;36mSingleThreadedExecutor.spin_once_until_future_complete\u001b[0;34m(self, future, timeout_sec)\u001b[0m\n\u001b[1;32m    715\u001b[0m \u001b[38;5;28;01mdef\u001b[39;00m \u001b[38;5;21mspin_once_until_future_complete\u001b[39m(\u001b[38;5;28mself\u001b[39m, future: Future, timeout_sec: \u001b[38;5;28mfloat\u001b[39m \u001b[38;5;241m=\u001b[39m \u001b[38;5;28;01mNone\u001b[39;00m) \u001b[38;5;241m-\u001b[39m\u001b[38;5;241m>\u001b[39m \u001b[38;5;28;01mNone\u001b[39;00m:\n\u001b[0;32m--> 716\u001b[0m     \u001b[38;5;28;43mself\u001b[39;49m\u001b[38;5;241;43m.\u001b[39;49m\u001b[43mspin_once\u001b[49m\u001b[43m(\u001b[49m\u001b[43mtimeout_sec\u001b[49m\u001b[43m)\u001b[49m\n",
      "File \u001b[0;32m/opt/ros/humble/local/lib/python3.10/dist-packages/rclpy/executors.py:705\u001b[0m, in \u001b[0;36mSingleThreadedExecutor.spin_once\u001b[0;34m(self, timeout_sec)\u001b[0m\n\u001b[1;32m    703\u001b[0m \u001b[38;5;28;01mdef\u001b[39;00m \u001b[38;5;21mspin_once\u001b[39m(\u001b[38;5;28mself\u001b[39m, timeout_sec: \u001b[38;5;28mfloat\u001b[39m \u001b[38;5;241m=\u001b[39m \u001b[38;5;28;01mNone\u001b[39;00m) \u001b[38;5;241m-\u001b[39m\u001b[38;5;241m>\u001b[39m \u001b[38;5;28;01mNone\u001b[39;00m:\n\u001b[1;32m    704\u001b[0m     \u001b[38;5;28;01mtry\u001b[39;00m:\n\u001b[0;32m--> 705\u001b[0m         handler, entity, node \u001b[38;5;241m=\u001b[39m \u001b[38;5;28;43mself\u001b[39;49m\u001b[38;5;241;43m.\u001b[39;49m\u001b[43mwait_for_ready_callbacks\u001b[49m\u001b[43m(\u001b[49m\u001b[43mtimeout_sec\u001b[49m\u001b[38;5;241;43m=\u001b[39;49m\u001b[43mtimeout_sec\u001b[49m\u001b[43m)\u001b[49m\n\u001b[1;32m    706\u001b[0m     \u001b[38;5;28;01mexcept\u001b[39;00m ShutdownException:\n\u001b[1;32m    707\u001b[0m         \u001b[38;5;28;01mpass\u001b[39;00m\n",
      "File \u001b[0;32m/opt/ros/humble/local/lib/python3.10/dist-packages/rclpy/executors.py:691\u001b[0m, in \u001b[0;36mExecutor.wait_for_ready_callbacks\u001b[0;34m(self, *args, **kwargs)\u001b[0m\n\u001b[1;32m    688\u001b[0m     \u001b[38;5;28mself\u001b[39m\u001b[38;5;241m.\u001b[39m_cb_iter \u001b[38;5;241m=\u001b[39m \u001b[38;5;28mself\u001b[39m\u001b[38;5;241m.\u001b[39m_wait_for_ready_callbacks(\u001b[38;5;241m*\u001b[39margs, \u001b[38;5;241m*\u001b[39m\u001b[38;5;241m*\u001b[39mkwargs)\n\u001b[1;32m    690\u001b[0m \u001b[38;5;28;01mtry\u001b[39;00m:\n\u001b[0;32m--> 691\u001b[0m     \u001b[38;5;28;01mreturn\u001b[39;00m \u001b[38;5;28;43mnext\u001b[39;49m\u001b[43m(\u001b[49m\u001b[38;5;28;43mself\u001b[39;49m\u001b[38;5;241;43m.\u001b[39;49m\u001b[43m_cb_iter\u001b[49m\u001b[43m)\u001b[49m\n\u001b[1;32m    692\u001b[0m \u001b[38;5;28;01mexcept\u001b[39;00m \u001b[38;5;167;01mStopIteration\u001b[39;00m:\n\u001b[1;32m    693\u001b[0m     \u001b[38;5;66;03m# Generator ran out of work\u001b[39;00m\n\u001b[1;32m    694\u001b[0m     \u001b[38;5;28mself\u001b[39m\u001b[38;5;241m.\u001b[39m_cb_iter \u001b[38;5;241m=\u001b[39m \u001b[38;5;28;01mNone\u001b[39;00m\n",
      "File \u001b[0;32m/opt/ros/humble/local/lib/python3.10/dist-packages/rclpy/executors.py:494\u001b[0m, in \u001b[0;36mExecutor._wait_for_ready_callbacks\u001b[0;34m(self, timeout_sec, nodes, condition)\u001b[0m\n\u001b[1;32m    492\u001b[0m subscriptions\u001b[38;5;241m.\u001b[39mextend(\u001b[38;5;28mfilter\u001b[39m(\u001b[38;5;28mself\u001b[39m\u001b[38;5;241m.\u001b[39mcan_execute, node\u001b[38;5;241m.\u001b[39msubscriptions))\n\u001b[1;32m    493\u001b[0m timers\u001b[38;5;241m.\u001b[39mextend(\u001b[38;5;28mfilter\u001b[39m(\u001b[38;5;28mself\u001b[39m\u001b[38;5;241m.\u001b[39mcan_execute, node\u001b[38;5;241m.\u001b[39mtimers))\n\u001b[0;32m--> 494\u001b[0m \u001b[43mclients\u001b[49m\u001b[38;5;241;43m.\u001b[39;49m\u001b[43mextend\u001b[49m\u001b[43m(\u001b[49m\u001b[38;5;28;43mfilter\u001b[39;49m\u001b[43m(\u001b[49m\u001b[38;5;28;43mself\u001b[39;49m\u001b[38;5;241;43m.\u001b[39;49m\u001b[43mcan_execute\u001b[49m\u001b[43m,\u001b[49m\u001b[43m \u001b[49m\u001b[43mnode\u001b[49m\u001b[38;5;241;43m.\u001b[39;49m\u001b[43mclients\u001b[49m\u001b[43m)\u001b[49m\u001b[43m)\u001b[49m\n\u001b[1;32m    495\u001b[0m services\u001b[38;5;241m.\u001b[39mextend(\u001b[38;5;28mfilter\u001b[39m(\u001b[38;5;28mself\u001b[39m\u001b[38;5;241m.\u001b[39mcan_execute, node\u001b[38;5;241m.\u001b[39mservices))\n\u001b[1;32m    496\u001b[0m node_guards \u001b[38;5;241m=\u001b[39m \u001b[38;5;28mfilter\u001b[39m(\u001b[38;5;28mself\u001b[39m\u001b[38;5;241m.\u001b[39mcan_execute, node\u001b[38;5;241m.\u001b[39mguards)\n",
      "File \u001b[0;32m/opt/ros/humble/local/lib/python3.10/dist-packages/rclpy/executors.py:438\u001b[0m, in \u001b[0;36mExecutor.can_execute\u001b[0;34m(self, entity)\u001b[0m\n\u001b[1;32m    431\u001b[0m \u001b[38;5;28;01mdef\u001b[39;00m \u001b[38;5;21mcan_execute\u001b[39m(\u001b[38;5;28mself\u001b[39m, entity: WaitableEntityType) \u001b[38;5;241m-\u001b[39m\u001b[38;5;241m>\u001b[39m \u001b[38;5;28mbool\u001b[39m:\n\u001b[1;32m    432\u001b[0m     \u001b[38;5;124;03m\"\"\"\u001b[39;00m\n\u001b[1;32m    433\u001b[0m \u001b[38;5;124;03m    Determine if a callback for an entity can be executed.\u001b[39;00m\n\u001b[1;32m    434\u001b[0m \n\u001b[1;32m    435\u001b[0m \u001b[38;5;124;03m    :param entity: Subscription, Timer, Guard condition, etc\u001b[39;00m\n\u001b[1;32m    436\u001b[0m \u001b[38;5;124;03m    :returns: ``True`` if the entity callback can be executed, ``False`` otherwise.\u001b[39;00m\n\u001b[1;32m    437\u001b[0m \u001b[38;5;124;03m    \"\"\"\u001b[39;00m\n\u001b[0;32m--> 438\u001b[0m     \u001b[38;5;28;01mreturn\u001b[39;00m \u001b[38;5;129;01mnot\u001b[39;00m entity\u001b[38;5;241m.\u001b[39m_executor_event \u001b[38;5;129;01mand\u001b[39;00m \u001b[43mentity\u001b[49m\u001b[38;5;241;43m.\u001b[39;49m\u001b[43mcallback_group\u001b[49m\u001b[38;5;241;43m.\u001b[39;49m\u001b[43mcan_execute\u001b[49m\u001b[43m(\u001b[49m\u001b[43mentity\u001b[49m\u001b[43m)\u001b[49m\n",
      "File \u001b[0;32m/opt/ros/humble/local/lib/python3.10/dist-packages/rclpy/callback_groups.py:101\u001b[0m, in \u001b[0;36mMutuallyExclusiveCallbackGroup.can_execute\u001b[0;34m(self, entity)\u001b[0m\n\u001b[1;32m     98\u001b[0m     \u001b[38;5;28mself\u001b[39m\u001b[38;5;241m.\u001b[39m_active_entity \u001b[38;5;241m=\u001b[39m \u001b[38;5;28;01mNone\u001b[39;00m\n\u001b[1;32m     99\u001b[0m     \u001b[38;5;28mself\u001b[39m\u001b[38;5;241m.\u001b[39m_lock \u001b[38;5;241m=\u001b[39m Lock()\n\u001b[0;32m--> 101\u001b[0m \u001b[38;5;28;01mdef\u001b[39;00m \u001b[38;5;21mcan_execute\u001b[39m(\u001b[38;5;28mself\u001b[39m, entity):\n\u001b[1;32m    102\u001b[0m     \u001b[38;5;28;01mwith\u001b[39;00m \u001b[38;5;28mself\u001b[39m\u001b[38;5;241m.\u001b[39m_lock:\n\u001b[1;32m    103\u001b[0m         \u001b[38;5;28;01massert\u001b[39;00m weakref\u001b[38;5;241m.\u001b[39mref(entity) \u001b[38;5;129;01min\u001b[39;00m \u001b[38;5;28mself\u001b[39m\u001b[38;5;241m.\u001b[39mentities\n",
      "\u001b[0;31mKeyboardInterrupt\u001b[0m: "
     ]
    }
   ],
   "source": [
    "\n",
    "\n",
    "goal_pose = PoseStamped()\n",
    "goal_pose.header.frame_id = 'map'\n",
    "goal_pose.header.stamp = navigator.get_clock().now().to_msg()\n",
    "goal_pose.pose.position.x = 0.45\n",
    "goal_pose.pose.position.y = 1.91\n",
    "goal_pose.pose.orientation.w = 2.0\n",
    "\n",
    "#additional_pose =  PoseStamped()\n",
    "#additional_pose.header.frame_id = 'map'\n",
    "#additional_pose.header.stamp = navigator.get_clock().now().to_msg()\n",
    "#additional_pose.pose.position.x = 2.97\n",
    "#additional_pose.pose.position.y = 2.23\n",
    "#additional_pose.pose.orientation.w = 2.0\n",
    "\n",
    "\n",
    "pose_three =  PoseStamped()\n",
    "pose_three.header.frame_id = 'map'\n",
    "pose_three.header.stamp = navigator.get_clock().now().to_msg()\n",
    "pose_three.pose.position.x = 2.53\n",
    "pose_three.pose.position.y = 0.99\n",
    "pose_three.pose.orientation.w = 0.0\n",
    "\n",
    "goal_poses = [goal_pose,pose_three]\n",
    "\n",
    "navigator.goThroughPoses(goal_poses)\n",
    "i = 0\n",
    "while not navigator.isTaskComplete():\n",
    "            i += 1\n",
    "            feedback = navigator.getFeedback()\n",
    "            if feedback and i % 5 == 0:\n",
    "                print('Estimated time to complete current route: ' + '{0:.0f}'.format(\n",
    "                      Duration.from_msg(feedback.estimated_time_remaining).nanoseconds / 1e9)\n",
    "                      + ' seconds.')\n",
    "\n",
    "                # Some failure mode, must stop since the robot is clearly stuck\n",
    "                if Duration.from_msg(feedback.navigation_time) > Duration(seconds=180.0):\n",
    "                    print('Navigation has exceeded timeout of 180s, canceling request.')\n",
    "                    navigator.cancelTask()\n"
   ]
  },
  {
   "cell_type": "code",
   "execution_count": null,
   "id": "51163d16",
   "metadata": {},
   "outputs": [],
   "source": []
  },
  {
   "cell_type": "code",
   "execution_count": 17,
   "id": "2cde7f76",
   "metadata": {
    "scrolled": true
   },
   "outputs": [
    {
     "name": "stderr",
     "output_type": "stream",
     "text": [
      "[INFO] [1687879134.813648367] [basic_navigator]: Canceling current task.\n"
     ]
    }
   ],
   "source": [
    "navigator.cancelTask()"
   ]
  },
  {
   "cell_type": "markdown",
   "id": "69523f4a",
   "metadata": {},
   "source": []
  },
  {
   "cell_type": "markdown",
   "id": "b0e56c5b",
   "metadata": {},
   "source": [
    "# Challenge"
   ]
  },
  {
   "cell_type": "code",
   "execution_count": 19,
   "id": "c66f3430",
   "metadata": {},
   "outputs": [],
   "source": [
    "### Zadanie skonstruuj ścieżkę która patroluje dookoła zamku\n",
    "# W czasie patrolowania zamku niech robot printuje kiedy ma przed sobą zieloną ścianę\n",
    "\n"
   ]
  },
  {
   "cell_type": "markdown",
   "id": "b2b454f3",
   "metadata": {},
   "source": [
    "# Podpowiedzi"
   ]
  },
  {
   "cell_type": "code",
   "execution_count": 3,
   "id": "23c75c44",
   "metadata": {},
   "outputs": [],
   "source": [
    "# podpowiedź, tak wygląda przykładowa obsługa obrazu z kamery:\n",
    "from cv_bridge import CvBridge\n",
    "import cv2\n",
    "from sensor_msgs.msg import CameraInfo, Image\n",
    "%matplotlib inline\n",
    "import matplotlib.pyplot as plt\n",
    "\n",
    "import IPython.display # import Image as , display\n",
    "from io import BytesIO\n",
    "import matplotlib as mpl\n",
    "\n",
    "\n",
    "def arr2img(arr):\n",
    "    \"\"\"Display a 2- or 3-d numpy array as an image.\"\"\"\n",
    "    if arr.ndim == 2:\n",
    "        format, cmap = 'png', mpl.cm.gray\n",
    "    elif arr.ndim == 3:\n",
    "        format, cmap = 'jpg', None\n",
    "    else:\n",
    "        raise ValueError(\"Only 2- or 3-d arrays can be displayed as images.\")\n",
    "    # Don't let matplotlib autoscale the color range so we can control overall luminosity\n",
    "    vmax = 255 if arr.dtype == 'uint8' else 1.0\n",
    "    with BytesIO() as buffer:\n",
    "        mpl.image.imsave(buffer, arr, format=format, cmap=cmap, vmin=0, vmax=vmax)\n",
    "        out = buffer.getvalue()\n",
    "    return IPython.display.Image(out)\n",
    "\n",
    "def camera_image_callback(rgb_msg):\n",
    "    \"show the camera image on the global dh display\"\n",
    "    rgb_image = CvBridge().imgmsg_to_cv2(rgb_msg, desired_encoding=\"rgb8\") # mamy obraz R-red G- green B- blue\n",
    "\n",
    "    dh.update(arr2img(rgb_image)) #demo do wyswietlania w oknie pod spodem\n",
    "    \n",
    "    return arr2img(rgb_image)\n",
    "    \n",
    "\n",
    "#turtle_mover.image_subscription.callback = camera_image_callback\n",
    "image_subscription = minimal_node.create_subscription(Image,\n",
    "                                                                   \"/camera/image_raw\", \n",
    "                                                                   camera_image_callback,1)"
   ]
  },
  {
   "cell_type": "code",
   "execution_count": 4,
   "id": "711bf71a",
   "metadata": {},
   "outputs": [],
   "source": [
    "import subscription_threaded"
   ]
  },
  {
   "cell_type": "code",
   "execution_count": 5,
   "id": "a77b16b7",
   "metadata": {},
   "outputs": [],
   "source": [
    "threaded_spinner = subscription_threaded.ThreadedSpinner(minimal_node)"
   ]
  },
  {
   "cell_type": "code",
   "execution_count": 6,
   "id": "889b21d5",
   "metadata": {},
   "outputs": [
    {
     "data": {
      "image/jpeg": "[encoded data removed]",
      "text/plain": [
       "<IPython.core.display.Image object>"
      ]
     },
     "metadata": {},
     "output_type": "display_data"
    },
    {
     "data": {
      "image/jpeg": "[encoded data removed]",
      "text/plain": [
       "<IPython.core.display.Image object>"
      ]
     },
     "metadata": {},
     "output_type": "display_data"
    }
   ],
   "source": [
    "dh = IPython.display.display(display_id=True)\n",
    "dh.display(\"https://image.shutterstock.com/image-vector/example-red-square-grunge-stamp-260nw-327662909.jpg\")\n",
    "threaded_spinner.spin_in_thread()"
   ]
  },
  {
   "cell_type": "code",
   "execution_count": 8,
   "id": "d221dc4f",
   "metadata": {
    "scrolled": true
   },
   "outputs": [
    {
     "name": "stdout",
     "output_type": "stream",
     "text": [
      "stopped spinning in thread\n"
     ]
    },
    {
     "data": {
      "text/plain": [
       "True"
      ]
     },
     "execution_count": 8,
     "metadata": {},
     "output_type": "execute_result"
    }
   ],
   "source": [
    "threaded_spinner.stop()\n",
    "minimal_node.destroy_subscription(image_subscription)"
   ]
  },
  {
   "cell_type": "code",
   "execution_count": 15,
   "id": "9a6965c7",
   "metadata": {},
   "outputs": [
    {
     "data": {
      "text/plain": [
       "True"
      ]
     },
     "execution_count": 15,
     "metadata": {},
     "output_type": "execute_result"
    }
   ],
   "source": []
  },
  {
   "cell_type": "markdown",
   "id": "ac42d5f1",
   "metadata": {},
   "source": [
    "[Next exercise: 7. ROS Action](7.%20ROS%20Action.ipynb)"
   ]
  }
 ],
 "metadata": {
  "kernelspec": {
   "display_name": "Python 3 (ipykernel)",
   "language": "python",
   "name": "python3"
  },
  "language_info": {
   "codemirror_mode": {
    "name": "ipython",
    "version": 3
   },
   "file_extension": ".py",
   "mimetype": "text/x-python",
   "name": "python",
   "nbconvert_exporter": "python",
   "pygments_lexer": "ipython3",
   "version": "3.10.6"
  }
 },
 "nbformat": 4,
 "nbformat_minor": 5
}

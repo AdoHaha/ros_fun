{
 "cells": [
  {
   "cell_type": "markdown",
   "id": "8bc7c8d0",
   "metadata": {},
   "source": [
    "# ROS Action\n",
    "Niewątpliwie tu zaczyna się akcja. Przeznaczone do skomplikowanych działań zachowują się jak service (zadajemy cel i wreszcie dostajemy wynik) jak i topic (dostajemy sprzężenie zwrotne).\n",
    "\n",
    "Większość akcji robota związanych jest z ruchem -- przemieszczaniem się robota w pomieszczeniu albo ruchem ramienia. Robot otrzymuje zadanie -- np. dojedź do punktu i informuje o przebiegu wykonywnia zadania"
   ]
  },
  {
   "cell_type": "code",
   "execution_count": null,
   "id": "7db9eeff",
   "metadata": {},
   "outputs": [],
   "source": []
  }
 ],
 "metadata": {
  "kernelspec": {
   "display_name": "Python 3 (ipykernel)",
   "language": "python",
   "name": "python3"
  },
  "language_info": {
   "codemirror_mode": {
    "name": "ipython",
    "version": 3
   },
   "file_extension": ".py",
   "mimetype": "text/x-python",
   "name": "python",
   "nbconvert_exporter": "python",
   "pygments_lexer": "ipython3",
   "version": "3.10.6"
  }
 },
 "nbformat": 4,
 "nbformat_minor": 5
}

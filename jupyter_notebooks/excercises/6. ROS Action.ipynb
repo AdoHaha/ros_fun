{
 "cells": [
  {
   "cell_type": "markdown",
   "id": "91842e01",
   "metadata": {},
   "source": [
    "# ROS Action\n",
    "\n",
    "Niewątpliwie tu zaczyna się akcja. Przeznaczone do skomplikowanych działań zachowują się jak service (zadajemy cel i wreszcie dostajemy wynik) jak i topic (dostajemy sprzężenie zwrotne)\n",
    "\n"
   ]
  }
 ],
 "metadata": {
  "kernelspec": {
   "display_name": "Python 3 (ipykernel)",
   "language": "python",
   "name": "python3"
  },
  "language_info": {
   "codemirror_mode": {
    "name": "ipython",
    "version": 3
   },
   "file_extension": ".py",
   "mimetype": "text/x-python",
   "name": "python",
   "nbconvert_exporter": "python",
   "pygments_lexer": "ipython3",
   "version": "3.10.6"
  }
 },
 "nbformat": 4,
 "nbformat_minor": 5
}

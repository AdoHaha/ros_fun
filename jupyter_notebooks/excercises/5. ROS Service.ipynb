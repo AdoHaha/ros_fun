{
 "cells": [
  {
   "cell_type": "markdown",
   "id": "bef02bf6",
   "metadata": {},
   "source": [
    "# Services\n",
    "\n",
    "Services komunikują się w formie klient-serwer, także za pomocą standardowego interfejsu (srv)\n",
    "\n",
    "Zawsze komunikacja ma charakter pytanie- odpowiedź i jest na zasadzie jeden do jednego\n",
    "\n"
   ]
  },
  {
   "cell_type": "code",
   "execution_count": 1,
   "id": "2b8cb2e3",
   "metadata": {},
   "outputs": [],
   "source": [
    "from run_in_term import run_lxterminal\n",
    "\n",
    "\n",
    "import rclpy\n",
    "from rclpy.node import Node\n",
    "\n",
    "from std_msgs.msg import String\n",
    "\n",
    "\n",
    "class MinimalNode(Node):\n",
    "\n",
    "    def __init__(self):\n",
    "        super().__init__('service_node')\n",
    "    \n",
    "\n",
    "\n",
    "rclpy.init()\n",
    "\n",
    "minimal_node = MinimalNode()\n"
   ]
  },
  {
   "cell_type": "code",
   "execution_count": 3,
   "id": "c0add0ff",
   "metadata": {},
   "outputs": [
    {
     "data": {
      "text/plain": [
       "[('/apply_joint_effort', ['gazebo_msgs/srv/ApplyJointEffort']),\n",
       " ('/apply_link_wrench', ['gazebo_msgs/srv/ApplyLinkWrench']),\n",
       " ('/camera_driver/describe_parameters',\n",
       "  ['rcl_interfaces/srv/DescribeParameters']),\n",
       " ('/camera_driver/get_parameter_types',\n",
       "  ['rcl_interfaces/srv/GetParameterTypes']),\n",
       " ('/camera_driver/get_parameters', ['rcl_interfaces/srv/GetParameters']),\n",
       " ('/camera_driver/list_parameters', ['rcl_interfaces/srv/ListParameters']),\n",
       " ('/camera_driver/set_parameters', ['rcl_interfaces/srv/SetParameters']),\n",
       " ('/camera_driver/set_parameters_atomically',\n",
       "  ['rcl_interfaces/srv/SetParametersAtomically']),\n",
       " ('/clear_joint_efforts', ['gazebo_msgs/srv/JointRequest']),\n",
       " ('/clear_link_wrenches', ['gazebo_msgs/srv/LinkRequest']),\n",
       " ('/delete_entity', ['gazebo_msgs/srv/DeleteEntity']),\n",
       " ('/gazebo/describe_parameters', ['rcl_interfaces/srv/DescribeParameters']),\n",
       " ('/gazebo/get_parameter_types', ['rcl_interfaces/srv/GetParameterTypes']),\n",
       " ('/gazebo/get_parameters', ['rcl_interfaces/srv/GetParameters']),\n",
       " ('/gazebo/list_parameters', ['rcl_interfaces/srv/ListParameters']),\n",
       " ('/gazebo/set_parameters', ['rcl_interfaces/srv/SetParameters']),\n",
       " ('/gazebo/set_parameters_atomically',\n",
       "  ['rcl_interfaces/srv/SetParametersAtomically']),\n",
       " ('/get_model_list', ['gazebo_msgs/srv/GetModelList']),\n",
       " ('/minimal_subscriber/describe_parameters',\n",
       "  ['rcl_interfaces/srv/DescribeParameters']),\n",
       " ('/minimal_subscriber/get_parameter_types',\n",
       "  ['rcl_interfaces/srv/GetParameterTypes']),\n",
       " ('/minimal_subscriber/get_parameters', ['rcl_interfaces/srv/GetParameters']),\n",
       " ('/minimal_subscriber/list_parameters',\n",
       "  ['rcl_interfaces/srv/ListParameters']),\n",
       " ('/minimal_subscriber/set_parameters', ['rcl_interfaces/srv/SetParameters']),\n",
       " ('/minimal_subscriber/set_parameters_atomically',\n",
       "  ['rcl_interfaces/srv/SetParametersAtomically']),\n",
       " ('/pause_physics', ['std_srvs/srv/Empty']),\n",
       " ('/reset_simulation', ['std_srvs/srv/Empty']),\n",
       " ('/reset_world', ['std_srvs/srv/Empty']),\n",
       " ('/robot_state_publisher/describe_parameters',\n",
       "  ['rcl_interfaces/srv/DescribeParameters']),\n",
       " ('/robot_state_publisher/get_parameter_types',\n",
       "  ['rcl_interfaces/srv/GetParameterTypes']),\n",
       " ('/robot_state_publisher/get_parameters',\n",
       "  ['rcl_interfaces/srv/GetParameters']),\n",
       " ('/robot_state_publisher/list_parameters',\n",
       "  ['rcl_interfaces/srv/ListParameters']),\n",
       " ('/robot_state_publisher/set_parameters',\n",
       "  ['rcl_interfaces/srv/SetParameters']),\n",
       " ('/robot_state_publisher/set_parameters_atomically',\n",
       "  ['rcl_interfaces/srv/SetParametersAtomically']),\n",
       " ('/service_node/describe_parameters',\n",
       "  ['rcl_interfaces/srv/DescribeParameters']),\n",
       " ('/service_node/get_parameter_types',\n",
       "  ['rcl_interfaces/srv/GetParameterTypes']),\n",
       " ('/service_node/get_parameters', ['rcl_interfaces/srv/GetParameters']),\n",
       " ('/service_node/list_parameters', ['rcl_interfaces/srv/ListParameters']),\n",
       " ('/service_node/set_parameters', ['rcl_interfaces/srv/SetParameters']),\n",
       " ('/service_node/set_parameters_atomically',\n",
       "  ['rcl_interfaces/srv/SetParametersAtomically']),\n",
       " ('/set_camera_info', ['sensor_msgs/srv/SetCameraInfo']),\n",
       " ('/spawn_entity', ['gazebo_msgs/srv/SpawnEntity']),\n",
       " ('/turtlebot3_diff_drive/describe_parameters',\n",
       "  ['rcl_interfaces/srv/DescribeParameters']),\n",
       " ('/turtlebot3_diff_drive/get_parameter_types',\n",
       "  ['rcl_interfaces/srv/GetParameterTypes']),\n",
       " ('/turtlebot3_diff_drive/get_parameters',\n",
       "  ['rcl_interfaces/srv/GetParameters']),\n",
       " ('/turtlebot3_diff_drive/list_parameters',\n",
       "  ['rcl_interfaces/srv/ListParameters']),\n",
       " ('/turtlebot3_diff_drive/set_parameters',\n",
       "  ['rcl_interfaces/srv/SetParameters']),\n",
       " ('/turtlebot3_diff_drive/set_parameters_atomically',\n",
       "  ['rcl_interfaces/srv/SetParametersAtomically']),\n",
       " ('/turtlebot3_imu/describe_parameters',\n",
       "  ['rcl_interfaces/srv/DescribeParameters']),\n",
       " ('/turtlebot3_imu/get_parameter_types',\n",
       "  ['rcl_interfaces/srv/GetParameterTypes']),\n",
       " ('/turtlebot3_imu/get_parameters', ['rcl_interfaces/srv/GetParameters']),\n",
       " ('/turtlebot3_imu/list_parameters', ['rcl_interfaces/srv/ListParameters']),\n",
       " ('/turtlebot3_imu/set_parameters', ['rcl_interfaces/srv/SetParameters']),\n",
       " ('/turtlebot3_imu/set_parameters_atomically',\n",
       "  ['rcl_interfaces/srv/SetParametersAtomically']),\n",
       " ('/turtlebot3_joint_state/describe_parameters',\n",
       "  ['rcl_interfaces/srv/DescribeParameters']),\n",
       " ('/turtlebot3_joint_state/get_parameter_types',\n",
       "  ['rcl_interfaces/srv/GetParameterTypes']),\n",
       " ('/turtlebot3_joint_state/get_parameters',\n",
       "  ['rcl_interfaces/srv/GetParameters']),\n",
       " ('/turtlebot3_joint_state/list_parameters',\n",
       "  ['rcl_interfaces/srv/ListParameters']),\n",
       " ('/turtlebot3_joint_state/set_parameters',\n",
       "  ['rcl_interfaces/srv/SetParameters']),\n",
       " ('/turtlebot3_joint_state/set_parameters_atomically',\n",
       "  ['rcl_interfaces/srv/SetParametersAtomically']),\n",
       " ('/turtlebot3_laserscan/describe_parameters',\n",
       "  ['rcl_interfaces/srv/DescribeParameters']),\n",
       " ('/turtlebot3_laserscan/get_parameter_types',\n",
       "  ['rcl_interfaces/srv/GetParameterTypes']),\n",
       " ('/turtlebot3_laserscan/get_parameters',\n",
       "  ['rcl_interfaces/srv/GetParameters']),\n",
       " ('/turtlebot3_laserscan/list_parameters',\n",
       "  ['rcl_interfaces/srv/ListParameters']),\n",
       " ('/turtlebot3_laserscan/set_parameters',\n",
       "  ['rcl_interfaces/srv/SetParameters']),\n",
       " ('/turtlebot3_laserscan/set_parameters_atomically',\n",
       "  ['rcl_interfaces/srv/SetParametersAtomically']),\n",
       " ('/unpause_physics', ['std_srvs/srv/Empty'])]"
      ]
     },
     "execution_count": 3,
     "metadata": {},
     "output_type": "execute_result"
    }
   ],
   "source": [
    "minimal_node.get_service_names_and_types() # so many parameters"
   ]
  },
  {
   "cell_type": "code",
   "execution_count": null,
   "id": "94b80932",
   "metadata": {},
   "outputs": [],
   "source": [
    "# so many parameters"
   ]
  },
  {
   "cell_type": "code",
   "execution_count": 10,
   "id": "09dda546",
   "metadata": {},
   "outputs": [],
   "source": [
    "# dowiedzmy się może o laserze\n",
    "\n",
    "from rcl_interfaces.srv import GetParameters, ListParameters\n",
    "\n",
    "cli = minimal_node.create_client(ListParameters, \"/turtlebot3_laserscan/list_parameters\")"
   ]
  },
  {
   "cell_type": "code",
   "execution_count": 11,
   "id": "b49e8324",
   "metadata": {},
   "outputs": [],
   "source": [
    "req = ListParameters.Request()\n",
    "future = cli.call_async(req)"
   ]
  },
  {
   "cell_type": "code",
   "execution_count": 12,
   "id": "ee6a9d7d",
   "metadata": {},
   "outputs": [],
   "source": [
    "rclpy.spin_until_future_complete(minimal_node, future)\n"
   ]
  },
  {
   "cell_type": "code",
   "execution_count": 33,
   "id": "b34b1b74",
   "metadata": {},
   "outputs": [
    {
     "name": "stdout",
     "output_type": "stream",
     "text": [
      "rcl_interfaces.srv.ListParameters_Response(result=rcl_interfaces.msg.ListParametersResult(names=['qos_overrides./clock.subscription.depth', 'qos_overrides./clock.subscription.durability', 'qos_overrides./clock.subscription.history', 'qos_overrides./clock.subscription.reliability', 'qos_overrides./parameter_events.publisher.depth', 'qos_overrides./parameter_events.publisher.durability', 'qos_overrides./parameter_events.publisher.history', 'qos_overrides./parameter_events.publisher.reliability', 'use_sim_time'], prefixes=['qos_overrides./clock.subscription', 'qos_overrides./parameter_events.publisher']))\n",
      "['qos_overrides./clock.subscription.depth', 'qos_overrides./clock.subscription.durability', 'qos_overrides./clock.subscription.history', 'qos_overrides./clock.subscription.reliability', 'qos_overrides./parameter_events.publisher.depth', 'qos_overrides./parameter_events.publisher.durability', 'qos_overrides./parameter_events.publisher.history', 'qos_overrides./parameter_events.publisher.reliability', 'use_sim_time']\n"
     ]
    }
   ],
   "source": [
    "print(future.result())\n",
    "print(future.result().result.names)"
   ]
  },
  {
   "cell_type": "code",
   "execution_count": 39,
   "id": "b71f04a8",
   "metadata": {},
   "outputs": [],
   "source": [
    "from rcl_interfaces.srv import GetParameters, ListParameters\n",
    "\n",
    "cli2 = minimal_node.create_client(GetParameters, \"/turtlebot3_laserscan/get_parameters\")\n",
    "\n",
    "#req2 = GetParameters.Request(names=future.result().result.names)\n",
    "req2 = GetParameters.Request(names=[\"use_sim_time\"])\n",
    "\n",
    "\n",
    "future2 = cli2.call_async(req2)\n",
    "\n",
    "rclpy.spin_until_future_complete(minimal_node, future2)\n"
   ]
  },
  {
   "cell_type": "code",
   "execution_count": null,
   "id": "2ec4912a",
   "metadata": {},
   "outputs": [],
   "source": [
    "def get_parameters():\n",
    "    cli2 = minimal_node.create_client(GetParameters, \"/turtlebot3_laserscan/get_parameters\")\n",
    "\n",
    "    #req2 = GetParameters.Request(names=future.result().result.names)\n",
    "    req2 = GetParameters.Request(names=[\"use_sim_time\"])\n",
    "\n",
    "\n",
    "    future2 = cli2.call_async(req2)\n",
    "\n",
    "    rclpy.spin_until_future_complete(minimal_node, future2)\n",
    "    \n",
    "    return future2.result()"
   ]
  },
  {
   "cell_type": "code",
   "execution_count": 40,
   "id": "f4acf307",
   "metadata": {
    "scrolled": true
   },
   "outputs": [
    {
     "data": {
      "text/plain": [
       "rcl_interfaces.srv.GetParameters_Response(values=[rcl_interfaces.msg.ParameterValue(type=1, bool_value=True, integer_value=0, double_value=0.0, string_value='', byte_array_value=[], bool_array_value=[], integer_array_value=[], double_array_value=[], string_array_value=[])])"
      ]
     },
     "execution_count": 40,
     "metadata": {},
     "output_type": "execute_result"
    }
   ],
   "source": [
    "future2.result()"
   ]
  },
  {
   "cell_type": "code",
   "execution_count": null,
   "id": "8f5ab57a",
   "metadata": {},
   "outputs": [],
   "source": [
    "#Excercise\n",
    "\n",
    "# Try to pause simulation using the '/pause_physics', ['std_srvs/srv/Empty'])\n",
    "# Then unpause using the '/unpause_physics', ['std_srvs/srv/Empty'])"
   ]
  }
 ],
 "metadata": {
  "kernelspec": {
   "display_name": "Python 3 (ipykernel)",
   "language": "python",
   "name": "python3"
  },
  "language_info": {
   "codemirror_mode": {
    "name": "ipython",
    "version": 3
   },
   "file_extension": ".py",
   "mimetype": "text/x-python",
   "name": "python",
   "nbconvert_exporter": "python",
   "pygments_lexer": "ipython3",
   "version": "3.10.6"
  }
 },
 "nbformat": 4,
 "nbformat_minor": 5
}

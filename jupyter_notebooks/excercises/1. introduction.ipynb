{
 "cells": [
  {
   "cell_type": "markdown",
   "id": "045119c4",
   "metadata": {
    "slideshow": {
     "slide_type": "slide"
    }
   },
   "source": [
    "# Symuluj robota z Python i Robot Operating System 2 (ROS 2)\n",
    "\n",
    "Cel: zrozumieć o co chodzi z ROS i jak zacząć ruszać (wirtualnymi -> rzeczywistymi) robotami\n"
   ]
  },
  {
   "cell_type": "markdown",
   "id": "c1a239b2",
   "metadata": {
    "slideshow": {
     "slide_type": "slide"
    }
   },
   "source": [
    "# Praktykalia, niech się instaluje:\n",
    "\n",
    "Do warsztatów potrzebujemy Docker \n",
    "Jak też obrazu z github: https://github.com/AdoHaha/ros_fun/tree/humble_pycon\n",
    "\n",
    " ```\n",
    "        git clone https://github.com/AdoHaha/ros_fun -b humble_pycon\n",
    "        \n",
    "            cd ros_fun\n",
    "            \n",
    "            docker compose up\n",
    " ```\n",
    " \n",
    " W drugim oknie\n",
    " \n",
    " ```\n",
    " docker container exec -it --user ubuntu ros_fun bash -i /home/ubuntu/run_jupyter.sh\n",
    "\n",
    "```"
   ]
  },
  {
   "cell_type": "markdown",
   "id": "7ba80817",
   "metadata": {
    "slideshow": {
     "slide_type": "slide"
    }
   },
   "source": [
    "# O mnie\n",
    "\n",
    "Adiunkt w Zakładzie Sterowania Robotów gdzie zajmuje się robotyką nakierowaną na człowieka\n",
    "Kierownik zespołu R&D zajmującego się inteligencją w sklepach w firmie Marketlab"
   ]
  }
 ],
 "metadata": {
  "celltoolbar": "Slideshow",
  "kernelspec": {
   "display_name": "Python 3 (ipykernel)",
   "language": "python",
   "name": "python3"
  },
  "language_info": {
   "codemirror_mode": {
    "name": "ipython",
    "version": 3
   },
   "file_extension": ".py",
   "mimetype": "text/x-python",
   "name": "python",
   "nbconvert_exporter": "python",
   "pygments_lexer": "ipython3",
   "version": "3.10.6"
  }
 },
 "nbformat": 4,
 "nbformat_minor": 5
}
